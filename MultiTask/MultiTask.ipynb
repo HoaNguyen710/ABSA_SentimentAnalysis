{
  "metadata": {
    "kernelspec": {
      "name": "python3",
      "display_name": "Python 3",
      "language": "python"
    },
    "language_info": {
      "name": "python",
      "version": "3.10.12",
      "mimetype": "text/x-python",
      "codemirror_mode": {
        "name": "ipython",
        "version": 3
      },
      "pygments_lexer": "ipython3",
      "nbconvert_exporter": "python",
      "file_extension": ".py"
    },
    "colab": {
      "provenance": [],
      "toc_visible": true,
      "name": "MultiTask"
    },
    "kaggle": {
      "accelerator": "gpu",
      "dataSources": [
        {
          "sourceId": 10282831,
          "sourceType": "datasetVersion",
          "datasetId": 6363319
        },
        {
          "sourceId": 10284654,
          "sourceType": "datasetVersion",
          "datasetId": 6364390
        }
      ],
      "dockerImageVersionId": 30823,
      "isInternetEnabled": true,
      "language": "python",
      "sourceType": "notebook",
      "isGpuEnabled": true
    }
  },
  "nbformat_minor": 0,
  "nbformat": 4,
  "cells": [
    {
      "cell_type": "code",
      "source": [],
      "metadata": {
        "id": "FleOpD5l0mQy",
        "trusted": true
      },
      "outputs": [],
      "execution_count": null
    },
    {
      "cell_type": "code",
      "source": [
        "#!pip install pyvi\n",
        "#!pip install tqdm\n"
      ],
      "metadata": {
        "id": "9HxKideGGW9G",
        "trusted": true,
        "execution": {
          "iopub.status.busy": "2024-12-24T07:02:10.934227Z",
          "iopub.execute_input": "2024-12-24T07:02:10.934548Z",
          "iopub.status.idle": "2024-12-24T07:02:10.938215Z",
          "shell.execute_reply.started": "2024-12-24T07:02:10.934525Z",
          "shell.execute_reply": "2024-12-24T07:02:10.937374Z"
        }
      },
      "outputs": [],
      "execution_count": null
    },
    {
      "cell_type": "code",
      "source": [
        "import pandas as pd\n",
        "import numpy as np\n",
        "import matplotlib.pyplot as plt\n",
        "import re\n",
        "import tensorflow as tf\n",
        "from tensorflow.keras.layers import Input\n",
        "from keras.layers import Dense, Dropout, Concatenate\n",
        "from keras.layers import LSTM, Embedding, Bidirectional, GRU\n",
        "from keras.layers import SpatialDropout1D, Conv1D, GlobalAveragePooling1D, GlobalMaxPooling1D\n",
        "from sklearn.preprocessing import MinMaxScaler\n",
        "from sklearn.metrics import mean_squared_error\n",
        "from tensorflow import keras\n",
        "import matplotlib.pyplot as plt\n",
        "from keras.initializers import Constant\n",
        "from keras.preprocessing.sequence import pad_sequences\n",
        "from tensorflow.keras.preprocessing.text import Tokenizer\n",
        "from keras.losses import BinaryCrossentropy, CategoricalCrossentropy\n",
        "import pickle\n",
        "from tensorflow.keras.optimizers import Adam\n",
        "from sklearn.metrics import classification_report\n",
        "import collections\n",
        "from sklearn.utils.class_weight import compute_class_weight\n",
        "from gensim import models\n",
        "import torch\n",
        "from transformers import AutoModel, AutoTokenizer\n",
        "from pyvi.ViTokenizer import tokenize\n",
        "from tqdm import tqdm\n",
        "import numpy as np"
      ],
      "metadata": {
        "id": "i5N6vmCc0vmz",
        "trusted": true,
        "execution": {
          "iopub.status.busy": "2024-12-24T07:02:13.204717Z",
          "iopub.execute_input": "2024-12-24T07:02:13.205028Z",
          "iopub.status.idle": "2024-12-24T07:02:13.255158Z",
          "shell.execute_reply.started": "2024-12-24T07:02:13.205001Z",
          "shell.execute_reply": "2024-12-24T07:02:13.254518Z"
        }
      },
      "outputs": [],
      "execution_count": null
    },
    {
      "cell_type": "code",
      "source": [
        "def replace_values(value):\n",
        "    if value == 0:\n",
        "        return np.nan  # Thay 0 thành null (NaN)\n",
        "    elif value == 1:\n",
        "        return 0\n",
        "    elif value == 2:\n",
        "        return 1\n",
        "    elif value == 3:\n",
        "        return 2\n",
        "    return value\n",
        "\n",
        "\n",
        "data_train = pd.read_csv('/kaggle/input/sentimentabsa/data_train.csv')\n",
        "data_val = pd.read_csv('/kaggle/input/sentimentabsa/data_val.csv')\n",
        "data_test = pd.read_csv('/kaggle/input/sentimentabsa/data_test.csv')\n",
        "\n",
        "# Áp dụng hàm thay thế cho các cột A, B, C, D\n",
        "columns_to_replace = ['Quality', 'Smell', 'Shipping', 'Packing', 'Price', 'Other', 'General']\n",
        "data_train[columns_to_replace] = data_train[columns_to_replace].applymap(replace_values)\n",
        "data_test[columns_to_replace] = data_test[columns_to_replace].applymap(replace_values)\n",
        "data_val[columns_to_replace] = data_val[columns_to_replace].applymap(replace_values)\n",
        "\n",
        "\n",
        "data_train.drop('Unnamed: 0', axis = 1, inplace = True)\n",
        "data_val.drop('Unnamed: 0', axis = 1, inplace = True)\n",
        "data_test.drop('Unnamed: 0', axis = 1, inplace = True)\n",
        "data_test.rename(columns={'Tokenized': 'processed_content'}, inplace=True)\n",
        "data_train.rename(columns={'Tokenized': 'processed_content'}, inplace=True)\n",
        "data_val.rename(columns={'Tokenized': 'processed_content'}, inplace=True)\n",
        "data_test.rename(columns={'Quality': 'quality'}, inplace=True)\n",
        "data_train.rename(columns={'Quality': 'quality'}, inplace=True)\n",
        "data_val.rename(columns={'Quality': 'quality'}, inplace=True)\n",
        "data_train.rename(columns={'Smell': 'smell'}, inplace=True)\n",
        "data_test.rename(columns={'Smell': 'smell'}, inplace=True)\n",
        "data_val.rename(columns={'Smell': 'smell'}, inplace=True)\n",
        "data_val.rename(columns={'Shipping': 'shipping'}, inplace=True)\n",
        "data_train.rename(columns={'Shipping': 'shipping'}, inplace=True)\n",
        "data_test.rename(columns={'Shipping': 'shipping'}, inplace=True)\n",
        "data_test.rename(columns={'Packing': 'packing'}, inplace=True)\n",
        "data_train.rename(columns={'Packing': 'packing'}, inplace=True)\n",
        "data_val.rename(columns={'Packing': 'packing'}, inplace=True)\n",
        "data_train.rename(columns={'Price': 'price'}, inplace=True)\n",
        "data_val.rename(columns={'Price': 'price'}, inplace=True)\n",
        "data_test.rename(columns={'Price': 'price'}, inplace=True)\n",
        "data_val.rename(columns={'Other': 'others'}, inplace=True)\n",
        "data_test.rename(columns={'Other': 'others'}, inplace=True)\n",
        "data_train.rename(columns={'Other': 'others'}, inplace=True)"
      ],
      "metadata": {
        "id": "lsToQ5v7GLVt",
        "trusted": true,
        "execution": {
          "iopub.status.busy": "2024-12-24T07:02:20.832496Z",
          "iopub.execute_input": "2024-12-24T07:02:20.832832Z",
          "iopub.status.idle": "2024-12-24T07:02:21.002793Z",
          "shell.execute_reply.started": "2024-12-24T07:02:20.832804Z",
          "shell.execute_reply": "2024-12-24T07:02:21.001885Z"
        },
        "outputId": "2667479e-a5b2-4e65-e3bc-bd1472e80805"
      },
      "outputs": [
        {
          "name": "stderr",
          "text": "<ipython-input-6-1b4dc075d9a1>:19: FutureWarning: DataFrame.applymap has been deprecated. Use DataFrame.map instead.\n  data_train[columns_to_replace] = data_train[columns_to_replace].applymap(replace_values)\n<ipython-input-6-1b4dc075d9a1>:20: FutureWarning: DataFrame.applymap has been deprecated. Use DataFrame.map instead.\n  data_test[columns_to_replace] = data_test[columns_to_replace].applymap(replace_values)\n<ipython-input-6-1b4dc075d9a1>:21: FutureWarning: DataFrame.applymap has been deprecated. Use DataFrame.map instead.\n  data_val[columns_to_replace] = data_val[columns_to_replace].applymap(replace_values)\n",
          "output_type": "stream"
        }
      ],
      "execution_count": null
    },
    {
      "cell_type": "code",
      "source": [
        "replace_dict = {0:1, 1:2,2:3}\n",
        "data_train = data_train.replace(replace_dict).fillna(0)\n",
        "data_val= data_val.replace(replace_dict).fillna(0)\n",
        "data_test = data_test.replace(replace_dict).fillna(0)"
      ],
      "metadata": {
        "id": "RY3wI7SjGd_K",
        "trusted": true,
        "execution": {
          "iopub.status.busy": "2024-12-24T07:02:24.940189Z",
          "iopub.execute_input": "2024-12-24T07:02:24.940547Z",
          "iopub.status.idle": "2024-12-24T07:02:24.964275Z",
          "shell.execute_reply.started": "2024-12-24T07:02:24.940519Z",
          "shell.execute_reply": "2024-12-24T07:02:24.963603Z"
        }
      },
      "outputs": [],
      "execution_count": null
    },
    {
      "cell_type": "code",
      "source": [
        "data_train"
      ],
      "metadata": {
        "colab": {
          "base_uri": "https://localhost:8080/",
          "height": 545
        },
        "id": "K9fpbkeXGfjZ",
        "outputId": "6666d4f4-d778-47a9-a34c-f467c36492df",
        "trusted": true,
        "execution": {
          "iopub.status.busy": "2024-12-24T07:02:28.063998Z",
          "iopub.execute_input": "2024-12-24T07:02:28.06431Z",
          "iopub.status.idle": "2024-12-24T07:02:28.086534Z",
          "shell.execute_reply.started": "2024-12-24T07:02:28.064264Z",
          "shell.execute_reply": "2024-12-24T07:02:28.085831Z"
        }
      },
      "outputs": [
        {
          "execution_count": 8,
          "output_type": "execute_result",
          "data": {
            "text/plain": "                                                 Content  General  others  \\\n0                                          mềm nhẹ nhàng      0.0     0.0   \n1                                vẫn cảm thấy hơi khô da      0.0     0.0   \n2                               rẻ nên mua nha mọi người      0.0     0.0   \n3                  shop rất nhiệt tình sản phẩm đáng mua      3.0     0.0   \n4      còn về mặt sản phẩm thì chỉ không ưng ý cái ch...      1.0     0.0   \n...                                                  ...      ...     ...   \n10193                        mua lần rồi phân chính hãng      3.0     0.0   \n10194  sài lắm nha không bị kích hay gì đâu mình lần ...      0.0     0.0   \n10195                            shipper giao thân thiện      0.0     0.0   \n10196                        sẽ quay ủng shop tiếp okela      3.0     0.0   \n10197      hình ảnh mang tính chất nhận xu rất tuyệt vời      0.0     0.0   \n\n       packing  price  quality  shipping  smell  \\\n0          0.0    0.0      3.0       0.0    0.0   \n1          0.0    0.0      1.0       0.0    0.0   \n2          0.0    3.0      0.0       0.0    0.0   \n3          0.0    0.0      0.0       0.0    0.0   \n4          0.0    0.0      0.0       0.0    0.0   \n...        ...    ...      ...       ...    ...   \n10193      0.0    0.0      0.0       0.0    0.0   \n10194      0.0    0.0      3.0       0.0    0.0   \n10195      0.0    0.0      0.0       3.0    0.0   \n10196      0.0    0.0      0.0       0.0    0.0   \n10197      0.0    0.0      0.0       0.0    0.0   \n\n                                       processed_content  \n0                                          mềm nhẹ_nhàng  \n1                                vẫn cảm_thấy hơi khô da  \n2                               rẻ nên mua nha mọi người  \n3                  shop rất nhiệt_tình sản_phẩm đáng mua  \n4      còn về mặt sản_phẩm thì chỉ không ưng_ý cái ch...  \n...                                                  ...  \n10193                        mua lần rồi phân chính hãng  \n10194  sài lắm nha không bị kích hay gì đâu mình lần ...  \n10195                            shipper giao thân_thiện  \n10196                        sẽ quay ủng shop tiếp okela  \n10197      hình_ảnh mang tính_chất nhận xu rất tuyệt_vời  \n\n[10198 rows x 9 columns]",
            "text/html": "<div>\n<style scoped>\n    .dataframe tbody tr th:only-of-type {\n        vertical-align: middle;\n    }\n\n    .dataframe tbody tr th {\n        vertical-align: top;\n    }\n\n    .dataframe thead th {\n        text-align: right;\n    }\n</style>\n<table border=\"1\" class=\"dataframe\">\n  <thead>\n    <tr style=\"text-align: right;\">\n      <th></th>\n      <th>Content</th>\n      <th>General</th>\n      <th>others</th>\n      <th>packing</th>\n      <th>price</th>\n      <th>quality</th>\n      <th>shipping</th>\n      <th>smell</th>\n      <th>processed_content</th>\n    </tr>\n  </thead>\n  <tbody>\n    <tr>\n      <th>0</th>\n      <td>mềm nhẹ nhàng</td>\n      <td>0.0</td>\n      <td>0.0</td>\n      <td>0.0</td>\n      <td>0.0</td>\n      <td>3.0</td>\n      <td>0.0</td>\n      <td>0.0</td>\n      <td>mềm nhẹ_nhàng</td>\n    </tr>\n    <tr>\n      <th>1</th>\n      <td>vẫn cảm thấy hơi khô da</td>\n      <td>0.0</td>\n      <td>0.0</td>\n      <td>0.0</td>\n      <td>0.0</td>\n      <td>1.0</td>\n      <td>0.0</td>\n      <td>0.0</td>\n      <td>vẫn cảm_thấy hơi khô da</td>\n    </tr>\n    <tr>\n      <th>2</th>\n      <td>rẻ nên mua nha mọi người</td>\n      <td>0.0</td>\n      <td>0.0</td>\n      <td>0.0</td>\n      <td>3.0</td>\n      <td>0.0</td>\n      <td>0.0</td>\n      <td>0.0</td>\n      <td>rẻ nên mua nha mọi người</td>\n    </tr>\n    <tr>\n      <th>3</th>\n      <td>shop rất nhiệt tình sản phẩm đáng mua</td>\n      <td>3.0</td>\n      <td>0.0</td>\n      <td>0.0</td>\n      <td>0.0</td>\n      <td>0.0</td>\n      <td>0.0</td>\n      <td>0.0</td>\n      <td>shop rất nhiệt_tình sản_phẩm đáng mua</td>\n    </tr>\n    <tr>\n      <th>4</th>\n      <td>còn về mặt sản phẩm thì chỉ không ưng ý cái ch...</td>\n      <td>1.0</td>\n      <td>0.0</td>\n      <td>0.0</td>\n      <td>0.0</td>\n      <td>0.0</td>\n      <td>0.0</td>\n      <td>0.0</td>\n      <td>còn về mặt sản_phẩm thì chỉ không ưng_ý cái ch...</td>\n    </tr>\n    <tr>\n      <th>...</th>\n      <td>...</td>\n      <td>...</td>\n      <td>...</td>\n      <td>...</td>\n      <td>...</td>\n      <td>...</td>\n      <td>...</td>\n      <td>...</td>\n      <td>...</td>\n    </tr>\n    <tr>\n      <th>10193</th>\n      <td>mua lần rồi phân chính hãng</td>\n      <td>3.0</td>\n      <td>0.0</td>\n      <td>0.0</td>\n      <td>0.0</td>\n      <td>0.0</td>\n      <td>0.0</td>\n      <td>0.0</td>\n      <td>mua lần rồi phân chính hãng</td>\n    </tr>\n    <tr>\n      <th>10194</th>\n      <td>sài lắm nha không bị kích hay gì đâu mình lần ...</td>\n      <td>0.0</td>\n      <td>0.0</td>\n      <td>0.0</td>\n      <td>0.0</td>\n      <td>3.0</td>\n      <td>0.0</td>\n      <td>0.0</td>\n      <td>sài lắm nha không bị kích hay gì đâu mình lần ...</td>\n    </tr>\n    <tr>\n      <th>10195</th>\n      <td>shipper giao thân thiện</td>\n      <td>0.0</td>\n      <td>0.0</td>\n      <td>0.0</td>\n      <td>0.0</td>\n      <td>0.0</td>\n      <td>3.0</td>\n      <td>0.0</td>\n      <td>shipper giao thân_thiện</td>\n    </tr>\n    <tr>\n      <th>10196</th>\n      <td>sẽ quay ủng shop tiếp okela</td>\n      <td>3.0</td>\n      <td>0.0</td>\n      <td>0.0</td>\n      <td>0.0</td>\n      <td>0.0</td>\n      <td>0.0</td>\n      <td>0.0</td>\n      <td>sẽ quay ủng shop tiếp okela</td>\n    </tr>\n    <tr>\n      <th>10197</th>\n      <td>hình ảnh mang tính chất nhận xu rất tuyệt vời</td>\n      <td>0.0</td>\n      <td>0.0</td>\n      <td>0.0</td>\n      <td>0.0</td>\n      <td>0.0</td>\n      <td>0.0</td>\n      <td>0.0</td>\n      <td>hình_ảnh mang tính_chất nhận xu rất tuyệt_vời</td>\n    </tr>\n  </tbody>\n</table>\n<p>10198 rows × 9 columns</p>\n</div>"
          },
          "metadata": {}
        }
      ],
      "execution_count": null
    },
    {
      "cell_type": "code",
      "source": [
        "def make_outputs(df):\n",
        "    outputs = []\n",
        "    for row in range(len(df)):\n",
        "        row_one_hot = []\n",
        "        for col in range(1, len(df.columns)-1):\n",
        "            sentiment = df.iloc[row, col]\n",
        "            if   sentiment == 0: one_hot = [1, 0, 0, 0] # None\n",
        "            elif sentiment == 1: one_hot = [0, 1, 0, 0] # Pos\n",
        "            elif sentiment == 2: one_hot = [0, 0, 1, 0] # Neg\n",
        "            elif sentiment == 3: one_hot = [0, 0, 0, 1] # Neu\n",
        "            row_one_hot.append(one_hot)\n",
        "        outputs.append(row_one_hot)\n",
        "    return np.array(outputs, dtype='uint8')"
      ],
      "metadata": {
        "id": "Dl0VEQoXG_Fm",
        "trusted": true,
        "execution": {
          "iopub.status.busy": "2024-12-24T07:02:33.519852Z",
          "iopub.execute_input": "2024-12-24T07:02:33.520139Z",
          "iopub.status.idle": "2024-12-24T07:02:33.525132Z",
          "shell.execute_reply.started": "2024-12-24T07:02:33.520116Z",
          "shell.execute_reply": "2024-12-24T07:02:33.524448Z"
        }
      },
      "outputs": [],
      "execution_count": null
    },
    {
      "cell_type": "code",
      "source": [
        "label_train = make_outputs(data_train)\n",
        "label_val = make_outputs(data_val)\n",
        "label_test = make_outputs(data_test)\n",
        "\n",
        "print('Train outputs:', label_train.shape)\n",
        "print('Validate outputs:', label_val.shape)\n",
        "print('Test outputs:', label_test.shape)"
      ],
      "metadata": {
        "colab": {
          "base_uri": "https://localhost:8080/"
        },
        "id": "B4SAW1jcHTLJ",
        "outputId": "4e8eddb7-fd04-4896-b6cd-f4261a4b0fec",
        "trusted": true,
        "execution": {
          "iopub.status.busy": "2024-12-24T07:02:35.250717Z",
          "iopub.execute_input": "2024-12-24T07:02:35.251018Z",
          "iopub.status.idle": "2024-12-24T07:02:37.165614Z",
          "shell.execute_reply.started": "2024-12-24T07:02:35.250996Z",
          "shell.execute_reply": "2024-12-24T07:02:37.164939Z"
        }
      },
      "outputs": [
        {
          "name": "stdout",
          "text": "Train outputs: (10198, 7, 4)\nValidate outputs: (2186, 7, 4)\nTest outputs: (2185, 7, 4)\n",
          "output_type": "stream"
        }
      ],
      "execution_count": null
    },
    {
      "cell_type": "code",
      "source": [
        "embeddings = {}\n",
        "for state in ['train','val','test']:\n",
        "  embeddings[state] = np.load(f'/kaggle/input/embedding/embeddings_{state}.npy')"
      ],
      "metadata": {
        "id": "KvbESGyFHuJ-",
        "trusted": true,
        "execution": {
          "iopub.status.busy": "2024-12-24T07:02:37.1667Z",
          "iopub.execute_input": "2024-12-24T07:02:37.167019Z",
          "iopub.status.idle": "2024-12-24T07:02:37.769987Z",
          "shell.execute_reply.started": "2024-12-24T07:02:37.166986Z",
          "shell.execute_reply": "2024-12-24T07:02:37.769254Z"
        }
      },
      "outputs": [],
      "execution_count": null
    },
    {
      "cell_type": "code",
      "source": [
        "print('Train inputs:', embeddings['train'].shape)\n",
        "print('Validate inputs:', embeddings['val'].shape)\n",
        "print('Test intputs:', embeddings['test'].shape)"
      ],
      "metadata": {
        "colab": {
          "base_uri": "https://localhost:8080/"
        },
        "id": "MTG4f3TKINtb",
        "outputId": "9aedb56a-f573-408f-b0a2-cd6d57bb158f",
        "trusted": true,
        "execution": {
          "iopub.status.busy": "2024-12-24T07:02:43.798318Z",
          "iopub.execute_input": "2024-12-24T07:02:43.798617Z",
          "iopub.status.idle": "2024-12-24T07:02:43.804351Z",
          "shell.execute_reply.started": "2024-12-24T07:02:43.798594Z",
          "shell.execute_reply": "2024-12-24T07:02:43.803562Z"
        }
      },
      "outputs": [
        {
          "name": "stdout",
          "text": "Train inputs: (10198, 768)\nValidate inputs: (2186, 768)\nTest intputs: (2185, 768)\n",
          "output_type": "stream"
        }
      ],
      "execution_count": null
    },
    {
      "cell_type": "code",
      "source": [
        "list_aspect = data_train.columns[1:-1]"
      ],
      "metadata": {
        "id": "-rRmHcORJqiW",
        "trusted": true,
        "execution": {
          "iopub.status.busy": "2024-12-24T07:02:45.322622Z",
          "iopub.execute_input": "2024-12-24T07:02:45.322909Z",
          "iopub.status.idle": "2024-12-24T07:02:45.327097Z",
          "shell.execute_reply.started": "2024-12-24T07:02:45.322886Z",
          "shell.execute_reply": "2024-12-24T07:02:45.326129Z"
        }
      },
      "outputs": [],
      "execution_count": null
    },
    {
      "cell_type": "code",
      "source": [],
      "metadata": {
        "id": "49CH_wIpO2oq",
        "trusted": true
      },
      "outputs": [],
      "execution_count": null
    },
    {
      "cell_type": "markdown",
      "source": [
        "# BiLSTM"
      ],
      "metadata": {
        "id": "pCzXsGTRO3kg"
      }
    },
    {
      "cell_type": "code",
      "source": [
        "import tensorflow as tf\n",
        "from tensorflow.keras.layers import Input, Bidirectional, LSTM, Dense, Dropout, TimeDistributed, RepeatVector\n",
        "from tensorflow.keras.optimizers import Adam\n",
        "from tensorflow.keras.callbacks import EarlyStopping\n",
        "\n",
        "def bilstm_aspect(embedding_dim, num_aspects, output_dim, padded_aspect_train, padded_aspect_val, label_aspect_train, label_aspect_val, epochs=70, batch_size=128, callbacks=None, verbose=1):\n",
        "    # Define input layer\n",
        "    input_layer = Input(shape=(embedding_dim,))\n",
        "\n",
        "    # Expand dimensions to match the input shape requirement of the LSTM\n",
        "    input_expanded = RepeatVector(num_aspects)(input_layer)\n",
        "\n",
        "    # Define Bidirectional LSTM layer\n",
        "    lstm_layer = Bidirectional(LSTM(units=200, activation='tanh', return_sequences=True))(input_expanded)\n",
        "\n",
        "    # TimeDistributed layers to apply Dense layers across all time steps\n",
        "    aspect_dense2 = TimeDistributed(Dense(128, activation='relu'))(lstm_layer)\n",
        "    aspect_dropout1 = TimeDistributed(Dropout(0.2))(aspect_dense2)\n",
        "    aspect_dense3 = TimeDistributed(Dense(64, activation='relu'))(aspect_dropout1)\n",
        "    aspect_dense4 = TimeDistributed(Dense(output_dim, activation='softmax'))(aspect_dense3)  # Adjusted to output_dim\n",
        "\n",
        "    # Define and compile the model\n",
        "    aspect_model = tf.keras.Model(inputs=input_layer, outputs=aspect_dense4)\n",
        "    aspect_model.compile(optimizer=Adam(learning_rate=0.0001), loss='categorical_crossentropy', metrics=['accuracy'])\n",
        "\n",
        "    # Define callback for early stopping\n",
        "    callback = EarlyStopping(monitor='val_loss', patience=3)\n",
        "\n",
        "    # Train the model\n",
        "    history = aspect_model.fit(\n",
        "        x=padded_aspect_train,\n",
        "        y=label_aspect_train,\n",
        "        validation_data=(padded_aspect_val, label_aspect_val),\n",
        "        batch_size=batch_size,\n",
        "        epochs=epochs,\n",
        "        callbacks=callbacks if callbacks else [callback],\n",
        "        verbose=verbose\n",
        "    )\n",
        "\n",
        "    return aspect_model, history\n",
        "\n",
        "# Example usage\n",
        "embedding_dim = 768\n",
        "num_aspects = 7\n",
        "output_dim = 4  # Ensure this matches the number of categories/classes you have\n",
        "\n",
        "# Example placeholders for embeddings and labels\n",
        "padded_aspect_train = embeddings['train']\n",
        "padded_aspect_val = embeddings['val']\n",
        "label_aspect_train = label_train  # Ensure shape (None, 6, 4)\n",
        "label_aspect_val = label_val      # Ensure shape (None, 6, 4)\n",
        "\n",
        "callback = EarlyStopping(monitor='val_loss', patience=5)\n",
        "model_lstm, history_lstm = bilstm_aspect(embedding_dim, num_aspects, output_dim, padded_aspect_train, padded_aspect_val, label_aspect_train, label_aspect_val, epochs=200, batch_size=128, callbacks=[callback], verbose=1)\n"
      ],
      "metadata": {
        "colab": {
          "base_uri": "https://localhost:8080/"
        },
        "id": "qoZxjzG6ROfc",
        "outputId": "70b7e4d6-4d27-4a2f-9f29-abb492cd4c55",
        "trusted": true,
        "execution": {
          "iopub.status.busy": "2024-12-24T07:02:50.391916Z",
          "iopub.execute_input": "2024-12-24T07:02:50.392235Z",
          "iopub.status.idle": "2024-12-24T07:03:19.569001Z",
          "shell.execute_reply.started": "2024-12-24T07:02:50.392206Z",
          "shell.execute_reply": "2024-12-24T07:03:19.56833Z"
        }
      },
      "outputs": [
        {
          "name": "stdout",
          "text": "Epoch 1/200\n\u001b[1m80/80\u001b[0m \u001b[32m━━━━━━━━━━━━━━━━━━━━\u001b[0m\u001b[37m\u001b[0m \u001b[1m8s\u001b[0m 17ms/step - accuracy: 0.7097 - loss: 0.8756 - val_accuracy: 0.8588 - val_loss: 0.4497\nEpoch 2/200\n\u001b[1m80/80\u001b[0m \u001b[32m━━━━━━━━━━━━━━━━━━━━\u001b[0m\u001b[37m\u001b[0m \u001b[1m1s\u001b[0m 10ms/step - accuracy: 0.8594 - loss: 0.4475 - val_accuracy: 0.8594 - val_loss: 0.4003\nEpoch 3/200\n\u001b[1m80/80\u001b[0m \u001b[32m━━━━━━━━━━━━━━━━━━━━\u001b[0m\u001b[37m\u001b[0m \u001b[1m1s\u001b[0m 11ms/step - accuracy: 0.8650 - loss: 0.3948 - val_accuracy: 0.8743 - val_loss: 0.3399\nEpoch 4/200\n\u001b[1m80/80\u001b[0m \u001b[32m━━━━━━━━━━━━━━━━━━━━\u001b[0m\u001b[37m\u001b[0m \u001b[1m1s\u001b[0m 10ms/step - accuracy: 0.8834 - loss: 0.3262 - val_accuracy: 0.9091 - val_loss: 0.2687\nEpoch 5/200\n\u001b[1m80/80\u001b[0m \u001b[32m━━━━━━━━━━━━━━━━━━━━\u001b[0m\u001b[37m\u001b[0m \u001b[1m1s\u001b[0m 11ms/step - accuracy: 0.9101 - loss: 0.2662 - val_accuracy: 0.9179 - val_loss: 0.2419\nEpoch 6/200\n\u001b[1m80/80\u001b[0m \u001b[32m━━━━━━━━━━━━━━━━━━━━\u001b[0m\u001b[37m\u001b[0m \u001b[1m1s\u001b[0m 11ms/step - accuracy: 0.9184 - loss: 0.2426 - val_accuracy: 0.9235 - val_loss: 0.2276\nEpoch 7/200\n\u001b[1m80/80\u001b[0m \u001b[32m━━━━━━━━━━━━━━━━━━━━\u001b[0m\u001b[37m\u001b[0m \u001b[1m1s\u001b[0m 10ms/step - accuracy: 0.9234 - loss: 0.2259 - val_accuracy: 0.9269 - val_loss: 0.2186\nEpoch 8/200\n\u001b[1m80/80\u001b[0m \u001b[32m━━━━━━━━━━━━━━━━━━━━\u001b[0m\u001b[37m\u001b[0m \u001b[1m1s\u001b[0m 11ms/step - accuracy: 0.9284 - loss: 0.2134 - val_accuracy: 0.9285 - val_loss: 0.2108\nEpoch 9/200\n\u001b[1m80/80\u001b[0m \u001b[32m━━━━━━━━━━━━━━━━━━━━\u001b[0m\u001b[37m\u001b[0m \u001b[1m1s\u001b[0m 11ms/step - accuracy: 0.9301 - loss: 0.2067 - val_accuracy: 0.9302 - val_loss: 0.2064\nEpoch 10/200\n\u001b[1m80/80\u001b[0m \u001b[32m━━━━━━━━━━━━━━━━━━━━\u001b[0m\u001b[37m\u001b[0m \u001b[1m1s\u001b[0m 11ms/step - accuracy: 0.9339 - loss: 0.1972 - val_accuracy: 0.9327 - val_loss: 0.2004\nEpoch 11/200\n\u001b[1m80/80\u001b[0m \u001b[32m━━━━━━━━━━━━━━━━━━━━\u001b[0m\u001b[37m\u001b[0m \u001b[1m1s\u001b[0m 11ms/step - accuracy: 0.9371 - loss: 0.1859 - val_accuracy: 0.9310 - val_loss: 0.2015\nEpoch 12/200\n\u001b[1m80/80\u001b[0m \u001b[32m━━━━━━━━━━━━━━━━━━━━\u001b[0m\u001b[37m\u001b[0m \u001b[1m1s\u001b[0m 11ms/step - accuracy: 0.9383 - loss: 0.1785 - val_accuracy: 0.9335 - val_loss: 0.1965\nEpoch 13/200\n\u001b[1m80/80\u001b[0m \u001b[32m━━━━━━━━━━━━━━━━━━━━\u001b[0m\u001b[37m\u001b[0m \u001b[1m1s\u001b[0m 11ms/step - accuracy: 0.9391 - loss: 0.1772 - val_accuracy: 0.9351 - val_loss: 0.1922\nEpoch 14/200\n\u001b[1m80/80\u001b[0m \u001b[32m━━━━━━━━━━━━━━━━━━━━\u001b[0m\u001b[37m\u001b[0m \u001b[1m1s\u001b[0m 11ms/step - accuracy: 0.9418 - loss: 0.1703 - val_accuracy: 0.9373 - val_loss: 0.1871\nEpoch 15/200\n\u001b[1m80/80\u001b[0m \u001b[32m━━━━━━━━━━━━━━━━━━━━\u001b[0m\u001b[37m\u001b[0m \u001b[1m1s\u001b[0m 11ms/step - accuracy: 0.9429 - loss: 0.1643 - val_accuracy: 0.9369 - val_loss: 0.1889\nEpoch 16/200\n\u001b[1m80/80\u001b[0m \u001b[32m━━━━━━━━━━━━━━━━━━━━\u001b[0m\u001b[37m\u001b[0m \u001b[1m1s\u001b[0m 11ms/step - accuracy: 0.9423 - loss: 0.1671 - val_accuracy: 0.9397 - val_loss: 0.1868\nEpoch 17/200\n\u001b[1m80/80\u001b[0m \u001b[32m━━━━━━━━━━━━━━━━━━━━\u001b[0m\u001b[37m\u001b[0m \u001b[1m1s\u001b[0m 10ms/step - accuracy: 0.9469 - loss: 0.1535 - val_accuracy: 0.9363 - val_loss: 0.1881\nEpoch 18/200\n\u001b[1m80/80\u001b[0m \u001b[32m━━━━━━━━━━━━━━━━━━━━\u001b[0m\u001b[37m\u001b[0m \u001b[1m1s\u001b[0m 10ms/step - accuracy: 0.9497 - loss: 0.1512 - val_accuracy: 0.9394 - val_loss: 0.1830\nEpoch 19/200\n\u001b[1m80/80\u001b[0m \u001b[32m━━━━━━━━━━━━━━━━━━━━\u001b[0m\u001b[37m\u001b[0m \u001b[1m1s\u001b[0m 11ms/step - accuracy: 0.9484 - loss: 0.1517 - val_accuracy: 0.9395 - val_loss: 0.1821\nEpoch 20/200\n\u001b[1m80/80\u001b[0m \u001b[32m━━━━━━━━━━━━━━━━━━━━\u001b[0m\u001b[37m\u001b[0m \u001b[1m1s\u001b[0m 10ms/step - accuracy: 0.9500 - loss: 0.1455 - val_accuracy: 0.9379 - val_loss: 0.1862\nEpoch 21/200\n\u001b[1m80/80\u001b[0m \u001b[32m━━━━━━━━━━━━━━━━━━━━\u001b[0m\u001b[37m\u001b[0m \u001b[1m1s\u001b[0m 11ms/step - accuracy: 0.9530 - loss: 0.1393 - val_accuracy: 0.9392 - val_loss: 0.1849\nEpoch 22/200\n\u001b[1m80/80\u001b[0m \u001b[32m━━━━━━━━━━━━━━━━━━━━\u001b[0m\u001b[37m\u001b[0m \u001b[1m1s\u001b[0m 11ms/step - accuracy: 0.9522 - loss: 0.1400 - val_accuracy: 0.9385 - val_loss: 0.1871\nEpoch 23/200\n\u001b[1m80/80\u001b[0m \u001b[32m━━━━━━━━━━━━━━━━━━━━\u001b[0m\u001b[37m\u001b[0m \u001b[1m1s\u001b[0m 11ms/step - accuracy: 0.9551 - loss: 0.1324 - val_accuracy: 0.9373 - val_loss: 0.1865\nEpoch 24/200\n\u001b[1m80/80\u001b[0m \u001b[32m━━━━━━━━━━━━━━━━━━━━\u001b[0m\u001b[37m\u001b[0m \u001b[1m1s\u001b[0m 10ms/step - accuracy: 0.9554 - loss: 0.1300 - val_accuracy: 0.9373 - val_loss: 0.1855\n",
          "output_type": "stream"
        }
      ],
      "execution_count": null
    },
    {
      "cell_type": "code",
      "source": [
        "model_lstm.summary()"
      ],
      "metadata": {
        "colab": {
          "base_uri": "https://localhost:8080/"
        },
        "id": "JWhzHZnsR3GW",
        "outputId": "5458ebdf-1b8c-40d6-bf0c-14df08bc6648",
        "trusted": true,
        "execution": {
          "iopub.status.busy": "2024-12-24T07:03:19.570225Z",
          "iopub.execute_input": "2024-12-24T07:03:19.570504Z",
          "iopub.status.idle": "2024-12-24T07:03:19.590152Z",
          "shell.execute_reply.started": "2024-12-24T07:03:19.570481Z",
          "shell.execute_reply": "2024-12-24T07:03:19.58947Z"
        }
      },
      "outputs": [
        {
          "output_type": "display_data",
          "data": {
            "text/plain": "\u001b[1mModel: \"functional\"\u001b[0m\n",
            "text/html": "<pre style=\"white-space:pre;overflow-x:auto;line-height:normal;font-family:Menlo,'DejaVu Sans Mono',consolas,'Courier New',monospace\"><span style=\"font-weight: bold\">Model: \"functional\"</span>\n</pre>\n"
          },
          "metadata": {}
        },
        {
          "output_type": "display_data",
          "data": {
            "text/plain": "┏━━━━━━━━━━━━━━━━━━━━━━━━━━━━━━━━━━━━━━┳━━━━━━━━━━━━━━━━━━━━━━━━━━━━━┳━━━━━━━━━━━━━━━━━┓\n┃\u001b[1m \u001b[0m\u001b[1mLayer (type)                        \u001b[0m\u001b[1m \u001b[0m┃\u001b[1m \u001b[0m\u001b[1mOutput Shape               \u001b[0m\u001b[1m \u001b[0m┃\u001b[1m \u001b[0m\u001b[1m        Param #\u001b[0m\u001b[1m \u001b[0m┃\n┡━━━━━━━━━━━━━━━━━━━━━━━━━━━━━━━━━━━━━━╇━━━━━━━━━━━━━━━━━━━━━━━━━━━━━╇━━━━━━━━━━━━━━━━━┩\n│ input_layer (\u001b[38;5;33mInputLayer\u001b[0m)             │ (\u001b[38;5;45mNone\u001b[0m, \u001b[38;5;34m768\u001b[0m)                 │               \u001b[38;5;34m0\u001b[0m │\n├──────────────────────────────────────┼─────────────────────────────┼─────────────────┤\n│ repeat_vector (\u001b[38;5;33mRepeatVector\u001b[0m)         │ (\u001b[38;5;45mNone\u001b[0m, \u001b[38;5;34m7\u001b[0m, \u001b[38;5;34m768\u001b[0m)              │               \u001b[38;5;34m0\u001b[0m │\n├──────────────────────────────────────┼─────────────────────────────┼─────────────────┤\n│ bidirectional (\u001b[38;5;33mBidirectional\u001b[0m)        │ (\u001b[38;5;45mNone\u001b[0m, \u001b[38;5;34m7\u001b[0m, \u001b[38;5;34m400\u001b[0m)              │       \u001b[38;5;34m1,550,400\u001b[0m │\n├──────────────────────────────────────┼─────────────────────────────┼─────────────────┤\n│ time_distributed (\u001b[38;5;33mTimeDistributed\u001b[0m)   │ (\u001b[38;5;45mNone\u001b[0m, \u001b[38;5;34m7\u001b[0m, \u001b[38;5;34m128\u001b[0m)              │          \u001b[38;5;34m51,328\u001b[0m │\n├──────────────────────────────────────┼─────────────────────────────┼─────────────────┤\n│ time_distributed_1 (\u001b[38;5;33mTimeDistributed\u001b[0m) │ (\u001b[38;5;45mNone\u001b[0m, \u001b[38;5;34m7\u001b[0m, \u001b[38;5;34m128\u001b[0m)              │               \u001b[38;5;34m0\u001b[0m │\n├──────────────────────────────────────┼─────────────────────────────┼─────────────────┤\n│ time_distributed_2 (\u001b[38;5;33mTimeDistributed\u001b[0m) │ (\u001b[38;5;45mNone\u001b[0m, \u001b[38;5;34m7\u001b[0m, \u001b[38;5;34m64\u001b[0m)               │           \u001b[38;5;34m8,256\u001b[0m │\n├──────────────────────────────────────┼─────────────────────────────┼─────────────────┤\n│ time_distributed_3 (\u001b[38;5;33mTimeDistributed\u001b[0m) │ (\u001b[38;5;45mNone\u001b[0m, \u001b[38;5;34m7\u001b[0m, \u001b[38;5;34m4\u001b[0m)                │             \u001b[38;5;34m260\u001b[0m │\n└──────────────────────────────────────┴─────────────────────────────┴─────────────────┘\n",
            "text/html": "<pre style=\"white-space:pre;overflow-x:auto;line-height:normal;font-family:Menlo,'DejaVu Sans Mono',consolas,'Courier New',monospace\">┏━━━━━━━━━━━━━━━━━━━━━━━━━━━━━━━━━━━━━━┳━━━━━━━━━━━━━━━━━━━━━━━━━━━━━┳━━━━━━━━━━━━━━━━━┓\n┃<span style=\"font-weight: bold\"> Layer (type)                         </span>┃<span style=\"font-weight: bold\"> Output Shape                </span>┃<span style=\"font-weight: bold\">         Param # </span>┃\n┡━━━━━━━━━━━━━━━━━━━━━━━━━━━━━━━━━━━━━━╇━━━━━━━━━━━━━━━━━━━━━━━━━━━━━╇━━━━━━━━━━━━━━━━━┩\n│ input_layer (<span style=\"color: #0087ff; text-decoration-color: #0087ff\">InputLayer</span>)             │ (<span style=\"color: #00d7ff; text-decoration-color: #00d7ff\">None</span>, <span style=\"color: #00af00; text-decoration-color: #00af00\">768</span>)                 │               <span style=\"color: #00af00; text-decoration-color: #00af00\">0</span> │\n├──────────────────────────────────────┼─────────────────────────────┼─────────────────┤\n│ repeat_vector (<span style=\"color: #0087ff; text-decoration-color: #0087ff\">RepeatVector</span>)         │ (<span style=\"color: #00d7ff; text-decoration-color: #00d7ff\">None</span>, <span style=\"color: #00af00; text-decoration-color: #00af00\">7</span>, <span style=\"color: #00af00; text-decoration-color: #00af00\">768</span>)              │               <span style=\"color: #00af00; text-decoration-color: #00af00\">0</span> │\n├──────────────────────────────────────┼─────────────────────────────┼─────────────────┤\n│ bidirectional (<span style=\"color: #0087ff; text-decoration-color: #0087ff\">Bidirectional</span>)        │ (<span style=\"color: #00d7ff; text-decoration-color: #00d7ff\">None</span>, <span style=\"color: #00af00; text-decoration-color: #00af00\">7</span>, <span style=\"color: #00af00; text-decoration-color: #00af00\">400</span>)              │       <span style=\"color: #00af00; text-decoration-color: #00af00\">1,550,400</span> │\n├──────────────────────────────────────┼─────────────────────────────┼─────────────────┤\n│ time_distributed (<span style=\"color: #0087ff; text-decoration-color: #0087ff\">TimeDistributed</span>)   │ (<span style=\"color: #00d7ff; text-decoration-color: #00d7ff\">None</span>, <span style=\"color: #00af00; text-decoration-color: #00af00\">7</span>, <span style=\"color: #00af00; text-decoration-color: #00af00\">128</span>)              │          <span style=\"color: #00af00; text-decoration-color: #00af00\">51,328</span> │\n├──────────────────────────────────────┼─────────────────────────────┼─────────────────┤\n│ time_distributed_1 (<span style=\"color: #0087ff; text-decoration-color: #0087ff\">TimeDistributed</span>) │ (<span style=\"color: #00d7ff; text-decoration-color: #00d7ff\">None</span>, <span style=\"color: #00af00; text-decoration-color: #00af00\">7</span>, <span style=\"color: #00af00; text-decoration-color: #00af00\">128</span>)              │               <span style=\"color: #00af00; text-decoration-color: #00af00\">0</span> │\n├──────────────────────────────────────┼─────────────────────────────┼─────────────────┤\n│ time_distributed_2 (<span style=\"color: #0087ff; text-decoration-color: #0087ff\">TimeDistributed</span>) │ (<span style=\"color: #00d7ff; text-decoration-color: #00d7ff\">None</span>, <span style=\"color: #00af00; text-decoration-color: #00af00\">7</span>, <span style=\"color: #00af00; text-decoration-color: #00af00\">64</span>)               │           <span style=\"color: #00af00; text-decoration-color: #00af00\">8,256</span> │\n├──────────────────────────────────────┼─────────────────────────────┼─────────────────┤\n│ time_distributed_3 (<span style=\"color: #0087ff; text-decoration-color: #0087ff\">TimeDistributed</span>) │ (<span style=\"color: #00d7ff; text-decoration-color: #00d7ff\">None</span>, <span style=\"color: #00af00; text-decoration-color: #00af00\">7</span>, <span style=\"color: #00af00; text-decoration-color: #00af00\">4</span>)                │             <span style=\"color: #00af00; text-decoration-color: #00af00\">260</span> │\n└──────────────────────────────────────┴─────────────────────────────┴─────────────────┘\n</pre>\n"
          },
          "metadata": {}
        },
        {
          "output_type": "display_data",
          "data": {
            "text/plain": "\u001b[1m Total params: \u001b[0m\u001b[38;5;34m4,830,734\u001b[0m (18.43 MB)\n",
            "text/html": "<pre style=\"white-space:pre;overflow-x:auto;line-height:normal;font-family:Menlo,'DejaVu Sans Mono',consolas,'Courier New',monospace\"><span style=\"font-weight: bold\"> Total params: </span><span style=\"color: #00af00; text-decoration-color: #00af00\">4,830,734</span> (18.43 MB)\n</pre>\n"
          },
          "metadata": {}
        },
        {
          "output_type": "display_data",
          "data": {
            "text/plain": "\u001b[1m Trainable params: \u001b[0m\u001b[38;5;34m1,610,244\u001b[0m (6.14 MB)\n",
            "text/html": "<pre style=\"white-space:pre;overflow-x:auto;line-height:normal;font-family:Menlo,'DejaVu Sans Mono',consolas,'Courier New',monospace\"><span style=\"font-weight: bold\"> Trainable params: </span><span style=\"color: #00af00; text-decoration-color: #00af00\">1,610,244</span> (6.14 MB)\n</pre>\n"
          },
          "metadata": {}
        },
        {
          "output_type": "display_data",
          "data": {
            "text/plain": "\u001b[1m Non-trainable params: \u001b[0m\u001b[38;5;34m0\u001b[0m (0.00 B)\n",
            "text/html": "<pre style=\"white-space:pre;overflow-x:auto;line-height:normal;font-family:Menlo,'DejaVu Sans Mono',consolas,'Courier New',monospace\"><span style=\"font-weight: bold\"> Non-trainable params: </span><span style=\"color: #00af00; text-decoration-color: #00af00\">0</span> (0.00 B)\n</pre>\n"
          },
          "metadata": {}
        },
        {
          "output_type": "display_data",
          "data": {
            "text/plain": "\u001b[1m Optimizer params: \u001b[0m\u001b[38;5;34m3,220,490\u001b[0m (12.29 MB)\n",
            "text/html": "<pre style=\"white-space:pre;overflow-x:auto;line-height:normal;font-family:Menlo,'DejaVu Sans Mono',consolas,'Courier New',monospace\"><span style=\"font-weight: bold\"> Optimizer params: </span><span style=\"color: #00af00; text-decoration-color: #00af00\">3,220,490</span> (12.29 MB)\n</pre>\n"
          },
          "metadata": {}
        }
      ],
      "execution_count": null
    },
    {
      "cell_type": "code",
      "source": [
        "plt.figure(figsize=(10, 6))\n",
        "plt.plot(history_lstm.history['loss'], label='Training loss')\n",
        "plt.plot(history_lstm.history['val_loss'], label='Validation loss')\n",
        "plt.xlabel('Epochs')\n",
        "plt.ylabel('Loss')\n",
        "plt.title('Training and Validation Accuracy')\n",
        "plt.legend()\n",
        "plt.show()"
      ],
      "metadata": {
        "colab": {
          "base_uri": "https://localhost:8080/",
          "height": 564
        },
        "id": "a91H4gMRT8QE",
        "outputId": "74ab3448-a644-46ab-b7ac-678666a88bce",
        "trusted": true,
        "execution": {
          "iopub.status.busy": "2024-12-24T07:03:19.591401Z",
          "iopub.execute_input": "2024-12-24T07:03:19.5916Z",
          "iopub.status.idle": "2024-12-24T07:03:19.863804Z",
          "shell.execute_reply.started": "2024-12-24T07:03:19.59158Z",
          "shell.execute_reply": "2024-12-24T07:03:19.862889Z"
        }
      },
      "outputs": [
        {
          "output_type": "display_data",
          "data": {
            "text/plain": "<Figure size 1000x600 with 1 Axes>",
            "image/png": "[encoded data removed]"
          },
          "metadata": {}
        }
      ],
      "execution_count": null
    },
    {
      "cell_type": "code",
      "source": [
        "def predict(model, inputs, batch_size=1, verbose=0):\n",
        "    y_pred = model.predict(inputs, batch_size=batch_size, verbose=verbose)\n",
        "    y_pred = y_pred.reshape(len(y_pred), -1, 4)\n",
        "    return np.argmax(y_pred, axis=-1)\n",
        "def print_acsa_pred(replacements, categories, sentence_pred):\n",
        "    sentiments = map(lambda x: replacements[x], sentence_pred)\n",
        "    for category, sentiment in zip(categories, sentiments):\n",
        "        if sentiment: print(f'=> {category}: {sentiment}')"
      ],
      "metadata": {
        "id": "JnHcy-zOcVoe",
        "trusted": true,
        "execution": {
          "iopub.status.busy": "2024-12-24T07:03:19.864667Z",
          "iopub.execute_input": "2024-12-24T07:03:19.864958Z",
          "iopub.status.idle": "2024-12-24T07:03:19.869431Z",
          "shell.execute_reply.started": "2024-12-24T07:03:19.864928Z",
          "shell.execute_reply": "2024-12-24T07:03:19.868745Z"
        }
      },
      "outputs": [],
      "execution_count": null
    },
    {
      "cell_type": "markdown",
      "source": [
        "### Result"
      ],
      "metadata": {
        "id": "FUC5eWwCUUjA"
      }
    },
    {
      "cell_type": "code",
      "source": [
        "# Kiểm tra classes cho từng aspect\n",
        "output_lstm = pd.DataFrame()\n",
        "for i in range(num_aspects):\n",
        "    aspect_name = data_train.columns[i+1]\n",
        "    print(f\"\\nEvaluating aspect: {aspect_name}\")\n",
        "\n",
        "    # Kiểm tra các classes có trong dữ liệu của aspect hiện tại\n",
        "    current_true_classes = np.unique(true_labels[:, i])\n",
        "    current_pred_classes = np.unique(predicted_labels[:, i])\n",
        "    current_classes = np.unique(np.concatenate([current_true_classes, current_pred_classes]))\n",
        "    print(f\"Classes in {aspect_name}: {current_classes}\")\n",
        "\n",
        "    # Tạo target_names và labels tương ứng với các classes hiện có\n",
        "    aspect_target_names = []\n",
        "    labels = []\n",
        "    all_names = ['None', 'Negative', 'Neutral', 'Positive']\n",
        "    for idx in current_classes:\n",
        "        labels.append(idx)\n",
        "        aspect_target_names.append(all_names[idx])\n",
        "\n",
        "    # Tạo classification report với labels được chỉ định\n",
        "    report = classification_report(true_labels[:, i], predicted_labels[:, i],\n",
        "                                 labels=labels,\n",
        "                                 target_names=aspect_target_names,\n",
        "                                 output_dict=True)\n",
        "\n",
        "    aspect_report_df = pd.DataFrame(report).transpose()\n",
        "    aspect_report_df['Aspect'] = aspect_name\n",
        "    output_lstm = pd.concat([output_lstm, aspect_report_df], ignore_index=False)\n",
        "    print(aspect_report_df)"
      ],
      "metadata": {
        "colab": {
          "base_uri": "https://localhost:8080/"
        },
        "id": "GeSOHF_hWhos",
        "outputId": "d2c6cccb-0d61-41dd-d098-76168e407ec7",
        "trusted": true,
        "execution": {
          "iopub.status.busy": "2024-12-24T07:11:33.240192Z",
          "iopub.execute_input": "2024-12-24T07:11:33.240563Z",
          "iopub.status.idle": "2024-12-24T07:11:33.329526Z",
          "shell.execute_reply.started": "2024-12-24T07:11:33.24053Z",
          "shell.execute_reply": "2024-12-24T07:11:33.32862Z"
        }
      },
      "outputs": [
        {
          "name": "stdout",
          "text": "\nEvaluating aspect: General\nClasses in General: [0 1 2 3]\n              precision    recall  f1-score      support   Aspect\nNone           0.837209  0.898129  0.866600  1443.000000  General\nNegative       0.500000  0.448276  0.472727    29.000000  General\nNeutral        0.318182  0.225806  0.264151    62.000000  General\nPositive       0.742504  0.646697  0.691297   651.000000  General\naccuracy       0.798169  0.798169  0.798169     0.798169  General\nmacro avg      0.599474  0.554727  0.573694  2185.000000  General\nweighted avg   0.789790  0.798169  0.792048  2185.000000  General\n\nEvaluating aspect: others\nClasses in others: [0 2 3]\n              precision    recall  f1-score      support  Aspect\nNone           0.984397  0.997211  0.990762  2151.000000  others\nNeutral        0.000000  0.000000  0.000000    21.000000  others\nPositive       0.000000  0.000000  0.000000    13.000000  others\naccuracy       0.981693  0.981693  0.981693     0.981693  others\nmacro avg      0.328132  0.332404  0.330254  2185.000000  others\nweighted avg   0.969079  0.981693  0.975345  2185.000000  others\n\nEvaluating aspect: packing\nClasses in packing: [0 1 2 3]\n              precision    recall  f1-score     support   Aspect\nNone           0.976012  0.996937  0.986364  1959.00000  packing\nNegative       0.869565  0.571429  0.689655    35.00000  packing\nNeutral        0.000000  0.000000  0.000000     3.00000  packing\nPositive       0.944099  0.808511  0.871060   188.00000  packing\naccuracy       0.972540  0.972540  0.972540     0.97254  packing\nmacro avg      0.697419  0.594219  0.636770  2185.00000  packing\nweighted avg   0.970221  0.972540  0.970336  2185.00000  packing\n\nEvaluating aspect: price\nClasses in price: [0 1 2 3]\n              precision    recall  f1-score      support Aspect\nNone           0.969667  0.983855  0.976709  1982.000000  price\nNegative       0.400000  0.250000  0.307692     8.000000  price\nNeutral        0.000000  0.000000  0.000000     2.000000  price\nPositive       0.804734  0.704663  0.751381   193.000000  price\naccuracy       0.955606  0.955606  0.955606     0.955606  price\nmacro avg      0.543600  0.484629  0.508946  2185.000000  price\nweighted avg   0.952125  0.955606  0.953463  2185.000000  price\n\nEvaluating aspect: quality\nClasses in quality: [0 1 2 3]\n              precision    recall  f1-score      support   Aspect\nNone           0.904762  0.949399  0.926543  1581.000000  quality\nNegative       0.407407  0.407407  0.407407    27.000000  quality\nNeutral        0.000000  0.000000  0.000000    20.000000  quality\nPositive       0.823293  0.736086  0.777251   557.000000  quality\naccuracy       0.879634  0.879634  0.879634     0.879634  quality\nmacro avg      0.533866  0.523223  0.527800  2185.000000  quality\nweighted avg   0.869567  0.879634  0.873590  2185.000000  quality\n\nEvaluating aspect: shipping\nClasses in shipping: [0 1 2 3]\n              precision    recall  f1-score      support    Aspect\nNone           0.974333  0.990788  0.982492  1954.000000  shipping\nNegative       0.769231  0.416667  0.540541    24.000000  shipping\nNeutral        0.000000  0.000000  0.000000     2.000000  shipping\nPositive       0.902703  0.814634  0.856410   205.000000  shipping\naccuracy       0.967048  0.967048  0.967048     0.967048  shipping\nmacro avg      0.661567  0.555522  0.594861  2185.000000  shipping\nweighted avg   0.964468  0.967048  0.964909  2185.000000  shipping\n\nEvaluating aspect: smell\nClasses in smell: [0 1 2 3]\n              precision    recall  f1-score     support Aspect\nNone           0.997086  0.994189  0.995635  2065.00000  smell\nNegative       0.781250  0.961538  0.862069    26.00000  smell\nNeutral        0.000000  0.000000  0.000000     6.00000  smell\nPositive       0.827957  0.875000  0.850829    88.00000  smell\naccuracy       0.986270  0.986270  0.986270     0.98627  smell\nmacro avg      0.651573  0.707682  0.677133  2185.00000  smell\nweighted avg   0.984968  0.986270  0.985480  2185.00000  smell\n",
          "output_type": "stream"
        },
        {
          "name": "stderr",
          "text": "/usr/local/lib/python3.10/dist-packages/sklearn/metrics/_classification.py:1344: UndefinedMetricWarning: Precision and F-score are ill-defined and being set to 0.0 in labels with no predicted samples. Use `zero_division` parameter to control this behavior.\n  _warn_prf(average, modifier, msg_start, len(result))\n/usr/local/lib/python3.10/dist-packages/sklearn/metrics/_classification.py:1344: UndefinedMetricWarning: Precision and F-score are ill-defined and being set to 0.0 in labels with no predicted samples. Use `zero_division` parameter to control this behavior.\n  _warn_prf(average, modifier, msg_start, len(result))\n/usr/local/lib/python3.10/dist-packages/sklearn/metrics/_classification.py:1344: UndefinedMetricWarning: Precision and F-score are ill-defined and being set to 0.0 in labels with no predicted samples. Use `zero_division` parameter to control this behavior.\n  _warn_prf(average, modifier, msg_start, len(result))\n/usr/local/lib/python3.10/dist-packages/sklearn/metrics/_classification.py:1344: UndefinedMetricWarning: Precision and F-score are ill-defined and being set to 0.0 in labels with no predicted samples. Use `zero_division` parameter to control this behavior.\n  _warn_prf(average, modifier, msg_start, len(result))\n/usr/local/lib/python3.10/dist-packages/sklearn/metrics/_classification.py:1344: UndefinedMetricWarning: Precision and F-score are ill-defined and being set to 0.0 in labels with no predicted samples. Use `zero_division` parameter to control this behavior.\n  _warn_prf(average, modifier, msg_start, len(result))\n/usr/local/lib/python3.10/dist-packages/sklearn/metrics/_classification.py:1344: UndefinedMetricWarning: Precision and F-score are ill-defined and being set to 0.0 in labels with no predicted samples. Use `zero_division` parameter to control this behavior.\n  _warn_prf(average, modifier, msg_start, len(result))\n/usr/local/lib/python3.10/dist-packages/sklearn/metrics/_classification.py:1344: UndefinedMetricWarning: Precision and F-score are ill-defined and being set to 0.0 in labels with no predicted samples. Use `zero_division` parameter to control this behavior.\n  _warn_prf(average, modifier, msg_start, len(result))\n/usr/local/lib/python3.10/dist-packages/sklearn/metrics/_classification.py:1344: UndefinedMetricWarning: Precision and F-score are ill-defined and being set to 0.0 in labels with no predicted samples. Use `zero_division` parameter to control this behavior.\n  _warn_prf(average, modifier, msg_start, len(result))\n/usr/local/lib/python3.10/dist-packages/sklearn/metrics/_classification.py:1344: UndefinedMetricWarning: Precision and F-score are ill-defined and being set to 0.0 in labels with no predicted samples. Use `zero_division` parameter to control this behavior.\n  _warn_prf(average, modifier, msg_start, len(result))\n",
          "output_type": "stream"
        }
      ],
      "execution_count": null
    },
    {
      "cell_type": "code",
      "source": [
        "output_lstm.to_csv('/kaggle/working/sentiment_bilstm.csv')"
      ],
      "metadata": {
        "id": "Xy-qvjywpxMJ",
        "trusted": true,
        "execution": {
          "iopub.status.busy": "2024-12-24T07:12:06.686365Z",
          "iopub.execute_input": "2024-12-24T07:12:06.686661Z",
          "iopub.status.idle": "2024-12-24T07:12:06.69322Z",
          "shell.execute_reply.started": "2024-12-24T07:12:06.686638Z",
          "shell.execute_reply": "2024-12-24T07:12:06.692545Z"
        }
      },
      "outputs": [],
      "execution_count": null
    },
    {
      "cell_type": "code",
      "source": [
        "\n",
        "# Đánh giá mô hình với cả dữ liệu test và nhãn test\n",
        "y_pred_lstm = predict(model_lstm, embeddings['test'], verbose=1)\n",
        "evaluation = model_lstm.evaluate(embeddings['test'], label_test, verbose=1)\n",
        "\n",
        "# In ra các metrics\n",
        "metrics_names = model_lstm.metrics_names\n",
        "for metric, value in zip(metrics_names, evaluation):\n",
        "    print(f\"{metric}: {value}\")"
      ],
      "metadata": {
        "colab": {
          "base_uri": "https://localhost:8080/"
        },
        "id": "jrueY5i8aGpd",
        "outputId": "e31c784f-07eb-41ce-bf5d-3d412707d65e",
        "trusted": true,
        "execution": {
          "iopub.status.busy": "2024-12-24T07:13:04.492548Z",
          "iopub.execute_input": "2024-12-24T07:13:04.49285Z",
          "iopub.status.idle": "2024-12-24T07:13:10.653226Z",
          "shell.execute_reply.started": "2024-12-24T07:13:04.492827Z",
          "shell.execute_reply": "2024-12-24T07:13:10.652518Z"
        }
      },
      "outputs": [
        {
          "name": "stdout",
          "text": "\u001b[1m2185/2185\u001b[0m \u001b[32m━━━━━━━━━━━━━━━━━━━━\u001b[0m\u001b[37m\u001b[0m \u001b[1m5s\u001b[0m 2ms/step\n\u001b[1m69/69\u001b[0m \u001b[32m━━━━━━━━━━━━━━━━━━━━\u001b[0m\u001b[37m\u001b[0m \u001b[1m0s\u001b[0m 3ms/step - accuracy: 0.9382 - loss: 0.1741\nloss: 0.18872444331645966\ncompile_metrics: 0.9344230890274048\n",
          "output_type": "stream"
        }
      ],
      "execution_count": null
    },
    {
      "cell_type": "code",
      "source": [
        "replacements = {0: None, 1: 'positive', 2: 'negative', 3: 'neutral'}\n",
        "categories = data_test.columns[1:]\n",
        "print('Example:', data_test['Content'][6])\n",
        "print_acsa_pred(replacements,categories, y_pred_lstm[6])"
      ],
      "metadata": {
        "colab": {
          "base_uri": "https://localhost:8080/"
        },
        "id": "yqdYYmyQawio",
        "outputId": "1bdf575f-4b45-4ef2-ca93-6a5c43a06bb2",
        "trusted": true,
        "execution": {
          "iopub.status.busy": "2024-12-24T07:13:15.761318Z",
          "iopub.execute_input": "2024-12-24T07:13:15.761607Z",
          "iopub.status.idle": "2024-12-24T07:13:15.767413Z",
          "shell.execute_reply.started": "2024-12-24T07:13:15.761583Z",
          "shell.execute_reply": "2024-12-24T07:13:15.766613Z"
        }
      },
      "outputs": [
        {
          "name": "stdout",
          "text": "Example: xài đồ của la roche thì không phải lo xài cực kì tốt cực kì đã luôn ạ\n=> quality: neutral\n",
          "output_type": "stream"
        }
      ],
      "execution_count": null
    },
    {
      "cell_type": "code",
      "source": [
        "y_test_argmax = np.argmax(label_test, axis=-1)\n",
        "y_test_argmax"
      ],
      "metadata": {
        "colab": {
          "base_uri": "https://localhost:8080/"
        },
        "id": "dGUj0U_FbR4c",
        "outputId": "a7b26302-47fb-427f-f1d6-f3f5f215a8b4",
        "trusted": true,
        "execution": {
          "iopub.status.busy": "2024-12-24T07:13:19.35706Z",
          "iopub.execute_input": "2024-12-24T07:13:19.35737Z",
          "iopub.status.idle": "2024-12-24T07:13:19.363686Z",
          "shell.execute_reply.started": "2024-12-24T07:13:19.357347Z",
          "shell.execute_reply": "2024-12-24T07:13:19.362881Z"
        }
      },
      "outputs": [
        {
          "execution_count": 38,
          "output_type": "execute_result",
          "data": {
            "text/plain": "array([[0, 0, 0, ..., 3, 0, 0],\n       [0, 0, 0, ..., 0, 0, 3],\n       [3, 0, 0, ..., 0, 0, 0],\n       ...,\n       [0, 0, 0, ..., 3, 0, 0],\n       [0, 0, 3, ..., 0, 0, 0],\n       [0, 0, 0, ..., 3, 0, 0]])"
          },
          "metadata": {}
        }
      ],
      "execution_count": null
    },
    {
      "cell_type": "code",
      "source": [
        "aspect_test = []\n",
        "aspect_pred = []\n",
        "\n",
        "for row_test, row_pred in zip(y_test_argmax, y_test_argmax):\n",
        "    for index, (col_test, col_pred) in enumerate(zip(row_test, row_pred)):\n",
        "        aspect_test.append(bool(col_test) * categories[index])\n",
        "        aspect_pred.append(bool(col_pred) * categories[index])"
      ],
      "metadata": {
        "id": "fSgIJ5qja793",
        "trusted": true,
        "execution": {
          "iopub.status.busy": "2024-12-24T07:13:22.041441Z",
          "iopub.execute_input": "2024-12-24T07:13:22.041738Z",
          "iopub.status.idle": "2024-12-24T07:13:22.074033Z",
          "shell.execute_reply.started": "2024-12-24T07:13:22.041709Z",
          "shell.execute_reply": "2024-12-24T07:13:22.073252Z"
        }
      },
      "outputs": [],
      "execution_count": null
    },
    {
      "cell_type": "code",
      "source": [
        "from sklearn.metrics import classification_report\n",
        "aspect_report = classification_report(aspect_test, aspect_pred, digits=4, zero_division=1, output_dict=True)\n",
        "\n",
        "# Convert the dictionary to a pandas DataFrame\n",
        "aspect_report_df = pd.DataFrame(aspect_report).transpose()\n",
        "print(classification_report(aspect_test, aspect_pred, digits=4, zero_division=1))"
      ],
      "metadata": {
        "colab": {
          "base_uri": "https://localhost:8080/"
        },
        "id": "ZsDbezBYbWmX",
        "outputId": "1bc8c0e3-041f-44d0-9cf0-41df61d4a01d",
        "trusted": true,
        "execution": {
          "iopub.status.busy": "2024-12-24T07:13:25.408731Z",
          "iopub.execute_input": "2024-12-24T07:13:25.409023Z",
          "iopub.status.idle": "2024-12-24T07:13:25.69206Z",
          "shell.execute_reply.started": "2024-12-24T07:13:25.409002Z",
          "shell.execute_reply": "2024-12-24T07:13:25.691135Z"
        }
      },
      "outputs": [
        {
          "name": "stdout",
          "text": "              precision    recall  f1-score   support\n\n                 1.0000    1.0000    1.0000     13135\n     General     1.0000    1.0000    1.0000       742\n      others     1.0000    1.0000    1.0000        34\n     packing     1.0000    1.0000    1.0000       226\n       price     1.0000    1.0000    1.0000       203\n     quality     1.0000    1.0000    1.0000       604\n    shipping     1.0000    1.0000    1.0000       231\n       smell     1.0000    1.0000    1.0000       120\n\n    accuracy                         1.0000     15295\n   macro avg     1.0000    1.0000    1.0000     15295\nweighted avg     1.0000    1.0000    1.0000     15295\n\n",
          "output_type": "stream"
        }
      ],
      "execution_count": null
    },
    {
      "cell_type": "code",
      "source": [
        "aspect_report_df.to_csv('/kaggle/working/aspect_bilstm.csv')"
      ],
      "metadata": {
        "id": "MFsTbGfQqa2y",
        "trusted": true,
        "execution": {
          "iopub.status.busy": "2024-12-24T07:13:36.698989Z",
          "iopub.execute_input": "2024-12-24T07:13:36.699307Z",
          "iopub.status.idle": "2024-12-24T07:13:36.703969Z",
          "shell.execute_reply.started": "2024-12-24T07:13:36.699258Z",
          "shell.execute_reply": "2024-12-24T07:13:36.703191Z"
        }
      },
      "outputs": [],
      "execution_count": null
    },
    {
      "cell_type": "markdown",
      "source": [
        "# BiLSTM + Conv"
      ],
      "metadata": {
        "id": "aGhZP1oWO8pA"
      }
    },
    {
      "cell_type": "code",
      "source": [
        "import tensorflow as tf\n",
        "from tensorflow.keras.layers import Input, Bidirectional, LSTM, Dense, Dropout, TimeDistributed, RepeatVector, Conv1D\n",
        "from tensorflow.keras.optimizers import Adam\n",
        "from tensorflow.keras.callbacks import EarlyStopping\n",
        "\n",
        "def bilstm_conv(embedding_dim, num_aspects, output_dim, padded_aspect_train, padded_aspect_val, label_aspect_train, label_aspect_val, epochs=70, batch_size=128, callbacks=None, verbose=1):\n",
        "    # Define input layer\n",
        "    input_layer = Input(shape=(embedding_dim,))\n",
        "\n",
        "    # Expand dimensions to match the input shape requirement of the LSTM\n",
        "    input_expanded = RepeatVector(num_aspects)(input_layer)\n",
        "\n",
        "    # Define Bidirectional LSTM layer\n",
        "    lstm_layer = Bidirectional(LSTM(units=200, activation='tanh', return_sequences=True))(input_expanded)\n",
        "\n",
        "    # Adding a Conv1D layer after LSTM\n",
        "    conv_layer = Conv1D(filters=64, kernel_size=3, padding='same', activation='relu')(lstm_layer)\n",
        "\n",
        "    # TimeDistributed layer to apply Dense layers across all time steps\n",
        "    aspect_dense2 = TimeDistributed(Dense(128, activation='relu'))(conv_layer)\n",
        "    aspect_dropout1 = TimeDistributed(Dropout(0.2))(aspect_dense2)\n",
        "    aspect_dense3 = TimeDistributed(Dense(64, activation='relu'))(aspect_dropout1)\n",
        "    aspect_dense4 = TimeDistributed(Dense(32, activation='relu'))(aspect_dense3)\n",
        "\n",
        "    # Output layer: num_aspects * output_dim units corresponding to 6 aspects with 4 categories each\n",
        "    aspect_dense5 = TimeDistributed(Dense(units=4, activation='softmax'))(aspect_dense4)\n",
        "\n",
        "    # Define and compile the model\n",
        "    aspect_model = tf.keras.Model(inputs=input_layer, outputs=aspect_dense5)\n",
        "    aspect_model.compile(optimizer=Adam(learning_rate=0.0001), loss='categorical_crossentropy', metrics=['accuracy'])\n",
        "\n",
        "    # Define callback for early stopping\n",
        "    callback = EarlyStopping(monitor='val_loss', patience=3)\n",
        "\n",
        "    # Train the model\n",
        "    history = aspect_model.fit(\n",
        "        x=padded_aspect_train,\n",
        "        y=label_aspect_train,\n",
        "        validation_data=(padded_aspect_val, label_aspect_val),\n",
        "        batch_size=batch_size,\n",
        "        epochs=epochs,\n",
        "        callbacks=callbacks if callbacks else [callback],\n",
        "        verbose=verbose\n",
        "    )\n",
        "\n",
        "    return aspect_model, history\n",
        "\n",
        "# Example usage\n",
        "embedding_dim = 768\n",
        "num_aspects = 7\n",
        "output_dim = 4\n",
        "\n",
        "# Example placeholders for embeddings and labels\n",
        "padded_aspect_train = embeddings['train']\n",
        "padded_aspect_val = embeddings['val']\n",
        "label_aspect_train = label_train\n",
        "label_aspect_val = label_val\n",
        "\n",
        "callback = EarlyStopping(monitor='val_loss', patience=5)\n",
        "model_lstm_conv, history_lstm_conv = bilstm_conv(embedding_dim, num_aspects, output_dim, padded_aspect_train, padded_aspect_val, label_aspect_train, label_aspect_val, epochs=200, batch_size=128, callbacks=[callback], verbose=1)\n"
      ],
      "metadata": {
        "id": "XbKbShppbaNM",
        "colab": {
          "base_uri": "https://localhost:8080/"
        },
        "outputId": "cb6d3f02-4a10-483f-b140-f4a2a9c0645b",
        "trusted": true,
        "execution": {
          "iopub.status.busy": "2024-12-24T07:13:42.634885Z",
          "iopub.execute_input": "2024-12-24T07:13:42.635169Z",
          "iopub.status.idle": "2024-12-24T07:14:07.943258Z",
          "shell.execute_reply.started": "2024-12-24T07:13:42.635148Z",
          "shell.execute_reply": "2024-12-24T07:14:07.942593Z"
        }
      },
      "outputs": [
        {
          "name": "stdout",
          "text": "Epoch 1/200\n\u001b[1m80/80\u001b[0m \u001b[32m━━━━━━━━━━━━━━━━━━━━\u001b[0m\u001b[37m\u001b[0m \u001b[1m6s\u001b[0m 20ms/step - accuracy: 0.7622 - loss: 0.9778 - val_accuracy: 0.8588 - val_loss: 0.4488\nEpoch 2/200\n\u001b[1m80/80\u001b[0m \u001b[32m━━━━━━━━━━━━━━━━━━━━\u001b[0m\u001b[37m\u001b[0m \u001b[1m1s\u001b[0m 12ms/step - accuracy: 0.8596 - loss: 0.4437 - val_accuracy: 0.8688 - val_loss: 0.3623\nEpoch 3/200\n\u001b[1m80/80\u001b[0m \u001b[32m━━━━━━━━━━━━━━━━━━━━\u001b[0m\u001b[37m\u001b[0m \u001b[1m1s\u001b[0m 12ms/step - accuracy: 0.8725 - loss: 0.3527 - val_accuracy: 0.9086 - val_loss: 0.2722\nEpoch 4/200\n\u001b[1m80/80\u001b[0m \u001b[32m━━━━━━━━━━━━━━━━━━━━\u001b[0m\u001b[37m\u001b[0m \u001b[1m1s\u001b[0m 12ms/step - accuracy: 0.9101 - loss: 0.2664 - val_accuracy: 0.9214 - val_loss: 0.2332\nEpoch 5/200\n\u001b[1m80/80\u001b[0m \u001b[32m━━━━━━━━━━━━━━━━━━━━\u001b[0m\u001b[37m\u001b[0m \u001b[1m1s\u001b[0m 12ms/step - accuracy: 0.9221 - loss: 0.2355 - val_accuracy: 0.9271 - val_loss: 0.2150\nEpoch 6/200\n\u001b[1m80/80\u001b[0m \u001b[32m━━━━━━━━━━━━━━━━━━━━\u001b[0m\u001b[37m\u001b[0m \u001b[1m1s\u001b[0m 12ms/step - accuracy: 0.9296 - loss: 0.2128 - val_accuracy: 0.9314 - val_loss: 0.2026\nEpoch 7/200\n\u001b[1m80/80\u001b[0m \u001b[32m━━━━━━━━━━━━━━━━━━━━\u001b[0m\u001b[37m\u001b[0m \u001b[1m1s\u001b[0m 12ms/step - accuracy: 0.9335 - loss: 0.1964 - val_accuracy: 0.9343 - val_loss: 0.1941\nEpoch 8/200\n\u001b[1m80/80\u001b[0m \u001b[32m━━━━━━━━━━━━━━━━━━━━\u001b[0m\u001b[37m\u001b[0m \u001b[1m1s\u001b[0m 13ms/step - accuracy: 0.9381 - loss: 0.1820 - val_accuracy: 0.9350 - val_loss: 0.1907\nEpoch 9/200\n\u001b[1m80/80\u001b[0m \u001b[32m━━━━━━━━━━━━━━━━━━━━\u001b[0m\u001b[37m\u001b[0m \u001b[1m1s\u001b[0m 12ms/step - accuracy: 0.9405 - loss: 0.1771 - val_accuracy: 0.9377 - val_loss: 0.1865\nEpoch 10/200\n\u001b[1m80/80\u001b[0m \u001b[32m━━━━━━━━━━━━━━━━━━━━\u001b[0m\u001b[37m\u001b[0m \u001b[1m1s\u001b[0m 12ms/step - accuracy: 0.9415 - loss: 0.1690 - val_accuracy: 0.9375 - val_loss: 0.1838\nEpoch 11/200\n\u001b[1m80/80\u001b[0m \u001b[32m━━━━━━━━━━━━━━━━━━━━\u001b[0m\u001b[37m\u001b[0m \u001b[1m1s\u001b[0m 12ms/step - accuracy: 0.9434 - loss: 0.1676 - val_accuracy: 0.9369 - val_loss: 0.1853\nEpoch 12/200\n\u001b[1m80/80\u001b[0m \u001b[32m━━━━━━━━━━━━━━━━━━━━\u001b[0m\u001b[37m\u001b[0m \u001b[1m1s\u001b[0m 12ms/step - accuracy: 0.9461 - loss: 0.1588 - val_accuracy: 0.9352 - val_loss: 0.1889\nEpoch 13/200\n\u001b[1m80/80\u001b[0m \u001b[32m━━━━━━━━━━━━━━━━━━━━\u001b[0m\u001b[37m\u001b[0m \u001b[1m1s\u001b[0m 12ms/step - accuracy: 0.9495 - loss: 0.1503 - val_accuracy: 0.9387 - val_loss: 0.1797\nEpoch 14/200\n\u001b[1m80/80\u001b[0m \u001b[32m━━━━━━━━━━━━━━━━━━━━\u001b[0m\u001b[37m\u001b[0m \u001b[1m1s\u001b[0m 11ms/step - accuracy: 0.9497 - loss: 0.1467 - val_accuracy: 0.9397 - val_loss: 0.1776\nEpoch 15/200\n\u001b[1m80/80\u001b[0m \u001b[32m━━━━━━━━━━━━━━━━━━━━\u001b[0m\u001b[37m\u001b[0m \u001b[1m1s\u001b[0m 12ms/step - accuracy: 0.9510 - loss: 0.1422 - val_accuracy: 0.9366 - val_loss: 0.1826\nEpoch 16/200\n\u001b[1m80/80\u001b[0m \u001b[32m━━━━━━━━━━━━━━━━━━━━\u001b[0m\u001b[37m\u001b[0m \u001b[1m1s\u001b[0m 12ms/step - accuracy: 0.9528 - loss: 0.1368 - val_accuracy: 0.9397 - val_loss: 0.1759\nEpoch 17/200\n\u001b[1m80/80\u001b[0m \u001b[32m━━━━━━━━━━━━━━━━━━━━\u001b[0m\u001b[37m\u001b[0m \u001b[1m1s\u001b[0m 11ms/step - accuracy: 0.9537 - loss: 0.1316 - val_accuracy: 0.9405 - val_loss: 0.1774\nEpoch 18/200\n\u001b[1m80/80\u001b[0m \u001b[32m━━━━━━━━━━━━━━━━━━━━\u001b[0m\u001b[37m\u001b[0m \u001b[1m1s\u001b[0m 11ms/step - accuracy: 0.9564 - loss: 0.1258 - val_accuracy: 0.9403 - val_loss: 0.1797\nEpoch 19/200\n\u001b[1m80/80\u001b[0m \u001b[32m━━━━━━━━━━━━━━━━━━━━\u001b[0m\u001b[37m\u001b[0m \u001b[1m1s\u001b[0m 11ms/step - accuracy: 0.9572 - loss: 0.1232 - val_accuracy: 0.9405 - val_loss: 0.1773\nEpoch 20/200\n\u001b[1m80/80\u001b[0m \u001b[32m━━━━━━━━━━━━━━━━━━━━\u001b[0m\u001b[37m\u001b[0m \u001b[1m1s\u001b[0m 11ms/step - accuracy: 0.9573 - loss: 0.1242 - val_accuracy: 0.9406 - val_loss: 0.1787\nEpoch 21/200\n\u001b[1m80/80\u001b[0m \u001b[32m━━━━━━━━━━━━━━━━━━━━\u001b[0m\u001b[37m\u001b[0m \u001b[1m1s\u001b[0m 12ms/step - accuracy: 0.9581 - loss: 0.1229 - val_accuracy: 0.9419 - val_loss: 0.1816\n",
          "output_type": "stream"
        }
      ],
      "execution_count": null
    },
    {
      "cell_type": "code",
      "source": [
        "# Dự đoán bằng mô hình BiLSTM + Conv\n",
        "predictions = model_lstm_conv.predict(embeddings['test'])\n",
        "\n",
        "# Convert predictions to class labels (nếu các dự đoán là xác suất, chuyển chúng thành nhãn lớp)\n",
        "predicted_labels = np.argmax(predictions, axis=-1)\n",
        "\n",
        "# Chuyển nhãn thực tế (label_test) về dạng nhãn lớp\n",
        "true_labels = np.argmax(label_test, axis=-1)\n",
        "\n",
        "# Đảm bảo rằng true_labels và predicted_labels có cùng hình dạng\n",
        "print(f\"Predicted labels shape: {predicted_labels.shape}\")\n",
        "print(f\"True labels shape: {true_labels.shape}\")\n",
        "\n",
        "# Khởi tạo DataFrame để lưu kết quả\n",
        "output_lstm_conv = pd.DataFrame()\n",
        "\n",
        "# Lặp qua từng aspect (cột) trong dữ liệu\n",
        "for i in range(num_aspects):\n",
        "    aspect_name = data_train.columns[i+1]\n",
        "    print(f\"\\nEvaluating aspect: {aspect_name}\")\n",
        "\n",
        "    # Kiểm tra các classes có trong dữ liệu của aspect hiện tại\n",
        "    current_true_classes = np.unique(true_labels[:, i])\n",
        "    current_pred_classes = np.unique(predicted_labels[:, i])\n",
        "    current_classes = np.unique(np.concatenate([current_true_classes, current_pred_classes]))\n",
        "    print(f\"Classes in {aspect_name}: {current_classes}\")\n",
        "\n",
        "    # Tạo target_names và labels tương ứng với các classes hiện có\n",
        "    aspect_target_names = []\n",
        "    labels = []\n",
        "    all_names = ['None', 'Negative', 'Neutral', 'Positive']\n",
        "    for idx in current_classes:\n",
        "        labels.append(idx)\n",
        "        aspect_target_names.append(all_names[idx])\n",
        "\n",
        "    # Tạo classification report với labels được chỉ định\n",
        "    report = classification_report(true_labels[:, i], predicted_labels[:, i],\n",
        "                                 labels=labels,\n",
        "                                 target_names=aspect_target_names,\n",
        "                                 output_dict=True)\n",
        "\n",
        "    # Chuyển classification report thành DataFrame và thêm tên aspect vào\n",
        "    aspect_report_df = pd.DataFrame(report).transpose()\n",
        "    aspect_report_df['Aspect'] = aspect_name\n",
        "\n",
        "    # Append báo cáo của aspect này vào DataFrame chính\n",
        "    output_lstm_conv = pd.concat([output_lstm_conv, aspect_report_df], ignore_index=True)\n",
        "\n",
        "    # In classification report cho từng aspect\n",
        "    print(aspect_report_df)\n",
        "\n",
        "# Lưu kết quả cuối cùng thành tệp CSV\n",
        "output_lstm_conv.to_csv('/kaggle/working/sentiment_bilstm_conv.csv', index=False)\n",
        "\n",
        "# In ra thông báo đã lưu\n",
        "print(\"\\nClassification report has been saved to 'sentiment_bilstm_conv.csv'.\")\n"
      ],
      "metadata": {
        "trusted": true,
        "execution": {
          "iopub.status.busy": "2024-12-24T07:15:48.605852Z",
          "iopub.execute_input": "2024-12-24T07:15:48.606156Z",
          "iopub.status.idle": "2024-12-24T07:15:48.957924Z",
          "shell.execute_reply.started": "2024-12-24T07:15:48.606134Z",
          "shell.execute_reply": "2024-12-24T07:15:48.956925Z"
        },
        "id": "PwRpLqyfp6Dt",
        "outputId": "28e613d4-d553-478a-9746-76abf392e857"
      },
      "outputs": [
        {
          "name": "stdout",
          "text": "\u001b[1m69/69\u001b[0m \u001b[32m━━━━━━━━━━━━━━━━━━━━\u001b[0m\u001b[37m\u001b[0m \u001b[1m0s\u001b[0m 3ms/step\nPredicted labels shape: (2185, 7)\nTrue labels shape: (2185, 7)\n\nEvaluating aspect: General\nClasses in General: [0 1 2 3]\n              precision    recall  f1-score     support   Aspect\nNone           0.856757  0.878725  0.867602  1443.00000  General\nNegative       0.500000  0.413793  0.452830    29.00000  General\nNeutral        0.450000  0.145161  0.219512    62.00000  General\nPositive       0.714070  0.725038  0.719512   651.00000  General\naccuracy       0.805950  0.805950  0.805950     0.80595  General\nmacro avg      0.630207  0.540679  0.564864  2185.00000  General\nweighted avg   0.797968  0.805950  0.799585  2185.00000  General\n\nEvaluating aspect: others\nClasses in others: [0 2 3]\n              precision    recall  f1-score      support  Aspect\nNone           0.986648  0.996281  0.991441  2151.000000  others\nNeutral        0.250000  0.142857  0.181818    21.000000  others\nPositive       0.000000  0.000000  0.000000    13.000000  others\naccuracy       0.982151  0.982151  0.982151     0.982151  others\nmacro avg      0.412216  0.379713  0.391086  2185.000000  others\nweighted avg   0.973698  0.982151  0.977761  2185.000000  others\n\nEvaluating aspect: packing\nClasses in packing: [0 1 2 3]\n              precision    recall  f1-score      support   Aspect\nNone           0.977000  0.997448  0.987118  1959.000000  packing\nNegative       0.851852  0.657143  0.741935    35.000000  packing\nNeutral        0.000000  0.000000  0.000000     3.000000  packing\nPositive       0.962025  0.808511  0.878613   188.000000  packing\naccuracy       0.974371  0.974371  0.974371     0.974371  packing\nmacro avg      0.697719  0.615775  0.651917  2185.000000  packing\nweighted avg   0.972365  0.974371  0.972499  2185.000000  packing\n\nEvaluating aspect: price\nClasses in price: [0 1 2 3]\n              precision    recall  f1-score      support Aspect\nNone           0.966832  0.985368  0.976012  1982.000000  price\nNegative       0.200000  0.125000  0.153846     8.000000  price\nNeutral        0.000000  0.000000  0.000000     2.000000  price\nPositive       0.812500  0.673575  0.736544   193.000000  price\naccuracy       0.953776  0.953776  0.953776     0.953776  price\nmacro avg      0.494833  0.445986  0.466601  2185.000000  price\nweighted avg   0.949507  0.953776  0.950956  2185.000000  price\n\nEvaluating aspect: quality\nClasses in quality: [0 1 2 3]\n              precision    recall  f1-score      support   Aspect\nNone           0.905762  0.954459  0.929473  1581.000000  quality\nNegative       0.500000  0.444444  0.470588    27.000000  quality\nNeutral        0.000000  0.000000  0.000000    20.000000  quality\nPositive       0.838057  0.743268  0.787821   557.000000  quality\naccuracy       0.885584  0.885584  0.885584     0.885584  quality\nmacro avg      0.560955  0.535543  0.546971  2185.000000  quality\nweighted avg   0.875198  0.885584  0.879185  2185.000000  quality\n\nEvaluating aspect: shipping\nClasses in shipping: [0 1 2 3]\n              precision    recall  f1-score      support    Aspect\nNone           0.986133  0.982600  0.984363  1954.000000  shipping\nNegative       0.631579  0.500000  0.558140    24.000000  shipping\nNeutral        0.000000  0.000000  0.000000     2.000000  shipping\nPositive       0.831050  0.887805  0.858491   205.000000  shipping\naccuracy       0.967506  0.967506  0.967506     0.967506  shipping\nmacro avg      0.612190  0.592601  0.600248  2185.000000  shipping\nweighted avg   0.966785  0.967506  0.966971  2185.000000  shipping\n\nEvaluating aspect: smell\nClasses in smell: [0 1 2 3]\n              precision    recall  f1-score      support Aspect\nNone           0.997574  0.995642  0.996607  2065.000000  smell\nNegative       0.806452  0.961538  0.877193    26.000000  smell\nNeutral        0.000000  0.000000  0.000000     6.000000  smell\nPositive       0.860215  0.909091  0.883978    88.000000  smell\naccuracy       0.989016  0.989016  0.989016     0.989016  smell\nmacro avg      0.666060  0.716568  0.689444  2185.000000  smell\nweighted avg   0.987028  0.989016  0.987913  2185.000000  smell\n\nClassification report has been saved to 'sentiment_bilstm_conv.csv'.\n",
          "output_type": "stream"
        },
        {
          "name": "stderr",
          "text": "/usr/local/lib/python3.10/dist-packages/sklearn/metrics/_classification.py:1344: UndefinedMetricWarning: Precision and F-score are ill-defined and being set to 0.0 in labels with no predicted samples. Use `zero_division` parameter to control this behavior.\n  _warn_prf(average, modifier, msg_start, len(result))\n/usr/local/lib/python3.10/dist-packages/sklearn/metrics/_classification.py:1344: UndefinedMetricWarning: Precision and F-score are ill-defined and being set to 0.0 in labels with no predicted samples. Use `zero_division` parameter to control this behavior.\n  _warn_prf(average, modifier, msg_start, len(result))\n/usr/local/lib/python3.10/dist-packages/sklearn/metrics/_classification.py:1344: UndefinedMetricWarning: Precision and F-score are ill-defined and being set to 0.0 in labels with no predicted samples. Use `zero_division` parameter to control this behavior.\n  _warn_prf(average, modifier, msg_start, len(result))\n/usr/local/lib/python3.10/dist-packages/sklearn/metrics/_classification.py:1344: UndefinedMetricWarning: Precision and F-score are ill-defined and being set to 0.0 in labels with no predicted samples. Use `zero_division` parameter to control this behavior.\n  _warn_prf(average, modifier, msg_start, len(result))\n/usr/local/lib/python3.10/dist-packages/sklearn/metrics/_classification.py:1344: UndefinedMetricWarning: Precision and F-score are ill-defined and being set to 0.0 in labels with no predicted samples. Use `zero_division` parameter to control this behavior.\n  _warn_prf(average, modifier, msg_start, len(result))\n/usr/local/lib/python3.10/dist-packages/sklearn/metrics/_classification.py:1344: UndefinedMetricWarning: Precision and F-score are ill-defined and being set to 0.0 in labels with no predicted samples. Use `zero_division` parameter to control this behavior.\n  _warn_prf(average, modifier, msg_start, len(result))\n/usr/local/lib/python3.10/dist-packages/sklearn/metrics/_classification.py:1344: UndefinedMetricWarning: Precision and F-score are ill-defined and being set to 0.0 in labels with no predicted samples. Use `zero_division` parameter to control this behavior.\n  _warn_prf(average, modifier, msg_start, len(result))\n/usr/local/lib/python3.10/dist-packages/sklearn/metrics/_classification.py:1344: UndefinedMetricWarning: Precision and F-score are ill-defined and being set to 0.0 in labels with no predicted samples. Use `zero_division` parameter to control this behavior.\n  _warn_prf(average, modifier, msg_start, len(result))\n/usr/local/lib/python3.10/dist-packages/sklearn/metrics/_classification.py:1344: UndefinedMetricWarning: Precision and F-score are ill-defined and being set to 0.0 in labels with no predicted samples. Use `zero_division` parameter to control this behavior.\n  _warn_prf(average, modifier, msg_start, len(result))\n/usr/local/lib/python3.10/dist-packages/sklearn/metrics/_classification.py:1344: UndefinedMetricWarning: Precision and F-score are ill-defined and being set to 0.0 in labels with no predicted samples. Use `zero_division` parameter to control this behavior.\n  _warn_prf(average, modifier, msg_start, len(result))\n/usr/local/lib/python3.10/dist-packages/sklearn/metrics/_classification.py:1344: UndefinedMetricWarning: Precision and F-score are ill-defined and being set to 0.0 in labels with no predicted samples. Use `zero_division` parameter to control this behavior.\n  _warn_prf(average, modifier, msg_start, len(result))\n/usr/local/lib/python3.10/dist-packages/sklearn/metrics/_classification.py:1344: UndefinedMetricWarning: Precision and F-score are ill-defined and being set to 0.0 in labels with no predicted samples. Use `zero_division` parameter to control this behavior.\n  _warn_prf(average, modifier, msg_start, len(result))\n",
          "output_type": "stream"
        }
      ],
      "execution_count": null
    },
    {
      "cell_type": "code",
      "source": [],
      "metadata": {
        "id": "rDaL1SYWOZAS",
        "trusted": true
      },
      "outputs": [],
      "execution_count": null
    },
    {
      "cell_type": "code",
      "source": [
        "def predict(model, inputs, batch_size=1, verbose=0):\n",
        "    y_pred = model.predict(inputs, batch_size=batch_size, verbose=verbose)\n",
        "    y_pred = y_pred.reshape(len(y_pred), -1, 4)\n",
        "    return np.argmax(y_pred, axis=-1)\n",
        "def print_acsa_pred(replacements, categories, sentence_pred):\n",
        "    # Nếu sentence_pred là mảng, lấy giá trị tối đa cho mỗi lớp\n",
        "    if isinstance(sentence_pred, np.ndarray):\n",
        "        sentence_pred = np.argmax(sentence_pred, axis=-1)\n",
        "\n",
        "    # Ánh xạ các giá trị từ sentence_pred sang sentiment\n",
        "    sentiments = [replacements[x] for x in sentence_pred]  # Sử dụng list comprehension thay vì map\n",
        "\n",
        "    # In ra kết quả cho tất cả các categories, chỉ in khi sentiment không phải là None\n",
        "    for category, sentiment in zip(categories, sentiments):\n",
        "        if sentiment:  # Kiểm tra xem sentiment có khác None không\n",
        "            print(f'=> {category}: {sentiment}')"
      ],
      "metadata": {
        "id": "TBxUK2bhSXwt",
        "trusted": true,
        "execution": {
          "iopub.status.busy": "2024-12-24T07:28:58.967926Z",
          "iopub.execute_input": "2024-12-24T07:28:58.968235Z",
          "iopub.status.idle": "2024-12-24T07:28:58.97396Z",
          "shell.execute_reply.started": "2024-12-24T07:28:58.968213Z",
          "shell.execute_reply": "2024-12-24T07:28:58.973021Z"
        }
      },
      "outputs": [],
      "execution_count": null
    },
    {
      "cell_type": "code",
      "source": [
        "# Dự đoán với mô hình BiLSTM + Conv\n",
        "y_pred_lstm_conv = model_lstm_conv.predict(embeddings['test'], verbose=1)\n",
        "\n",
        "# Đánh giá mô hình với dữ liệu test và nhãn test\n",
        "evaluation = model_lstm_conv.evaluate(embeddings['test'], label_test, verbose=1)\n",
        "\n",
        "# In ra các metrics\n",
        "metrics_names = model_lstm_conv.metrics_names\n",
        "for metric, value in zip(metrics_names, evaluation):\n",
        "    print(f\"{metric}: {value}\")\n"
      ],
      "metadata": {
        "trusted": true,
        "execution": {
          "iopub.status.busy": "2024-12-24T07:21:57.539095Z",
          "iopub.execute_input": "2024-12-24T07:21:57.539445Z",
          "iopub.status.idle": "2024-12-24T07:21:58.07823Z",
          "shell.execute_reply.started": "2024-12-24T07:21:57.539413Z",
          "shell.execute_reply": "2024-12-24T07:21:58.077557Z"
        },
        "id": "NsnPpQQTp6Dz",
        "outputId": "feba9e78-7716-4cb8-868b-7cc54f2b1096"
      },
      "outputs": [
        {
          "name": "stdout",
          "text": "\u001b[1m69/69\u001b[0m \u001b[32m━━━━━━━━━━━━━━━━━━━━\u001b[0m\u001b[37m\u001b[0m \u001b[1m0s\u001b[0m 2ms/step\n\u001b[1m69/69\u001b[0m \u001b[32m━━━━━━━━━━━━━━━━━━━━\u001b[0m\u001b[37m\u001b[0m \u001b[1m0s\u001b[0m 3ms/step - accuracy: 0.9406 - loss: 0.1778\nloss: 0.19136324524879456\ncompile_metrics: 0.9369075298309326\n",
          "output_type": "stream"
        }
      ],
      "execution_count": null
    },
    {
      "cell_type": "code",
      "source": [
        "# Ví dụ sử dụng\n",
        "replacements = {0: None, 1: 'positive', 2: 'negative', 3: 'neutral'}\n",
        "categories = data_test.columns[1:]  # Cột từ dữ liệu test\n",
        "print('Example:', data_test['Content'][6])  # In ra nội dung ví dụ\n",
        "print_acsa_pred(replacements, categories, y_pred_lstm_conv[6])  # Gọi hàm với kết quả dự đoán\n"
      ],
      "metadata": {
        "colab": {
          "base_uri": "https://localhost:8080/"
        },
        "id": "ew3pTPLWSqEd",
        "outputId": "e311f744-a0e1-4cfe-817a-4f6696d735f1",
        "trusted": true,
        "execution": {
          "iopub.status.busy": "2024-12-24T07:23:29.050742Z",
          "iopub.execute_input": "2024-12-24T07:23:29.051029Z",
          "iopub.status.idle": "2024-12-24T07:23:29.056635Z",
          "shell.execute_reply.started": "2024-12-24T07:23:29.051007Z",
          "shell.execute_reply": "2024-12-24T07:23:29.055655Z"
        }
      },
      "outputs": [
        {
          "name": "stdout",
          "text": "Example: xài đồ của la roche thì không phải lo xài cực kì tốt cực kì đã luôn ạ\n=> quality: neutral\n",
          "output_type": "stream"
        }
      ],
      "execution_count": null
    },
    {
      "cell_type": "code",
      "source": [
        "y_test_argmax = np.argmax(label_test, axis=-1)\n",
        "y_test_argmax"
      ],
      "metadata": {
        "colab": {
          "base_uri": "https://localhost:8080/"
        },
        "id": "mQSHPNmkSuxZ",
        "outputId": "c35c5a0a-8012-4eda-cd72-ab02d8be3c55",
        "trusted": true,
        "execution": {
          "iopub.status.busy": "2024-12-24T07:23:35.620221Z",
          "iopub.execute_input": "2024-12-24T07:23:35.620586Z",
          "iopub.status.idle": "2024-12-24T07:23:35.626175Z",
          "shell.execute_reply.started": "2024-12-24T07:23:35.620559Z",
          "shell.execute_reply": "2024-12-24T07:23:35.625506Z"
        }
      },
      "outputs": [
        {
          "execution_count": 66,
          "output_type": "execute_result",
          "data": {
            "text/plain": "array([[0, 0, 0, ..., 3, 0, 0],\n       [0, 0, 0, ..., 0, 0, 3],\n       [3, 0, 0, ..., 0, 0, 0],\n       ...,\n       [0, 0, 0, ..., 3, 0, 0],\n       [0, 0, 3, ..., 0, 0, 0],\n       [0, 0, 0, ..., 3, 0, 0]])"
          },
          "metadata": {}
        }
      ],
      "execution_count": null
    },
    {
      "cell_type": "code",
      "source": [
        "aspect_test = []\n",
        "aspect_pred = []\n",
        "\n",
        "# Giả sử y_test_argmax và y_pred_lstm_conv đều là mảng 2D, với shape (num_samples, num_aspects)\n",
        "for row_test, row_pred in zip(y_test_argmax, y_pred_lstm_conv):\n",
        "    for index, (col_test, col_pred) in enumerate(zip(row_test, row_pred)):\n",
        "        # Dùng np.argmax nếu col_pred là mảng (để lấy chỉ số lớp)\n",
        "        if isinstance(col_pred, np.ndarray):\n",
        "            col_pred = np.argmax(col_pred)\n",
        "        # Kiểm tra xem giá trị có phải là lớp hợp lệ (không phải None) và ánh xạ đến category\n",
        "        aspect_test.append(bool(col_test) * categories[index])  # Nếu col_test có giá trị, append category\n",
        "        aspect_pred.append(bool(col_pred) * categories[index])  # Nếu col_pred có giá trị, append category\n"
      ],
      "metadata": {
        "id": "I5l5P-BDSvUk",
        "trusted": true,
        "execution": {
          "iopub.status.busy": "2024-12-24T07:24:19.088219Z",
          "iopub.execute_input": "2024-12-24T07:24:19.088571Z",
          "iopub.status.idle": "2024-12-24T07:24:19.177767Z",
          "shell.execute_reply.started": "2024-12-24T07:24:19.088544Z",
          "shell.execute_reply": "2024-12-24T07:24:19.176767Z"
        }
      },
      "outputs": [],
      "execution_count": null
    },
    {
      "cell_type": "code",
      "source": [
        "from sklearn.metrics import classification_report\n",
        "aspect_report = classification_report(aspect_test, aspect_pred, digits=4, zero_division=1, output_dict=True)\n",
        "\n",
        "# Convert the dictionary to a pandas DataFrame\n",
        "aspect_report_df = pd.DataFrame(aspect_report).transpose()\n",
        "print(classification_report(aspect_test, aspect_pred, digits=4, zero_division=1))\n",
        "aspect_report_df.to_csv('/kaggle/working/aspect_bilstm_conv.csv')"
      ],
      "metadata": {
        "colab": {
          "base_uri": "https://localhost:8080/"
        },
        "id": "o4GmAAwcS3GR",
        "outputId": "20206f5b-5a0d-479f-ee3b-8b8099d239f7",
        "trusted": true,
        "execution": {
          "iopub.status.busy": "2024-12-24T07:24:30.221472Z",
          "iopub.execute_input": "2024-12-24T07:24:30.221771Z",
          "iopub.status.idle": "2024-12-24T07:24:30.50383Z",
          "shell.execute_reply.started": "2024-12-24T07:24:30.221747Z",
          "shell.execute_reply": "2024-12-24T07:24:30.503062Z"
        }
      },
      "outputs": [
        {
          "name": "stdout",
          "text": "              precision    recall  f1-score   support\n\n                 0.9593    0.9747    0.9670     13135\n     General     0.7518    0.7143    0.7326       742\n      others     0.3846    0.1471    0.2128        34\n     packing     0.9730    0.7965    0.8759       226\n       price     0.8242    0.6700    0.7391       203\n     quality     0.8613    0.7401    0.7961       604\n    shipping     0.8571    0.8831    0.8699       231\n       smell     0.9274    0.9583    0.9426       120\n\n    accuracy                         0.9428     15295\n   macro avg     0.8173    0.7355    0.7670     15295\nweighted avg     0.9407    0.9428    0.9411     15295\n\n",
          "output_type": "stream"
        }
      ],
      "execution_count": null
    },
    {
      "cell_type": "markdown",
      "source": [
        "# BiGRU"
      ],
      "metadata": {
        "id": "zRRMYkKGS3uD"
      }
    },
    {
      "cell_type": "code",
      "source": [
        "import tensorflow as tf\n",
        "from tensorflow.keras.layers import Input, Bidirectional, LSTM, Dense, Dropout, TimeDistributed, RepeatVector\n",
        "from tensorflow.keras.optimizers import Adam\n",
        "from tensorflow.keras.callbacks import EarlyStopping\n",
        "\n",
        "def bilstm_aspect(embedding_dim, num_aspects, output_dim, padded_aspect_train, padded_aspect_val, label_aspect_train, label_aspect_val, epochs=70, batch_size=128, callbacks=None, verbose=1):\n",
        "    # Define input layer\n",
        "    input_layer = Input(shape=(embedding_dim,))\n",
        "\n",
        "    # Expand dimensions to match the input shape requirement of the LSTM\n",
        "    input_expanded = RepeatVector(num_aspects)(input_layer)\n",
        "\n",
        "    # Define Bidirectional LSTM layer\n",
        "    lstm_layer = Bidirectional(GRU(units=200, activation='tanh', return_sequences=True))(input_expanded)\n",
        "\n",
        "    # TimeDistributed layers to apply Dense layers across all time steps\n",
        "    aspect_dense2 = TimeDistributed(Dense(128, activation='relu'))(lstm_layer)\n",
        "    aspect_dropout1 = TimeDistributed(Dropout(0.2))(aspect_dense2)\n",
        "    aspect_dense3 = TimeDistributed(Dense(64, activation='relu'))(aspect_dropout1)\n",
        "    aspect_dense4 = TimeDistributed(Dense(output_dim, activation='softmax'))(aspect_dense3)  # Adjusted to output_dim\n",
        "\n",
        "    # Define and compile the model\n",
        "    aspect_model = tf.keras.Model(inputs=input_layer, outputs=aspect_dense4)\n",
        "    aspect_model.compile(optimizer=Adam(learning_rate=0.0001), loss='categorical_crossentropy', metrics=['accuracy'])\n",
        "\n",
        "    # Define callback for early stopping\n",
        "    callback = EarlyStopping(monitor='val_loss', patience=3)\n",
        "\n",
        "    # Train the model\n",
        "    history = aspect_model.fit(\n",
        "        x=padded_aspect_train,\n",
        "        y=label_aspect_train,\n",
        "        validation_data=(padded_aspect_val, label_aspect_val),\n",
        "        batch_size=batch_size,\n",
        "        epochs=epochs,\n",
        "        callbacks=callbacks if callbacks else [callback],\n",
        "        verbose=verbose\n",
        "    )\n",
        "\n",
        "    return aspect_model, history\n",
        "\n",
        "# Example usage\n",
        "embedding_dim = 768\n",
        "num_aspects = 7\n",
        "output_dim = 4  # Ensure this matches the number of categories/classes you have\n",
        "\n",
        "# Example placeholders for embeddings and labels\n",
        "padded_aspect_train = embeddings['train']\n",
        "padded_aspect_val = embeddings['val']\n",
        "label_aspect_train = label_train  # Ensure shape (None, 6, 4)\n",
        "label_aspect_val = label_val      # Ensure shape (None, 6, 4)\n",
        "\n",
        "callback = EarlyStopping(monitor='val_loss', patience=5)\n",
        "model_GRU, history_GRU = bilstm_aspect(embedding_dim, num_aspects, output_dim, padded_aspect_train, padded_aspect_val, label_aspect_train, label_aspect_val, epochs=200, batch_size=128, callbacks=[callback], verbose=1)\n"
      ],
      "metadata": {
        "colab": {
          "base_uri": "https://localhost:8080/"
        },
        "id": "ExhqgRAkS5JC",
        "outputId": "1247edba-9f44-4daf-e759-b038f2566306",
        "trusted": true,
        "execution": {
          "iopub.status.busy": "2024-12-24T07:24:37.909351Z",
          "iopub.execute_input": "2024-12-24T07:24:37.909651Z",
          "iopub.status.idle": "2024-12-24T07:25:07.24097Z",
          "shell.execute_reply.started": "2024-12-24T07:24:37.909627Z",
          "shell.execute_reply": "2024-12-24T07:25:07.240044Z"
        }
      },
      "outputs": [
        {
          "name": "stdout",
          "text": "Epoch 1/200\n\u001b[1m80/80\u001b[0m \u001b[32m━━━━━━━━━━━━━━━━━━━━\u001b[0m\u001b[37m\u001b[0m \u001b[1m4s\u001b[0m 16ms/step - accuracy: 0.7492 - loss: 0.8463 - val_accuracy: 0.8588 - val_loss: 0.4501\nEpoch 2/200\n\u001b[1m80/80\u001b[0m \u001b[32m━━━━━━━━━━━━━━━━━━━━\u001b[0m\u001b[37m\u001b[0m \u001b[1m1s\u001b[0m 10ms/step - accuracy: 0.8601 - loss: 0.4543 - val_accuracy: 0.8611 - val_loss: 0.4018\nEpoch 3/200\n\u001b[1m80/80\u001b[0m \u001b[32m━━━━━━━━━━━━━━━━━━━━\u001b[0m\u001b[37m\u001b[0m \u001b[1m1s\u001b[0m 10ms/step - accuracy: 0.8655 - loss: 0.4015 - val_accuracy: 0.8763 - val_loss: 0.3403\nEpoch 4/200\n\u001b[1m80/80\u001b[0m \u001b[32m━━━━━━━━━━━━━━━━━━━━\u001b[0m\u001b[37m\u001b[0m \u001b[1m1s\u001b[0m 10ms/step - accuracy: 0.8821 - loss: 0.3314 - val_accuracy: 0.9052 - val_loss: 0.2794\nEpoch 5/200\n\u001b[1m80/80\u001b[0m \u001b[32m━━━━━━━━━━━━━━━━━━━━\u001b[0m\u001b[37m\u001b[0m \u001b[1m1s\u001b[0m 10ms/step - accuracy: 0.9022 - loss: 0.2802 - val_accuracy: 0.9165 - val_loss: 0.2491\nEpoch 6/200\n\u001b[1m80/80\u001b[0m \u001b[32m━━━━━━━━━━━━━━━━━━━━\u001b[0m\u001b[37m\u001b[0m \u001b[1m1s\u001b[0m 10ms/step - accuracy: 0.9135 - loss: 0.2518 - val_accuracy: 0.9203 - val_loss: 0.2333\nEpoch 7/200\n\u001b[1m80/80\u001b[0m \u001b[32m━━━━━━━━━━━━━━━━━━━━\u001b[0m\u001b[37m\u001b[0m \u001b[1m1s\u001b[0m 10ms/step - accuracy: 0.9189 - loss: 0.2373 - val_accuracy: 0.9219 - val_loss: 0.2234\nEpoch 8/200\n\u001b[1m80/80\u001b[0m \u001b[32m━━━━━━━━━━━━━━━━━━━━\u001b[0m\u001b[37m\u001b[0m \u001b[1m1s\u001b[0m 10ms/step - accuracy: 0.9227 - loss: 0.2232 - val_accuracy: 0.9251 - val_loss: 0.2163\nEpoch 9/200\n\u001b[1m80/80\u001b[0m \u001b[32m━━━━━━━━━━━━━━━━━━━━\u001b[0m\u001b[37m\u001b[0m \u001b[1m1s\u001b[0m 10ms/step - accuracy: 0.9266 - loss: 0.2126 - val_accuracy: 0.9285 - val_loss: 0.2086\nEpoch 10/200\n\u001b[1m80/80\u001b[0m \u001b[32m━━━━━━━━━━━━━━━━━━━━\u001b[0m\u001b[37m\u001b[0m \u001b[1m1s\u001b[0m 10ms/step - accuracy: 0.9270 - loss: 0.2065 - val_accuracy: 0.9311 - val_loss: 0.2023\nEpoch 11/200\n\u001b[1m80/80\u001b[0m \u001b[32m━━━━━━━━━━━━━━━━━━━━\u001b[0m\u001b[37m\u001b[0m \u001b[1m1s\u001b[0m 10ms/step - accuracy: 0.9315 - loss: 0.1988 - val_accuracy: 0.9328 - val_loss: 0.1968\nEpoch 12/200\n\u001b[1m80/80\u001b[0m \u001b[32m━━━━━━━━━━━━━━━━━━━━\u001b[0m\u001b[37m\u001b[0m \u001b[1m1s\u001b[0m 10ms/step - accuracy: 0.9345 - loss: 0.1884 - val_accuracy: 0.9351 - val_loss: 0.1930\nEpoch 13/200\n\u001b[1m80/80\u001b[0m \u001b[32m━━━━━━━━━━━━━━━━━━━━\u001b[0m\u001b[37m\u001b[0m \u001b[1m1s\u001b[0m 10ms/step - accuracy: 0.9358 - loss: 0.1844 - val_accuracy: 0.9330 - val_loss: 0.1932\nEpoch 14/200\n\u001b[1m80/80\u001b[0m \u001b[32m━━━━━━━━━━━━━━━━━━━━\u001b[0m\u001b[37m\u001b[0m \u001b[1m1s\u001b[0m 10ms/step - accuracy: 0.9380 - loss: 0.1769 - val_accuracy: 0.9363 - val_loss: 0.1833\nEpoch 15/200\n\u001b[1m80/80\u001b[0m \u001b[32m━━━━━━━━━━━━━━━━━━━━\u001b[0m\u001b[37m\u001b[0m \u001b[1m1s\u001b[0m 10ms/step - accuracy: 0.9398 - loss: 0.1705 - val_accuracy: 0.9384 - val_loss: 0.1810\nEpoch 16/200\n\u001b[1m80/80\u001b[0m \u001b[32m━━━━━━━━━━━━━━━━━━━━\u001b[0m\u001b[37m\u001b[0m \u001b[1m1s\u001b[0m 10ms/step - accuracy: 0.9411 - loss: 0.1657 - val_accuracy: 0.9377 - val_loss: 0.1808\nEpoch 17/200\n\u001b[1m80/80\u001b[0m \u001b[32m━━━━━━━━━━━━━━━━━━━━\u001b[0m\u001b[37m\u001b[0m \u001b[1m1s\u001b[0m 10ms/step - accuracy: 0.9427 - loss: 0.1609 - val_accuracy: 0.9380 - val_loss: 0.1774\nEpoch 18/200\n\u001b[1m80/80\u001b[0m \u001b[32m━━━━━━━━━━━━━━━━━━━━\u001b[0m\u001b[37m\u001b[0m \u001b[1m1s\u001b[0m 10ms/step - accuracy: 0.9429 - loss: 0.1595 - val_accuracy: 0.9392 - val_loss: 0.1767\nEpoch 19/200\n\u001b[1m80/80\u001b[0m \u001b[32m━━━━━━━━━━━━━━━━━━━━\u001b[0m\u001b[37m\u001b[0m \u001b[1m1s\u001b[0m 10ms/step - accuracy: 0.9458 - loss: 0.1548 - val_accuracy: 0.9390 - val_loss: 0.1739\nEpoch 20/200\n\u001b[1m80/80\u001b[0m \u001b[32m━━━━━━━━━━━━━━━━━━━━\u001b[0m\u001b[37m\u001b[0m \u001b[1m1s\u001b[0m 10ms/step - accuracy: 0.9436 - loss: 0.1554 - val_accuracy: 0.9391 - val_loss: 0.1742\nEpoch 21/200\n\u001b[1m80/80\u001b[0m \u001b[32m━━━━━━━━━━━━━━━━━━━━\u001b[0m\u001b[37m\u001b[0m \u001b[1m1s\u001b[0m 10ms/step - accuracy: 0.9457 - loss: 0.1504 - val_accuracy: 0.9410 - val_loss: 0.1703\nEpoch 22/200\n\u001b[1m80/80\u001b[0m \u001b[32m━━━━━━━━━━━━━━━━━━━━\u001b[0m\u001b[37m\u001b[0m \u001b[1m1s\u001b[0m 10ms/step - accuracy: 0.9471 - loss: 0.1501 - val_accuracy: 0.9405 - val_loss: 0.1702\nEpoch 23/200\n\u001b[1m80/80\u001b[0m \u001b[32m━━━━━━━━━━━━━━━━━━━━\u001b[0m\u001b[37m\u001b[0m \u001b[1m1s\u001b[0m 11ms/step - accuracy: 0.9460 - loss: 0.1482 - val_accuracy: 0.9382 - val_loss: 0.1741\nEpoch 24/200\n\u001b[1m80/80\u001b[0m \u001b[32m━━━━━━━━━━━━━━━━━━━━\u001b[0m\u001b[37m\u001b[0m \u001b[1m1s\u001b[0m 11ms/step - accuracy: 0.9496 - loss: 0.1429 - val_accuracy: 0.9412 - val_loss: 0.1712\nEpoch 25/200\n\u001b[1m80/80\u001b[0m \u001b[32m━━━━━━━━━━━━━━━━━━━━\u001b[0m\u001b[37m\u001b[0m \u001b[1m1s\u001b[0m 10ms/step - accuracy: 0.9499 - loss: 0.1427 - val_accuracy: 0.9388 - val_loss: 0.1720\nEpoch 26/200\n\u001b[1m80/80\u001b[0m \u001b[32m━━━━━━━━━━━━━━━━━━━━\u001b[0m\u001b[37m\u001b[0m \u001b[1m1s\u001b[0m 10ms/step - accuracy: 0.9498 - loss: 0.1385 - val_accuracy: 0.9403 - val_loss: 0.1729\nEpoch 27/200\n\u001b[1m80/80\u001b[0m \u001b[32m━━━━━━━━━━━━━━━━━━━━\u001b[0m\u001b[37m\u001b[0m \u001b[1m1s\u001b[0m 10ms/step - accuracy: 0.9524 - loss: 0.1346 - val_accuracy: 0.9415 - val_loss: 0.1681\nEpoch 28/200\n\u001b[1m80/80\u001b[0m \u001b[32m━━━━━━━━━━━━━━━━━━━━\u001b[0m\u001b[37m\u001b[0m \u001b[1m1s\u001b[0m 10ms/step - accuracy: 0.9497 - loss: 0.1370 - val_accuracy: 0.9394 - val_loss: 0.1717\nEpoch 29/200\n\u001b[1m80/80\u001b[0m \u001b[32m━━━━━━━━━━━━━━━━━━━━\u001b[0m\u001b[37m\u001b[0m \u001b[1m1s\u001b[0m 10ms/step - accuracy: 0.9499 - loss: 0.1387 - val_accuracy: 0.9409 - val_loss: 0.1683\nEpoch 30/200\n\u001b[1m80/80\u001b[0m \u001b[32m━━━━━━━━━━━━━━━━━━━━\u001b[0m\u001b[37m\u001b[0m \u001b[1m1s\u001b[0m 10ms/step - accuracy: 0.9521 - loss: 0.1341 - val_accuracy: 0.9420 - val_loss: 0.1688\nEpoch 31/200\n\u001b[1m80/80\u001b[0m \u001b[32m━━━━━━━━━━━━━━━━━━━━\u001b[0m\u001b[37m\u001b[0m \u001b[1m1s\u001b[0m 10ms/step - accuracy: 0.9516 - loss: 0.1347 - val_accuracy: 0.9386 - val_loss: 0.1743\nEpoch 32/200\n\u001b[1m80/80\u001b[0m \u001b[32m━━━━━━━━━━━━━━━━━━━━\u001b[0m\u001b[37m\u001b[0m \u001b[1m1s\u001b[0m 10ms/step - accuracy: 0.9532 - loss: 0.1325 - val_accuracy: 0.9391 - val_loss: 0.1717\n",
          "output_type": "stream"
        }
      ],
      "execution_count": null
    },
    {
      "cell_type": "code",
      "source": [
        "# Dự đoán từ mô hình GRU\n",
        "predictions = model_GRU.predict(embeddings['test'])\n",
        "predicted_labels = np.argmax(predictions, axis=-1)\n",
        "true_labels = np.argmax(label_test, axis=-1)\n",
        "\n",
        "# Đánh giá mô hình và lưu kết quả vào DataFrame\n",
        "output_GRU = pd.DataFrame()\n",
        "\n",
        "# Lặp qua từng aspect\n",
        "for i in range(num_aspects):\n",
        "    aspect_name = data_train.columns[i + 1]\n",
        "    print(f\"\\nEvaluating aspect: {aspect_name}\")\n",
        "\n",
        "    # Kiểm tra classes có trong dữ liệu của aspect hiện tại\n",
        "    current_true_classes = np.unique(true_labels[:, i])\n",
        "    current_pred_classes = np.unique(predicted_labels[:, i])\n",
        "    current_classes = np.unique(np.concatenate([current_true_classes, current_pred_classes]))\n",
        "    print(f\"Classes in {aspect_name}: {current_classes}\")\n",
        "\n",
        "    # Tạo target_names và labels tương ứng\n",
        "    aspect_target_names = []\n",
        "    labels = []\n",
        "    all_names = ['None', 'Negative', 'Neutral', 'Positive']\n",
        "    for idx in current_classes:\n",
        "        labels.append(idx)\n",
        "        aspect_target_names.append(all_names[idx])\n",
        "\n",
        "    # Tạo classification report với labels đã xác định\n",
        "    report = classification_report(true_labels[:, i], predicted_labels[:, i],\n",
        "                                 labels=labels,\n",
        "                                 target_names=aspect_target_names,\n",
        "                                 output_dict=True)\n",
        "\n",
        "    aspect_report_df = pd.DataFrame(report).transpose()\n",
        "    aspect_report_df['Aspect'] = aspect_name\n",
        "    output_GRU = pd.concat([output_GRU, aspect_report_df], ignore_index=True)\n",
        "    print(aspect_report_df)\n",
        "\n",
        "# Lưu kết quả\n",
        "output_GRU.to_csv('/kaggle/working/sentiment_GRU.csv', index=False)"
      ],
      "metadata": {
        "colab": {
          "base_uri": "https://localhost:8080/"
        },
        "id": "zfVnfUNdTD6Q",
        "outputId": "7c6b8136-0c84-4628-a6cd-5ca470f8700b",
        "trusted": true,
        "execution": {
          "iopub.status.busy": "2024-12-24T07:27:46.048541Z",
          "iopub.execute_input": "2024-12-24T07:27:46.048886Z",
          "iopub.status.idle": "2024-12-24T07:27:46.377095Z",
          "shell.execute_reply.started": "2024-12-24T07:27:46.048857Z",
          "shell.execute_reply": "2024-12-24T07:27:46.3764Z"
        }
      },
      "outputs": [
        {
          "name": "stdout",
          "text": "\u001b[1m69/69\u001b[0m \u001b[32m━━━━━━━━━━━━━━━━━━━━\u001b[0m\u001b[37m\u001b[0m \u001b[1m0s\u001b[0m 2ms/step\n\nEvaluating aspect: General\nClasses in General: [0 1 2 3]\n              precision    recall  f1-score      support   Aspect\nNone           0.847213  0.895357  0.870620  1443.000000  General\nNegative       0.428571  0.413793  0.421053    29.000000  General\nNeutral        0.379310  0.177419  0.241758    62.000000  General\nPositive       0.741294  0.686636  0.712919   651.000000  General\naccuracy       0.806407  0.806407  0.806407     0.806407  General\nmacro avg      0.599097  0.543301  0.561587  2185.000000  General\nweighted avg   0.796822  0.806407  0.799823  2185.000000  General\n\nEvaluating aspect: others\nClasses in others: [0 2 3]\n              precision    recall  f1-score      support  Aspect\nNone           0.986654  0.996746  0.991674  2151.000000  others\nNeutral        0.272727  0.142857  0.187500    21.000000  others\nPositive       0.000000  0.000000  0.000000    13.000000  others\naccuracy       0.982609  0.982609  0.982609     0.982609  others\nmacro avg      0.419794  0.379868  0.393058  2185.000000  others\nweighted avg   0.973923  0.982609  0.978045  2185.000000  others\n\nEvaluating aspect: packing\nClasses in packing: [0 1 2 3]\n              precision    recall  f1-score      support   Aspect\nNone           0.979418  0.995916  0.987598  1959.000000  packing\nNegative       0.812500  0.742857  0.776119    35.000000  packing\nNeutral        0.000000  0.000000  0.000000     3.000000  packing\nPositive       0.956522  0.819149  0.882521   188.000000  packing\naccuracy       0.975286  0.975286  0.975286     0.975286  packing\nmacro avg      0.687110  0.639481  0.661560  2185.000000  packing\nweighted avg   0.973429  0.975286  0.973814  2185.000000  packing\n\nEvaluating aspect: price\nClasses in price: [0 1 2 3]\n              precision    recall  f1-score      support Aspect\nNone           0.974987  0.983350  0.979151  1982.000000  price\nNegative       0.600000  0.375000  0.461538     8.000000  price\nNeutral        0.000000  0.000000  0.000000     2.000000  price\nPositive       0.801105  0.751295  0.775401   193.000000  price\naccuracy       0.959725  0.959725  0.959725     0.959725  price\nmacro avg      0.594023  0.527411  0.554023  2185.000000  price\nweighted avg   0.957363  0.959725  0.958362  2185.000000  price\n\nEvaluating aspect: quality\nClasses in quality: [0 1 2 3]\n              precision    recall  f1-score      support   Aspect\nNone           0.930680  0.917141  0.923861  1581.000000  quality\nNegative       0.382353  0.481481  0.426230    27.000000  quality\nNeutral        0.500000  0.050000  0.090909    20.000000  quality\nPositive       0.771574  0.818671  0.794425   557.000000  quality\naccuracy       0.878719  0.878719  0.878719     0.878719  quality\nmacro avg      0.646152  0.566823  0.558856  2185.000000  quality\nweighted avg   0.879403  0.878719  0.877092  2185.000000  quality\n\nEvaluating aspect: shipping\nClasses in shipping: [0 1 2 3]\n              precision    recall  f1-score      support    Aspect\nNone           0.984143  0.984647  0.984395  1954.000000  shipping\nNegative       0.631579  0.500000  0.558140    24.000000  shipping\nNeutral        0.000000  0.000000  0.000000     2.000000  shipping\nPositive       0.853081  0.878049  0.865385   205.000000  shipping\naccuracy       0.968421  0.968421  0.968421     0.968421  shipping\nmacro avg      0.617201  0.590674  0.601980  2185.000000  shipping\nweighted avg   0.967073  0.968421  0.967646  2185.000000  shipping\n\nEvaluating aspect: smell\nClasses in smell: [0 1 2 3]\n              precision    recall  f1-score      support Aspect\nNone           0.996124  0.995642  0.995883  2065.000000  smell\nNegative       0.833333  0.961538  0.892857    26.000000  smell\nNeutral        0.000000  0.000000  0.000000     6.000000  smell\nPositive       0.857143  0.886364  0.871508    88.000000  smell\naccuracy       0.988101  0.988101  0.988101     0.988101  smell\nmacro avg      0.671650  0.710886  0.690062  2185.000000  smell\nweighted avg   0.985854  0.988101  0.986913  2185.000000  smell\n",
          "output_type": "stream"
        },
        {
          "name": "stderr",
          "text": "/usr/local/lib/python3.10/dist-packages/sklearn/metrics/_classification.py:1344: UndefinedMetricWarning: Precision and F-score are ill-defined and being set to 0.0 in labels with no predicted samples. Use `zero_division` parameter to control this behavior.\n  _warn_prf(average, modifier, msg_start, len(result))\n/usr/local/lib/python3.10/dist-packages/sklearn/metrics/_classification.py:1344: UndefinedMetricWarning: Precision and F-score are ill-defined and being set to 0.0 in labels with no predicted samples. Use `zero_division` parameter to control this behavior.\n  _warn_prf(average, modifier, msg_start, len(result))\n/usr/local/lib/python3.10/dist-packages/sklearn/metrics/_classification.py:1344: UndefinedMetricWarning: Precision and F-score are ill-defined and being set to 0.0 in labels with no predicted samples. Use `zero_division` parameter to control this behavior.\n  _warn_prf(average, modifier, msg_start, len(result))\n/usr/local/lib/python3.10/dist-packages/sklearn/metrics/_classification.py:1344: UndefinedMetricWarning: Precision and F-score are ill-defined and being set to 0.0 in labels with no predicted samples. Use `zero_division` parameter to control this behavior.\n  _warn_prf(average, modifier, msg_start, len(result))\n/usr/local/lib/python3.10/dist-packages/sklearn/metrics/_classification.py:1344: UndefinedMetricWarning: Precision and F-score are ill-defined and being set to 0.0 in labels with no predicted samples. Use `zero_division` parameter to control this behavior.\n  _warn_prf(average, modifier, msg_start, len(result))\n/usr/local/lib/python3.10/dist-packages/sklearn/metrics/_classification.py:1344: UndefinedMetricWarning: Precision and F-score are ill-defined and being set to 0.0 in labels with no predicted samples. Use `zero_division` parameter to control this behavior.\n  _warn_prf(average, modifier, msg_start, len(result))\n/usr/local/lib/python3.10/dist-packages/sklearn/metrics/_classification.py:1344: UndefinedMetricWarning: Precision and F-score are ill-defined and being set to 0.0 in labels with no predicted samples. Use `zero_division` parameter to control this behavior.\n  _warn_prf(average, modifier, msg_start, len(result))\n/usr/local/lib/python3.10/dist-packages/sklearn/metrics/_classification.py:1344: UndefinedMetricWarning: Precision and F-score are ill-defined and being set to 0.0 in labels with no predicted samples. Use `zero_division` parameter to control this behavior.\n  _warn_prf(average, modifier, msg_start, len(result))\n/usr/local/lib/python3.10/dist-packages/sklearn/metrics/_classification.py:1344: UndefinedMetricWarning: Precision and F-score are ill-defined and being set to 0.0 in labels with no predicted samples. Use `zero_division` parameter to control this behavior.\n  _warn_prf(average, modifier, msg_start, len(result))\n/usr/local/lib/python3.10/dist-packages/sklearn/metrics/_classification.py:1344: UndefinedMetricWarning: Precision and F-score are ill-defined and being set to 0.0 in labels with no predicted samples. Use `zero_division` parameter to control this behavior.\n  _warn_prf(average, modifier, msg_start, len(result))\n/usr/local/lib/python3.10/dist-packages/sklearn/metrics/_classification.py:1344: UndefinedMetricWarning: Precision and F-score are ill-defined and being set to 0.0 in labels with no predicted samples. Use `zero_division` parameter to control this behavior.\n  _warn_prf(average, modifier, msg_start, len(result))\n/usr/local/lib/python3.10/dist-packages/sklearn/metrics/_classification.py:1344: UndefinedMetricWarning: Precision and F-score are ill-defined and being set to 0.0 in labels with no predicted samples. Use `zero_division` parameter to control this behavior.\n  _warn_prf(average, modifier, msg_start, len(result))\n",
          "output_type": "stream"
        }
      ],
      "execution_count": null
    },
    {
      "cell_type": "code",
      "source": [
        "# Dự đoán từ mô hình GRU\n",
        "y_pred_GRU = predict(model_GRU, embeddings['test'], verbose=1)\n",
        "\n",
        "# Đánh giá mô hình trên dữ liệu test\n",
        "evaluation = model_GRU.evaluate(embeddings['test'], label_test, verbose=1)\n",
        "\n",
        "# In ra các metrics (precision, recall, f1-score...) từ kết quả evaluation\n",
        "metrics_names = model_GRU.metrics_names\n",
        "for metric, value in zip(metrics_names, evaluation):\n",
        "    print(f\"{metric}: {value}\")\n"
      ],
      "metadata": {
        "colab": {
          "base_uri": "https://localhost:8080/"
        },
        "id": "Z9TB139qUuOD",
        "outputId": "e7f984e4-01cc-438c-b96e-102ef20a8643",
        "trusted": true,
        "execution": {
          "iopub.status.busy": "2024-12-24T07:28:22.705055Z",
          "iopub.execute_input": "2024-12-24T07:28:22.705404Z",
          "iopub.status.idle": "2024-12-24T07:28:28.755338Z",
          "shell.execute_reply.started": "2024-12-24T07:28:22.705375Z",
          "shell.execute_reply": "2024-12-24T07:28:28.754536Z"
        }
      },
      "outputs": [
        {
          "name": "stdout",
          "text": "\u001b[1m2185/2185\u001b[0m \u001b[32m━━━━━━━━━━━━━━━━━━━━\u001b[0m\u001b[37m\u001b[0m \u001b[1m5s\u001b[0m 2ms/step\n\u001b[1m69/69\u001b[0m \u001b[32m━━━━━━━━━━━━━━━━━━━━\u001b[0m\u001b[37m\u001b[0m \u001b[1m0s\u001b[0m 3ms/step - accuracy: 0.9402 - loss: 0.1628\nloss: 0.17616702616214752\ncompile_metrics: 0.9370384216308594\n",
          "output_type": "stream"
        }
      ],
      "execution_count": null
    },
    {
      "cell_type": "code",
      "source": [],
      "metadata": {
        "trusted": true,
        "execution": {
          "iopub.status.busy": "2024-12-24T07:29:23.469259Z",
          "iopub.execute_input": "2024-12-24T07:29:23.469575Z",
          "iopub.status.idle": "2024-12-24T07:29:23.474729Z",
          "shell.execute_reply.started": "2024-12-24T07:29:23.469551Z",
          "shell.execute_reply": "2024-12-24T07:29:23.473714Z"
        },
        "id": "4NANqBOBp6EP"
      },
      "outputs": [],
      "execution_count": null
    },
    {
      "cell_type": "code",
      "source": [
        "def print_acsa_pred(replacements, categories, sentence_pred):\n",
        "    # Kiểm tra và chuyển đổi dữ liệu đầu vào\n",
        "    if isinstance(sentence_pred, np.ndarray):\n",
        "        if len(sentence_pred.shape) > 1:\n",
        "            sentence_pred = np.argmax(sentence_pred, axis=-1)\n",
        "\n",
        "    # Đảm bảo sentence_pred là array\n",
        "    if isinstance(sentence_pred, (np.int64, int)):\n",
        "        sentence_pred = np.array([sentence_pred])\n",
        "\n",
        "    # Ánh xạ sentiment và in kết quả\n",
        "    for category, pred in zip(categories, sentence_pred):\n",
        "        sentiment = replacements.get(pred)  # Sử dụng .get() để tránh KeyError\n",
        "        if sentiment is not None:  # Chỉ in nếu có sentiment\n",
        "            print(f'=> {category}: {sentiment}')\n",
        "\n",
        "# Ánh xạ đúng với 4 classes (0: None, 1: Negative, 2: Neutral, 3: Positive)\n",
        "replacements = {\n",
        "    0: 'None',\n",
        "    1: 'Negative',\n",
        "    2: 'Neutral',\n",
        "    3: 'Positive'\n",
        "}\n",
        "\n",
        "# Lấy tên các aspects từ dữ liệu\n",
        "categories = data_test.columns[1:]\n",
        "\n",
        "# In ví dụ\n",
        "print('Example:', data_test['Content'][3])\n",
        "print_acsa_pred(replacements, categories, y_pred_GRU[3])"
      ],
      "metadata": {
        "colab": {
          "base_uri": "https://localhost:8080/"
        },
        "id": "7b0nqmmyTOCx",
        "outputId": "849dfb46-b65d-450f-f820-e342bcd6d10e",
        "trusted": true,
        "execution": {
          "iopub.status.busy": "2024-12-24T07:33:46.892992Z",
          "iopub.execute_input": "2024-12-24T07:33:46.893342Z",
          "iopub.status.idle": "2024-12-24T07:33:46.901412Z",
          "shell.execute_reply.started": "2024-12-24T07:33:46.893302Z",
          "shell.execute_reply": "2024-12-24T07:33:46.900537Z"
        }
      },
      "outputs": [
        {
          "name": "stdout",
          "text": "Example: khá ưng\n=> General: Positive\n=> others: None\n=> packing: None\n=> price: None\n=> quality: None\n=> shipping: None\n=> smell: None\n",
          "output_type": "stream"
        }
      ],
      "execution_count": null
    },
    {
      "cell_type": "code",
      "source": [
        "y_test_argmax = np.argmax(label_test, axis=-1)\n",
        "y_test_argmax"
      ],
      "metadata": {
        "colab": {
          "base_uri": "https://localhost:8080/"
        },
        "id": "YWmavA2uTgP2",
        "outputId": "1316f7e8-b494-4a1a-a9c4-cc258dd52f6b",
        "trusted": true,
        "execution": {
          "iopub.status.busy": "2024-12-24T07:33:49.840862Z",
          "iopub.execute_input": "2024-12-24T07:33:49.841142Z",
          "iopub.status.idle": "2024-12-24T07:33:49.847008Z",
          "shell.execute_reply.started": "2024-12-24T07:33:49.841122Z",
          "shell.execute_reply": "2024-12-24T07:33:49.8463Z"
        }
      },
      "outputs": [
        {
          "execution_count": 91,
          "output_type": "execute_result",
          "data": {
            "text/plain": "array([[0, 0, 0, ..., 3, 0, 0],\n       [0, 0, 0, ..., 0, 0, 3],\n       [3, 0, 0, ..., 0, 0, 0],\n       ...,\n       [0, 0, 0, ..., 3, 0, 0],\n       [0, 0, 3, ..., 0, 0, 0],\n       [0, 0, 0, ..., 3, 0, 0]])"
          },
          "metadata": {}
        }
      ],
      "execution_count": null
    },
    {
      "cell_type": "code",
      "source": [
        "aspect_test = []\n",
        "aspect_pred = []\n",
        "\n",
        "for row_test, row_pred in zip(y_test_argmax, y_pred_GRU):\n",
        "    for index, (col_test, col_pred) in enumerate(zip(row_test, row_pred)):\n",
        "        aspect_test.append(bool(col_test) * categories[index])\n",
        "        aspect_pred.append(bool(col_pred) * categories[index])\n"
      ],
      "metadata": {
        "id": "SKQZBryoTmrx",
        "trusted": true,
        "execution": {
          "iopub.status.busy": "2024-12-24T07:33:53.369198Z",
          "iopub.execute_input": "2024-12-24T07:33:53.369552Z",
          "iopub.status.idle": "2024-12-24T07:33:53.400619Z",
          "shell.execute_reply.started": "2024-12-24T07:33:53.369525Z",
          "shell.execute_reply": "2024-12-24T07:33:53.399795Z"
        }
      },
      "outputs": [],
      "execution_count": null
    },
    {
      "cell_type": "code",
      "source": [
        "from sklearn.metrics import classification_report\n",
        "aspect_report = classification_report(aspect_test, aspect_pred, digits=4, zero_division=1, output_dict=True)\n",
        "print(classification_report(aspect_test, aspect_pred, digits=4, zero_division=1))"
      ],
      "metadata": {
        "colab": {
          "base_uri": "https://localhost:8080/"
        },
        "id": "Vs9cJgdWT3jO",
        "outputId": "397050e2-553c-42c3-8659-536edab3798e",
        "trusted": true,
        "execution": {
          "iopub.status.busy": "2024-12-24T07:33:56.45324Z",
          "iopub.execute_input": "2024-12-24T07:33:56.453598Z",
          "iopub.status.idle": "2024-12-24T07:33:56.737237Z",
          "shell.execute_reply.started": "2024-12-24T07:33:56.453573Z",
          "shell.execute_reply": "2024-12-24T07:33:56.736272Z"
        }
      },
      "outputs": [
        {
          "name": "stdout",
          "text": "              precision    recall  f1-score   support\n\n                 0.9623    0.9719    0.9671     13135\n     General     0.7712    0.6860    0.7261       742\n      others     0.4167    0.1471    0.2174        34\n     packing     0.9585    0.8186    0.8831       226\n       price     0.8226    0.7537    0.7866       203\n     quality     0.7911    0.8212    0.8058       604\n    shipping     0.8696    0.8658    0.8677       231\n       smell     0.9256    0.9333    0.9295       120\n\n    accuracy                         0.9432     15295\n   macro avg     0.8147    0.7497    0.7729     15295\nweighted avg     0.9415    0.9432    0.9419     15295\n\n",
          "output_type": "stream"
        }
      ],
      "execution_count": null
    },
    {
      "cell_type": "code",
      "source": [
        "from sklearn.metrics import classification_report\n",
        "aspect_report = classification_report(aspect_test, aspect_pred, digits=4, zero_division=1, output_dict=True)\n",
        "\n",
        "# Convert the dictionary to a pandas DataFrame\n",
        "aspect_report_df = pd.DataFrame(aspect_report).transpose()\n",
        "print(classification_report(aspect_test, aspect_pred, digits=4, zero_division=1))\n",
        "aspect_report_df.to_csv('/kaggle/working/aspect_GRU.csv')"
      ],
      "metadata": {
        "colab": {
          "base_uri": "https://localhost:8080/"
        },
        "id": "8ouKZ4BHULVo",
        "outputId": "45363867-671a-44e0-91c1-b55b95bd0170",
        "trusted": true,
        "execution": {
          "iopub.status.busy": "2024-12-24T07:34:06.916893Z",
          "iopub.execute_input": "2024-12-24T07:34:06.917217Z",
          "iopub.status.idle": "2024-12-24T07:34:07.201029Z",
          "shell.execute_reply.started": "2024-12-24T07:34:06.917188Z",
          "shell.execute_reply": "2024-12-24T07:34:07.199986Z"
        }
      },
      "outputs": [
        {
          "name": "stdout",
          "text": "              precision    recall  f1-score   support\n\n                 0.9623    0.9719    0.9671     13135\n     General     0.7712    0.6860    0.7261       742\n      others     0.4167    0.1471    0.2174        34\n     packing     0.9585    0.8186    0.8831       226\n       price     0.8226    0.7537    0.7866       203\n     quality     0.7911    0.8212    0.8058       604\n    shipping     0.8696    0.8658    0.8677       231\n       smell     0.9256    0.9333    0.9295       120\n\n    accuracy                         0.9432     15295\n   macro avg     0.8147    0.7497    0.7729     15295\nweighted avg     0.9415    0.9432    0.9419     15295\n\n",
          "output_type": "stream"
        }
      ],
      "execution_count": null
    },
    {
      "cell_type": "markdown",
      "source": [
        "# BiGRU + Conv"
      ],
      "metadata": {
        "id": "r90BtH2-c4uR"
      }
    },
    {
      "cell_type": "code",
      "source": [
        "import tensorflow as tf\n",
        "from tensorflow.keras.layers import Input, Bidirectional, LSTM, Dense, Dropout, TimeDistributed, RepeatVector, Conv1D\n",
        "from tensorflow.keras.optimizers import Adam\n",
        "from tensorflow.keras.callbacks import EarlyStopping\n",
        "\n",
        "def bilstm_conv(embedding_dim, num_aspects, output_dim, padded_aspect_train, padded_aspect_val, label_aspect_train, label_aspect_val, epochs=70, batch_size=128, callbacks=None, verbose=1):\n",
        "    # Define input layer\n",
        "    input_layer = Input(shape=(embedding_dim,))\n",
        "\n",
        "    # Expand dimensions to match the input shape requirement of the LSTM\n",
        "    input_expanded = RepeatVector(num_aspects)(input_layer)\n",
        "\n",
        "    # Define Bidirectional LSTM layer\n",
        "    lstm_layer = Bidirectional(GRU(units=200, activation='tanh', return_sequences=True))(input_expanded)\n",
        "\n",
        "    # Adding a Conv1D layer after LSTM\n",
        "    conv_layer = Conv1D(filters=64, kernel_size=3, padding='same', activation='relu')(lstm_layer)\n",
        "\n",
        "    # TimeDistributed layer to apply Dense layers across all time steps\n",
        "    aspect_dense2 = TimeDistributed(Dense(128, activation='relu'))(conv_layer)\n",
        "    aspect_dropout1 = TimeDistributed(Dropout(0.2))(aspect_dense2)\n",
        "    aspect_dense3 = TimeDistributed(Dense(64, activation='relu'))(aspect_dropout1)\n",
        "    aspect_dense4 = TimeDistributed(Dense(32, activation='relu'))(aspect_dense3)\n",
        "\n",
        "    # Output layer: num_aspects * output_dim units corresponding to 6 aspects with 4 categories each\n",
        "    aspect_dense5 = TimeDistributed(Dense(units=4, activation='softmax'))(aspect_dense4)\n",
        "\n",
        "    # Define and compile the model\n",
        "    aspect_model = tf.keras.Model(inputs=input_layer, outputs=aspect_dense5)\n",
        "    aspect_model.compile(optimizer=Adam(learning_rate=0.0001), loss='categorical_crossentropy', metrics=['accuracy'])\n",
        "\n",
        "    # Define callback for early stopping\n",
        "    callback = EarlyStopping(monitor='val_loss', patience=3)\n",
        "\n",
        "    # Train the model\n",
        "    history = aspect_model.fit(\n",
        "        x=padded_aspect_train,\n",
        "        y=label_aspect_train,\n",
        "        validation_data=(padded_aspect_val, label_aspect_val),\n",
        "        batch_size=batch_size,\n",
        "        epochs=epochs,\n",
        "        callbacks=callbacks if callbacks else [callback],\n",
        "        verbose=verbose\n",
        "    )\n",
        "\n",
        "    return aspect_model, history\n",
        "\n",
        "# Example usage\n",
        "embedding_dim = 768\n",
        "num_aspects = 7\n",
        "output_dim = 4\n",
        "\n",
        "# Example placeholders for embeddings and labels\n",
        "padded_aspect_train = embeddings['train']\n",
        "padded_aspect_val = embeddings['val']\n",
        "label_aspect_train = label_train\n",
        "label_aspect_val = label_val\n",
        "\n",
        "callback = EarlyStopping(monitor='val_loss', patience=5)\n",
        "model_gru_conv, history_gru_conv = bilstm_conv(embedding_dim, num_aspects, output_dim, padded_aspect_train, padded_aspect_val, label_aspect_train, label_aspect_val, epochs=200, batch_size=128, callbacks=[callback], verbose=1)\n"
      ],
      "metadata": {
        "colab": {
          "base_uri": "https://localhost:8080/"
        },
        "id": "MNs17JmPc6Oc",
        "outputId": "b67bab63-4009-4dd2-b97e-ed96b671838f",
        "trusted": true,
        "execution": {
          "iopub.status.busy": "2024-12-24T07:34:53.848777Z",
          "iopub.execute_input": "2024-12-24T07:34:53.849085Z",
          "iopub.status.idle": "2024-12-24T07:35:25.23148Z",
          "shell.execute_reply.started": "2024-12-24T07:34:53.849062Z",
          "shell.execute_reply": "2024-12-24T07:35:25.230771Z"
        }
      },
      "outputs": [
        {
          "name": "stdout",
          "text": "Epoch 1/200\n\u001b[1m80/80\u001b[0m \u001b[32m━━━━━━━━━━━━━━━━━━━━\u001b[0m\u001b[37m\u001b[0m \u001b[1m5s\u001b[0m 18ms/step - accuracy: 0.8127 - loss: 0.9308 - val_accuracy: 0.8588 - val_loss: 0.4950\nEpoch 2/200\n\u001b[1m80/80\u001b[0m \u001b[32m━━━━━━━━━━━━━━━━━━━━\u001b[0m\u001b[37m\u001b[0m \u001b[1m1s\u001b[0m 11ms/step - accuracy: 0.8594 - loss: 0.4791 - val_accuracy: 0.8588 - val_loss: 0.3735\nEpoch 3/200\n\u001b[1m80/80\u001b[0m \u001b[32m━━━━━━━━━━━━━━━━━━━━\u001b[0m\u001b[37m\u001b[0m \u001b[1m1s\u001b[0m 11ms/step - accuracy: 0.8651 - loss: 0.3723 - val_accuracy: 0.9007 - val_loss: 0.2941\nEpoch 4/200\n\u001b[1m80/80\u001b[0m \u001b[32m━━━━━━━━━━━━━━━━━━━━\u001b[0m\u001b[37m\u001b[0m \u001b[1m1s\u001b[0m 12ms/step - accuracy: 0.8986 - loss: 0.2923 - val_accuracy: 0.9147 - val_loss: 0.2535\nEpoch 5/200\n\u001b[1m80/80\u001b[0m \u001b[32m━━━━━━━━━━━━━━━━━━━━\u001b[0m\u001b[37m\u001b[0m \u001b[1m1s\u001b[0m 13ms/step - accuracy: 0.9139 - loss: 0.2560 - val_accuracy: 0.9201 - val_loss: 0.2346\nEpoch 6/200\n\u001b[1m80/80\u001b[0m \u001b[32m━━━━━━━━━━━━━━━━━━━━\u001b[0m\u001b[37m\u001b[0m \u001b[1m1s\u001b[0m 11ms/step - accuracy: 0.9206 - loss: 0.2366 - val_accuracy: 0.9243 - val_loss: 0.2207\nEpoch 7/200\n\u001b[1m80/80\u001b[0m \u001b[32m━━━━━━━━━━━━━━━━━━━━\u001b[0m\u001b[37m\u001b[0m \u001b[1m1s\u001b[0m 11ms/step - accuracy: 0.9270 - loss: 0.2195 - val_accuracy: 0.9289 - val_loss: 0.2122\nEpoch 8/200\n\u001b[1m80/80\u001b[0m \u001b[32m━━━━━━━━━━━━━━━━━━━━\u001b[0m\u001b[37m\u001b[0m \u001b[1m1s\u001b[0m 11ms/step - accuracy: 0.9297 - loss: 0.2083 - val_accuracy: 0.9307 - val_loss: 0.2031\nEpoch 9/200\n\u001b[1m80/80\u001b[0m \u001b[32m━━━━━━━━━━━━━━━━━━━━\u001b[0m\u001b[37m\u001b[0m \u001b[1m1s\u001b[0m 11ms/step - accuracy: 0.9325 - loss: 0.1969 - val_accuracy: 0.9332 - val_loss: 0.1953\nEpoch 10/200\n\u001b[1m80/80\u001b[0m \u001b[32m━━━━━━━━━━━━━━━━━━━━\u001b[0m\u001b[37m\u001b[0m \u001b[1m1s\u001b[0m 11ms/step - accuracy: 0.9373 - loss: 0.1831 - val_accuracy: 0.9316 - val_loss: 0.2001\nEpoch 11/200\n\u001b[1m80/80\u001b[0m \u001b[32m━━━━━━━━━━━━━━━━━━━━\u001b[0m\u001b[37m\u001b[0m \u001b[1m1s\u001b[0m 11ms/step - accuracy: 0.9388 - loss: 0.1767 - val_accuracy: 0.9365 - val_loss: 0.1863\nEpoch 12/200\n\u001b[1m80/80\u001b[0m \u001b[32m━━━━━━━━━━━━━━━━━━━━\u001b[0m\u001b[37m\u001b[0m \u001b[1m1s\u001b[0m 11ms/step - accuracy: 0.9394 - loss: 0.1721 - val_accuracy: 0.9365 - val_loss: 0.1843\nEpoch 13/200\n\u001b[1m80/80\u001b[0m \u001b[32m━━━━━━━━━━━━━━━━━━━━\u001b[0m\u001b[37m\u001b[0m \u001b[1m1s\u001b[0m 11ms/step - accuracy: 0.9404 - loss: 0.1679 - val_accuracy: 0.9392 - val_loss: 0.1807\nEpoch 14/200\n\u001b[1m80/80\u001b[0m \u001b[32m━━━━━━━━━━━━━━━━━━━━\u001b[0m\u001b[37m\u001b[0m \u001b[1m1s\u001b[0m 11ms/step - accuracy: 0.9426 - loss: 0.1658 - val_accuracy: 0.9395 - val_loss: 0.1789\nEpoch 15/200\n\u001b[1m80/80\u001b[0m \u001b[32m━━━━━━━━━━━━━━━━━━━━\u001b[0m\u001b[37m\u001b[0m \u001b[1m1s\u001b[0m 11ms/step - accuracy: 0.9416 - loss: 0.1641 - val_accuracy: 0.9387 - val_loss: 0.1765\nEpoch 16/200\n\u001b[1m80/80\u001b[0m \u001b[32m━━━━━━━━━━━━━━━━━━━━\u001b[0m\u001b[37m\u001b[0m \u001b[1m1s\u001b[0m 11ms/step - accuracy: 0.9443 - loss: 0.1580 - val_accuracy: 0.9379 - val_loss: 0.1749\nEpoch 17/200\n\u001b[1m80/80\u001b[0m \u001b[32m━━━━━━━━━━━━━━━━━━━━\u001b[0m\u001b[37m\u001b[0m \u001b[1m1s\u001b[0m 11ms/step - accuracy: 0.9453 - loss: 0.1557 - val_accuracy: 0.9386 - val_loss: 0.1751\nEpoch 18/200\n\u001b[1m80/80\u001b[0m \u001b[32m━━━━━━━━━━━━━━━━━━━━\u001b[0m\u001b[37m\u001b[0m \u001b[1m1s\u001b[0m 11ms/step - accuracy: 0.9476 - loss: 0.1509 - val_accuracy: 0.9392 - val_loss: 0.1758\nEpoch 19/200\n\u001b[1m80/80\u001b[0m \u001b[32m━━━━━━━━━━━━━━━━━━━━\u001b[0m\u001b[37m\u001b[0m \u001b[1m1s\u001b[0m 11ms/step - accuracy: 0.9453 - loss: 0.1538 - val_accuracy: 0.9407 - val_loss: 0.1730\nEpoch 20/200\n\u001b[1m80/80\u001b[0m \u001b[32m━━━━━━━━━━━━━━━━━━━━\u001b[0m\u001b[37m\u001b[0m \u001b[1m1s\u001b[0m 11ms/step - accuracy: 0.9468 - loss: 0.1483 - val_accuracy: 0.9413 - val_loss: 0.1734\nEpoch 21/200\n\u001b[1m80/80\u001b[0m \u001b[32m━━━━━━━━━━━━━━━━━━━━\u001b[0m\u001b[37m\u001b[0m \u001b[1m1s\u001b[0m 11ms/step - accuracy: 0.9486 - loss: 0.1447 - val_accuracy: 0.9406 - val_loss: 0.1689\nEpoch 22/200\n\u001b[1m80/80\u001b[0m \u001b[32m━━━━━━━━━━━━━━━━━━━━\u001b[0m\u001b[37m\u001b[0m \u001b[1m1s\u001b[0m 11ms/step - accuracy: 0.9499 - loss: 0.1424 - val_accuracy: 0.9405 - val_loss: 0.1713\nEpoch 23/200\n\u001b[1m80/80\u001b[0m \u001b[32m━━━━━━━━━━━━━━━━━━━━\u001b[0m\u001b[37m\u001b[0m \u001b[1m1s\u001b[0m 11ms/step - accuracy: 0.9495 - loss: 0.1423 - val_accuracy: 0.9407 - val_loss: 0.1711\nEpoch 24/200\n\u001b[1m80/80\u001b[0m \u001b[32m━━━━━━━━━━━━━━━━━━━━\u001b[0m\u001b[37m\u001b[0m \u001b[1m1s\u001b[0m 11ms/step - accuracy: 0.9511 - loss: 0.1377 - val_accuracy: 0.9409 - val_loss: 0.1718\nEpoch 25/200\n\u001b[1m80/80\u001b[0m \u001b[32m━━━━━━━━━━━━━━━━━━━━\u001b[0m\u001b[37m\u001b[0m \u001b[1m1s\u001b[0m 11ms/step - accuracy: 0.9515 - loss: 0.1364 - val_accuracy: 0.9417 - val_loss: 0.1684\nEpoch 26/200\n\u001b[1m80/80\u001b[0m \u001b[32m━━━━━━━━━━━━━━━━━━━━\u001b[0m\u001b[37m\u001b[0m \u001b[1m1s\u001b[0m 11ms/step - accuracy: 0.9523 - loss: 0.1340 - val_accuracy: 0.9414 - val_loss: 0.1718\nEpoch 27/200\n\u001b[1m80/80\u001b[0m \u001b[32m━━━━━━━━━━━━━━━━━━━━\u001b[0m\u001b[37m\u001b[0m \u001b[1m1s\u001b[0m 11ms/step - accuracy: 0.9514 - loss: 0.1348 - val_accuracy: 0.9390 - val_loss: 0.1731\nEpoch 28/200\n\u001b[1m80/80\u001b[0m \u001b[32m━━━━━━━━━━━━━━━━━━━━\u001b[0m\u001b[37m\u001b[0m \u001b[1m1s\u001b[0m 11ms/step - accuracy: 0.9519 - loss: 0.1320 - val_accuracy: 0.9409 - val_loss: 0.1691\nEpoch 29/200\n\u001b[1m80/80\u001b[0m \u001b[32m━━━━━━━━━━━━━━━━━━━━\u001b[0m\u001b[37m\u001b[0m \u001b[1m1s\u001b[0m 11ms/step - accuracy: 0.9524 - loss: 0.1322 - val_accuracy: 0.9384 - val_loss: 0.1753\nEpoch 30/200\n\u001b[1m80/80\u001b[0m \u001b[32m━━━━━━━━━━━━━━━━━━━━\u001b[0m\u001b[37m\u001b[0m \u001b[1m1s\u001b[0m 11ms/step - accuracy: 0.9532 - loss: 0.1310 - val_accuracy: 0.9413 - val_loss: 0.1694\n",
          "output_type": "stream"
        }
      ],
      "execution_count": null
    },
    {
      "cell_type": "code",
      "source": [
        "predictions = model_gru_conv.predict(embeddings['test'])\n",
        "\n",
        "# Convert predictions to class labels\n",
        "predicted_labels = np.argmax(predictions, axis=-1)\n",
        "true_labels = np.argmax(label_test, axis=-1)\n",
        "\n",
        "# Evaluate the model and store the results in a DataFrame\n",
        "output_GRU_conv = pd.DataFrame()\n",
        "for i in range(num_aspects):\n",
        "    aspect_name = data_train.columns[i+1]\n",
        "    print(f\"{aspect_name}:\")\n",
        "    report = classification_report(true_labels[:, i], predicted_labels[:, i], target_names=['None', 'Negative', 'Neutral', 'Positive'], output_dict=True)\n",
        "\n",
        "    # Create a DataFrame from the report\n",
        "    aspect_report_df = pd.DataFrame(report).transpose()\n",
        "    aspect_report_df['Aspect'] = aspect_name  # Add a column for the aspect name\n",
        "\n",
        "    # Append the report for this aspect to the main DataFrame\n",
        "    output_GRU_conv = pd.concat([output_GRU_conv, aspect_report_df], ignore_index=False)\n",
        "\n",
        "    # If you want to print the classification report as well\n",
        "    print(aspect_report_df)\n",
        "    output_GRU_conv.to_csv('/kaggle/working/sentiment_GRU_conv.csv')"
      ],
      "metadata": {
        "colab": {
          "base_uri": "https://localhost:8080/"
        },
        "id": "BuhZR66Oc77C",
        "outputId": "086510eb-4b27-4e71-a4ee-9a554bc1bb1f",
        "trusted": true,
        "execution": {
          "iopub.status.busy": "2024-12-24T07:35:25.232751Z",
          "iopub.execute_input": "2024-12-24T07:35:25.232989Z",
          "iopub.status.idle": "2024-12-24T07:35:26.333862Z",
          "shell.execute_reply.started": "2024-12-24T07:35:25.232968Z",
          "shell.execute_reply": "2024-12-24T07:35:26.332892Z"
        }
      },
      "outputs": [
        {
          "name": "stdout",
          "text": "\u001b[1m69/69\u001b[0m \u001b[32m━━━━━━━━━━━━━━━━━━━━\u001b[0m\u001b[37m\u001b[0m \u001b[1m1s\u001b[0m 8ms/step\nGeneral:\n              precision    recall  f1-score      support   Aspect\nNone           0.888087  0.852391  0.869873  1443.000000  General\nNegative       0.419355  0.448276  0.433333    29.000000  General\nNeutral        0.355556  0.258065  0.299065    62.000000  General\nPositive       0.703039  0.781874  0.740364   651.000000  General\naccuracy       0.809153  0.809153  0.809153     0.809153  General\nmacro avg      0.591509  0.585151  0.585659  2185.000000  General\nweighted avg   0.811621  0.809153  0.809296  2185.000000  General\nothers:\n              precision    recall  f1-score      support  Aspect\nNone           0.987546  0.995351  0.991433  2151.000000  others\nNegative       0.000000  0.000000  0.000000     0.000000  others\nNeutral        0.272727  0.142857  0.187500    21.000000  others\nPositive       0.200000  0.076923  0.111111    13.000000  others\naccuracy       0.981693  0.981693  0.981693     0.981693  others\nmacro avg      0.365068  0.303783  0.322511  2185.000000  others\nweighted avg   0.975990  0.981693  0.978469  2185.000000  others\npacking:\n              precision    recall  f1-score      support   Aspect\nNone           0.981855  0.994385  0.988080  1959.000000  packing\nNegative       0.785714  0.628571  0.698413    35.000000  packing\nNeutral        0.000000  0.000000  0.000000     3.000000  packing\nPositive       0.919075  0.845745  0.880886   188.000000  packing\naccuracy       0.974371  0.974371  0.974371     0.974371  packing\nmacro avg      0.671661  0.617175  0.641845  2185.000000  packing\nweighted avg   0.971963  0.974371  0.972860  2185.000000  packing\nprice:\n              precision    recall  f1-score      support Aspect\nNone           0.968395  0.989405  0.978787  1982.000000  price\nNegative       1.000000  0.250000  0.400000     8.000000  price\nNeutral        0.000000  0.000000  0.000000     2.000000  price\nPositive       0.848101  0.694301  0.763533   193.000000  price\naccuracy       0.959725  0.959725  0.959725     0.959725  price\nmacro avg      0.704124  0.483426  0.535580  2185.000000  price\nweighted avg   0.956999  0.959725  0.956759  2185.000000  price\nquality:\n              precision    recall  f1-score      support   Aspect\nNone           0.916974  0.943074  0.929841  1581.000000  quality\nNegative       0.440000  0.407407  0.423077    27.000000  quality\nNeutral        0.000000  0.000000  0.000000    20.000000  quality\nPositive       0.813910  0.777379  0.795225   557.000000  quality\naccuracy       0.885584  0.885584  0.885584     0.885584  quality\nmacro avg      0.542721  0.531965  0.537036  2185.000000  quality\nweighted avg   0.876414  0.885584  0.880751  2185.000000  quality\nshipping:\n              precision    recall  f1-score      support    Aspect\nNone           0.980750  0.990788  0.985743  1954.000000  shipping\nNegative       0.750000  0.375000  0.500000    24.000000  shipping\nNeutral        0.000000  0.000000  0.000000     2.000000  shipping\nPositive       0.894472  0.868293  0.881188   205.000000  shipping\naccuracy       0.971625  0.971625  0.971625     0.971625  shipping\nmacro avg      0.656306  0.558520  0.591733  2185.000000  shipping\nweighted avg   0.969223  0.971625  0.969696  2185.000000  shipping\nsmell:\n              precision    recall  f1-score      support Aspect\nNone           0.997572  0.994673  0.996120  2065.000000  smell\nNegative       0.714286  0.961538  0.819672    26.000000  smell\nNeutral        0.000000  0.000000  0.000000     6.000000  smell\nPositive       0.857143  0.886364  0.871508    88.000000  smell\naccuracy       0.987185  0.987185  0.987185     0.987185  smell\nmacro avg      0.642250  0.710644  0.671825  2185.000000  smell\nweighted avg   0.985806  0.987185  0.986267  2185.000000  smell\n",
          "output_type": "stream"
        },
        {
          "name": "stderr",
          "text": "/usr/local/lib/python3.10/dist-packages/sklearn/metrics/_classification.py:1344: UndefinedMetricWarning: Recall and F-score are ill-defined and being set to 0.0 in labels with no true samples. Use `zero_division` parameter to control this behavior.\n  _warn_prf(average, modifier, msg_start, len(result))\n/usr/local/lib/python3.10/dist-packages/sklearn/metrics/_classification.py:1344: UndefinedMetricWarning: Recall and F-score are ill-defined and being set to 0.0 in labels with no true samples. Use `zero_division` parameter to control this behavior.\n  _warn_prf(average, modifier, msg_start, len(result))\n/usr/local/lib/python3.10/dist-packages/sklearn/metrics/_classification.py:1344: UndefinedMetricWarning: Recall and F-score are ill-defined and being set to 0.0 in labels with no true samples. Use `zero_division` parameter to control this behavior.\n  _warn_prf(average, modifier, msg_start, len(result))\n/usr/local/lib/python3.10/dist-packages/sklearn/metrics/_classification.py:1344: UndefinedMetricWarning: Precision and F-score are ill-defined and being set to 0.0 in labels with no predicted samples. Use `zero_division` parameter to control this behavior.\n  _warn_prf(average, modifier, msg_start, len(result))\n/usr/local/lib/python3.10/dist-packages/sklearn/metrics/_classification.py:1344: UndefinedMetricWarning: Precision and F-score are ill-defined and being set to 0.0 in labels with no predicted samples. Use `zero_division` parameter to control this behavior.\n  _warn_prf(average, modifier, msg_start, len(result))\n/usr/local/lib/python3.10/dist-packages/sklearn/metrics/_classification.py:1344: UndefinedMetricWarning: Precision and F-score are ill-defined and being set to 0.0 in labels with no predicted samples. Use `zero_division` parameter to control this behavior.\n  _warn_prf(average, modifier, msg_start, len(result))\n/usr/local/lib/python3.10/dist-packages/sklearn/metrics/_classification.py:1344: UndefinedMetricWarning: Precision and F-score are ill-defined and being set to 0.0 in labels with no predicted samples. Use `zero_division` parameter to control this behavior.\n  _warn_prf(average, modifier, msg_start, len(result))\n/usr/local/lib/python3.10/dist-packages/sklearn/metrics/_classification.py:1344: UndefinedMetricWarning: Precision and F-score are ill-defined and being set to 0.0 in labels with no predicted samples. Use `zero_division` parameter to control this behavior.\n  _warn_prf(average, modifier, msg_start, len(result))\n/usr/local/lib/python3.10/dist-packages/sklearn/metrics/_classification.py:1344: UndefinedMetricWarning: Precision and F-score are ill-defined and being set to 0.0 in labels with no predicted samples. Use `zero_division` parameter to control this behavior.\n  _warn_prf(average, modifier, msg_start, len(result))\n/usr/local/lib/python3.10/dist-packages/sklearn/metrics/_classification.py:1344: UndefinedMetricWarning: Precision and F-score are ill-defined and being set to 0.0 in labels with no predicted samples. Use `zero_division` parameter to control this behavior.\n  _warn_prf(average, modifier, msg_start, len(result))\n/usr/local/lib/python3.10/dist-packages/sklearn/metrics/_classification.py:1344: UndefinedMetricWarning: Precision and F-score are ill-defined and being set to 0.0 in labels with no predicted samples. Use `zero_division` parameter to control this behavior.\n  _warn_prf(average, modifier, msg_start, len(result))\n/usr/local/lib/python3.10/dist-packages/sklearn/metrics/_classification.py:1344: UndefinedMetricWarning: Precision and F-score are ill-defined and being set to 0.0 in labels with no predicted samples. Use `zero_division` parameter to control this behavior.\n  _warn_prf(average, modifier, msg_start, len(result))\n/usr/local/lib/python3.10/dist-packages/sklearn/metrics/_classification.py:1344: UndefinedMetricWarning: Precision and F-score are ill-defined and being set to 0.0 in labels with no predicted samples. Use `zero_division` parameter to control this behavior.\n  _warn_prf(average, modifier, msg_start, len(result))\n/usr/local/lib/python3.10/dist-packages/sklearn/metrics/_classification.py:1344: UndefinedMetricWarning: Precision and F-score are ill-defined and being set to 0.0 in labels with no predicted samples. Use `zero_division` parameter to control this behavior.\n  _warn_prf(average, modifier, msg_start, len(result))\n/usr/local/lib/python3.10/dist-packages/sklearn/metrics/_classification.py:1344: UndefinedMetricWarning: Precision and F-score are ill-defined and being set to 0.0 in labels with no predicted samples. Use `zero_division` parameter to control this behavior.\n  _warn_prf(average, modifier, msg_start, len(result))\n",
          "output_type": "stream"
        }
      ],
      "execution_count": null
    },
    {
      "cell_type": "code",
      "source": [
        "# Dự đoán với mô hình GRU + Conv\n",
        "y_pred_gru_conv = predict(model_gru_conv, embeddings['test'], verbose=1)\n",
        "\n",
        "# Đánh giá mô hình GRU + Conv\n",
        "evaluation_gru_conv = model_gru_conv.evaluate(embeddings['test'], label_test, verbose=1)\n",
        "\n",
        "# In ra các metrics từ quá trình đánh giá\n",
        "metrics_names = model_gru_conv.metrics_names\n",
        "for metric, value in zip(metrics_names, evaluation_gru_conv):\n",
        "    print(f\"{metric}: {value}\")\n"
      ],
      "metadata": {
        "colab": {
          "base_uri": "https://localhost:8080/"
        },
        "id": "JatsDrbQdtF0",
        "outputId": "5e83820c-2d01-4858-9517-9eb70ac37406",
        "trusted": true,
        "execution": {
          "iopub.status.busy": "2024-12-24T07:36:24.31359Z",
          "iopub.execute_input": "2024-12-24T07:36:24.31392Z",
          "iopub.status.idle": "2024-12-24T07:36:31.079901Z",
          "shell.execute_reply.started": "2024-12-24T07:36:24.313897Z",
          "shell.execute_reply": "2024-12-24T07:36:31.078998Z"
        }
      },
      "outputs": [
        {
          "name": "stdout",
          "text": "\u001b[1m2185/2185\u001b[0m \u001b[32m━━━━━━━━━━━━━━━━━━━━\u001b[0m\u001b[37m\u001b[0m \u001b[1m6s\u001b[0m 3ms/step\n\u001b[1m69/69\u001b[0m \u001b[32m━━━━━━━━━━━━━━━━━━━━\u001b[0m\u001b[37m\u001b[0m \u001b[1m0s\u001b[0m 3ms/step - accuracy: 0.9426 - loss: 0.1598\nloss: 0.1727970987558365\ncompile_metrics: 0.9384768009185791\n",
          "output_type": "stream"
        }
      ],
      "execution_count": null
    },
    {
      "cell_type": "code",
      "source": [
        "aspect_test = []\n",
        "aspect_pred = []\n",
        "\n",
        "for row_test, row_pred in zip(y_test_argmax, y_pred_gru_conv):\n",
        "    for index, (col_test, col_pred) in enumerate(zip(row_test, row_pred)):\n",
        "        aspect_test.append(bool(col_test) * categories[index])\n",
        "        aspect_pred.append(bool(col_pred) * categories[index])\n"
      ],
      "metadata": {
        "id": "oGDyy6cneUYz",
        "trusted": true,
        "execution": {
          "iopub.status.busy": "2024-12-24T07:36:35.955501Z",
          "iopub.execute_input": "2024-12-24T07:36:35.955821Z",
          "iopub.status.idle": "2024-12-24T07:36:35.988168Z",
          "shell.execute_reply.started": "2024-12-24T07:36:35.955794Z",
          "shell.execute_reply": "2024-12-24T07:36:35.987451Z"
        }
      },
      "outputs": [],
      "execution_count": null
    },
    {
      "cell_type": "code",
      "source": [
        "from sklearn.metrics import classification_report\n",
        "aspect_report = classification_report(aspect_test, aspect_pred, digits=4, zero_division=1, output_dict=True)\n",
        "print(classification_report(aspect_test, aspect_pred, digits=4, zero_division=1))"
      ],
      "metadata": {
        "colab": {
          "base_uri": "https://localhost:8080/"
        },
        "id": "oGshuohCe8CH",
        "outputId": "e8b17fca-bcf7-4ace-bc69-b5f92b22a5e6",
        "trusted": true,
        "execution": {
          "iopub.status.busy": "2024-12-24T07:36:38.122725Z",
          "iopub.execute_input": "2024-12-24T07:36:38.123061Z",
          "iopub.status.idle": "2024-12-24T07:36:38.403258Z",
          "shell.execute_reply.started": "2024-12-24T07:36:38.123032Z",
          "shell.execute_reply": "2024-12-24T07:36:38.402534Z"
        }
      },
      "outputs": [
        {
          "name": "stdout",
          "text": "              precision    recall  f1-score   support\n\n                 0.9652    0.9715    0.9684     13135\n     General     0.7338    0.7911    0.7613       742\n      others     0.4118    0.2059    0.2745        34\n     packing     0.9453    0.8407    0.8899       226\n       price     0.8688    0.6847    0.7658       203\n     quality     0.8390    0.7765    0.8065       604\n    shipping     0.9147    0.8355    0.8733       231\n       smell     0.9127    0.9583    0.9350       120\n\n    accuracy                         0.9455     15295\n   macro avg     0.8239    0.7580    0.7843     15295\nweighted avg     0.9450    0.9455    0.9448     15295\n\n",
          "output_type": "stream"
        }
      ],
      "execution_count": null
    },
    {
      "cell_type": "code",
      "source": [
        "from sklearn.metrics import classification_report\n",
        "aspect_report = classification_report(aspect_test, aspect_pred, digits=4, zero_division=1, output_dict=True)\n",
        "\n",
        "# Convert the dictionary to a pandas DataFrame\n",
        "aspect_report_df = pd.DataFrame(aspect_report).transpose()\n",
        "print(classification_report(aspect_test, aspect_pred, digits=4, zero_division=1))\n",
        "aspect_report_df.to_csv('/kaggle/working/aspect_gru_conv.csv')"
      ],
      "metadata": {
        "colab": {
          "base_uri": "https://localhost:8080/"
        },
        "id": "KfpI8TrFtZwH",
        "outputId": "9003c3d2-6fe8-4b4c-e2f8-21218a52d5c8",
        "trusted": true,
        "execution": {
          "iopub.status.busy": "2024-12-24T07:36:47.604326Z",
          "iopub.execute_input": "2024-12-24T07:36:47.604624Z",
          "iopub.status.idle": "2024-12-24T07:36:47.891641Z",
          "shell.execute_reply.started": "2024-12-24T07:36:47.6046Z",
          "shell.execute_reply": "2024-12-24T07:36:47.890883Z"
        }
      },
      "outputs": [
        {
          "name": "stdout",
          "text": "              precision    recall  f1-score   support\n\n                 0.9652    0.9715    0.9684     13135\n     General     0.7338    0.7911    0.7613       742\n      others     0.4118    0.2059    0.2745        34\n     packing     0.9453    0.8407    0.8899       226\n       price     0.8688    0.6847    0.7658       203\n     quality     0.8390    0.7765    0.8065       604\n    shipping     0.9147    0.8355    0.8733       231\n       smell     0.9127    0.9583    0.9350       120\n\n    accuracy                         0.9455     15295\n   macro avg     0.8239    0.7580    0.7843     15295\nweighted avg     0.9450    0.9455    0.9448     15295\n\n",
          "output_type": "stream"
        }
      ],
      "execution_count": null
    },
    {
      "cell_type": "markdown",
      "source": [
        "# GRU + LSTM + Conv"
      ],
      "metadata": {
        "id": "aPSjIvMafhyh"
      }
    },
    {
      "cell_type": "code",
      "source": [
        "import tensorflow as tf\n",
        "from tensorflow.keras.layers import Input, Bidirectional, LSTM, Dense, Dropout, TimeDistributed, RepeatVector, Conv1D\n",
        "from tensorflow.keras.optimizers import Adam\n",
        "from tensorflow.keras.callbacks import EarlyStopping\n",
        "\n",
        "def bilstm_conv(embedding_dim, num_aspects, output_dim, padded_aspect_train, padded_aspect_val, label_aspect_train, label_aspect_val, epochs=70, batch_size=128, callbacks=None, verbose=1):\n",
        "    # Define input layer\n",
        "    input_layer = Input(shape=(embedding_dim,))\n",
        "\n",
        "    # Expand dimensions to match the input shape requirement of the LSTM\n",
        "    input_expanded = RepeatVector(num_aspects)(input_layer)\n",
        "\n",
        "    # Define Bidirectional LSTM layer\n",
        "    lstm_layer = Bidirectional(LSTM(units=200, activation='tanh', return_sequences=True))(input_expanded)\n",
        "    conv_layer = Conv1D(128, kernel_size=1, padding=\"same\", kernel_initializer=\"he_uniform\")(lstm_layer)\n",
        "    avg_pool1 = GlobalAveragePooling1D()(conv_layer)\n",
        "    max_pool1 = GlobalMaxPooling1D()(conv_layer)\n",
        "\n",
        "    gru_layer = Bidirectional(GRU(units=200, activation='tanh', return_sequences=True))(input_expanded)\n",
        "    conv_layer = Conv1D(128, kernel_size=1, padding=\"valid\", kernel_initializer=\"he_uniform\")(gru_layer)\n",
        "    avg_pool2 = GlobalAveragePooling1D()(conv_layer)\n",
        "    max_pool2 = GlobalMaxPooling1D()(conv_layer)\n",
        "\n",
        "\n",
        "    concat = Concatenate(axis=-1)([avg_pool1, max_pool1, avg_pool2, max_pool2])\n",
        "\n",
        "    # TimeDistributed layer to apply Dense layers across all time steps\n",
        "    aspect_dense2 = TimeDistributed(Dense(128, activation='relu'))(conv_layer)\n",
        "    aspect_dropout1 = TimeDistributed(Dropout(0.2))(aspect_dense2)\n",
        "    aspect_dense3 = TimeDistributed(Dense(64, activation='relu'))(aspect_dropout1)\n",
        "    aspect_dense4 = TimeDistributed(Dense(32, activation='relu'))(aspect_dense3)\n",
        "\n",
        "    # Output layer: num_aspects * output_dim units corresponding to 6 aspects with 4 categories each\n",
        "    aspect_dense5 = TimeDistributed(Dense(units=4, activation='softmax'))(aspect_dense4)\n",
        "\n",
        "    # Define and compile the model\n",
        "    aspect_model = tf.keras.Model(inputs=input_layer, outputs=aspect_dense5)\n",
        "    aspect_model.compile(optimizer=Adam(learning_rate=0.0001), loss='categorical_crossentropy', metrics=['accuracy'])\n",
        "\n",
        "    # Define callback for early stopping\n",
        "    callback = EarlyStopping(monitor='val_loss', patience=3)\n",
        "    # Train the model\n",
        "    history = aspect_model.fit(\n",
        "        x=padded_aspect_train,\n",
        "        y=label_aspect_train,\n",
        "        validation_data=(padded_aspect_val, label_aspect_val),\n",
        "        batch_size=batch_size,\n",
        "        epochs=epochs,\n",
        "        callbacks=callbacks if callbacks else [callback],\n",
        "        verbose=verbose\n",
        "    )\n",
        "\n",
        "    return aspect_model, history\n",
        "\n",
        "# Example usage\n",
        "embedding_dim = 768\n",
        "num_aspects = 7\n",
        "output_dim = 4\n",
        "\n",
        "# Example placeholders for embeddings and labels\n",
        "padded_aspect_train = embeddings['train']\n",
        "padded_aspect_val = embeddings['val']\n",
        "label_aspect_train = label_train\n",
        "label_aspect_val = label_val\n",
        "\n",
        "callback = EarlyStopping(monitor='val_loss', patience=5)\n",
        "model_lstm_gru_conv, history_lstm_gru_conv = bilstm_conv(embedding_dim, num_aspects, output_dim, padded_aspect_train, padded_aspect_val, label_aspect_train, label_aspect_val, epochs=200, batch_size=128, callbacks=[callback], verbose=1)\n"
      ],
      "metadata": {
        "colab": {
          "base_uri": "https://localhost:8080/"
        },
        "id": "4a-TE0r9fhcX",
        "outputId": "9790d2ea-46c9-4515-cf1a-d9c292329360",
        "trusted": true,
        "execution": {
          "iopub.status.busy": "2024-12-24T07:37:08.623506Z",
          "iopub.execute_input": "2024-12-24T07:37:08.623925Z",
          "iopub.status.idle": "2024-12-24T07:37:38.6614Z",
          "shell.execute_reply.started": "2024-12-24T07:37:08.623892Z",
          "shell.execute_reply": "2024-12-24T07:37:38.660523Z"
        }
      },
      "outputs": [
        {
          "name": "stdout",
          "text": "Epoch 1/200\n\u001b[1m80/80\u001b[0m \u001b[32m━━━━━━━━━━━━━━━━━━━━\u001b[0m\u001b[37m\u001b[0m \u001b[1m6s\u001b[0m 18ms/step - accuracy: 0.8229 - loss: 0.7476 - val_accuracy: 0.8588 - val_loss: 0.4547\nEpoch 2/200\n\u001b[1m80/80\u001b[0m \u001b[32m━━━━━━━━━━━━━━━━━━━━\u001b[0m\u001b[37m\u001b[0m \u001b[1m1s\u001b[0m 11ms/step - accuracy: 0.8599 - loss: 0.4606 - val_accuracy: 0.8588 - val_loss: 0.4244\nEpoch 3/200\n\u001b[1m80/80\u001b[0m \u001b[32m━━━━━━━━━━━━━━━━━━━━\u001b[0m\u001b[37m\u001b[0m \u001b[1m1s\u001b[0m 11ms/step - accuracy: 0.8601 - loss: 0.4268 - val_accuracy: 0.8669 - val_loss: 0.3743\nEpoch 4/200\n\u001b[1m80/80\u001b[0m \u001b[32m━━━━━━━━━━━━━━━━━━━━\u001b[0m\u001b[37m\u001b[0m \u001b[1m1s\u001b[0m 11ms/step - accuracy: 0.8697 - loss: 0.3670 - val_accuracy: 0.8970 - val_loss: 0.3040\nEpoch 5/200\n\u001b[1m80/80\u001b[0m \u001b[32m━━━━━━━━━━━━━━━━━━━━\u001b[0m\u001b[37m\u001b[0m \u001b[1m1s\u001b[0m 11ms/step - accuracy: 0.8958 - loss: 0.2946 - val_accuracy: 0.9130 - val_loss: 0.2530\nEpoch 6/200\n\u001b[1m80/80\u001b[0m \u001b[32m━━━━━━━━━━━━━━━━━━━━\u001b[0m\u001b[37m\u001b[0m \u001b[1m1s\u001b[0m 11ms/step - accuracy: 0.9140 - loss: 0.2485 - val_accuracy: 0.9224 - val_loss: 0.2288\nEpoch 7/200\n\u001b[1m80/80\u001b[0m \u001b[32m━━━━━━━━━━━━━━━━━━━━\u001b[0m\u001b[37m\u001b[0m \u001b[1m1s\u001b[0m 11ms/step - accuracy: 0.9200 - loss: 0.2291 - val_accuracy: 0.9247 - val_loss: 0.2166\nEpoch 8/200\n\u001b[1m80/80\u001b[0m \u001b[32m━━━━━━━━━━━━━━━━━━━━\u001b[0m\u001b[37m\u001b[0m \u001b[1m1s\u001b[0m 11ms/step - accuracy: 0.9277 - loss: 0.2129 - val_accuracy: 0.9314 - val_loss: 0.2026\nEpoch 9/200\n\u001b[1m80/80\u001b[0m \u001b[32m━━━━━━━━━━━━━━━━━━━━\u001b[0m\u001b[37m\u001b[0m \u001b[1m1s\u001b[0m 11ms/step - accuracy: 0.9336 - loss: 0.1949 - val_accuracy: 0.9285 - val_loss: 0.1992\nEpoch 10/200\n\u001b[1m80/80\u001b[0m \u001b[32m━━━━━━━━━━━━━━━━━━━━\u001b[0m\u001b[37m\u001b[0m \u001b[1m1s\u001b[0m 11ms/step - accuracy: 0.9345 - loss: 0.1874 - val_accuracy: 0.9354 - val_loss: 0.1888\nEpoch 11/200\n\u001b[1m80/80\u001b[0m \u001b[32m━━━━━━━━━━━━━━━━━━━━\u001b[0m\u001b[37m\u001b[0m \u001b[1m1s\u001b[0m 11ms/step - accuracy: 0.9401 - loss: 0.1736 - val_accuracy: 0.9368 - val_loss: 0.1825\nEpoch 12/200\n\u001b[1m80/80\u001b[0m \u001b[32m━━━━━━━━━━━━━━━━━━━━\u001b[0m\u001b[37m\u001b[0m \u001b[1m1s\u001b[0m 11ms/step - accuracy: 0.9390 - loss: 0.1716 - val_accuracy: 0.9375 - val_loss: 0.1833\nEpoch 13/200\n\u001b[1m80/80\u001b[0m \u001b[32m━━━━━━━━━━━━━━━━━━━━\u001b[0m\u001b[37m\u001b[0m \u001b[1m1s\u001b[0m 11ms/step - accuracy: 0.9424 - loss: 0.1660 - val_accuracy: 0.9401 - val_loss: 0.1771\nEpoch 14/200\n\u001b[1m80/80\u001b[0m \u001b[32m━━━━━━━━━━━━━━━━━━━━\u001b[0m\u001b[37m\u001b[0m \u001b[1m1s\u001b[0m 11ms/step - accuracy: 0.9442 - loss: 0.1621 - val_accuracy: 0.9392 - val_loss: 0.1767\nEpoch 15/200\n\u001b[1m80/80\u001b[0m \u001b[32m━━━━━━━━━━━━━━━━━━━━\u001b[0m\u001b[37m\u001b[0m \u001b[1m1s\u001b[0m 11ms/step - accuracy: 0.9445 - loss: 0.1579 - val_accuracy: 0.9394 - val_loss: 0.1755\nEpoch 16/200\n\u001b[1m80/80\u001b[0m \u001b[32m━━━━━━━━━━━━━━━━━━━━\u001b[0m\u001b[37m\u001b[0m \u001b[1m1s\u001b[0m 11ms/step - accuracy: 0.9443 - loss: 0.1560 - val_accuracy: 0.9406 - val_loss: 0.1715\nEpoch 17/200\n\u001b[1m80/80\u001b[0m \u001b[32m━━━━━━━━━━━━━━━━━━━━\u001b[0m\u001b[37m\u001b[0m \u001b[1m1s\u001b[0m 11ms/step - accuracy: 0.9460 - loss: 0.1533 - val_accuracy: 0.9411 - val_loss: 0.1718\nEpoch 18/200\n\u001b[1m80/80\u001b[0m \u001b[32m━━━━━━━━━━━━━━━━━━━━\u001b[0m\u001b[37m\u001b[0m \u001b[1m1s\u001b[0m 11ms/step - accuracy: 0.9457 - loss: 0.1523 - val_accuracy: 0.9409 - val_loss: 0.1732\nEpoch 19/200\n\u001b[1m80/80\u001b[0m \u001b[32m━━━━━━━━━━━━━━━━━━━━\u001b[0m\u001b[37m\u001b[0m \u001b[1m1s\u001b[0m 11ms/step - accuracy: 0.9466 - loss: 0.1514 - val_accuracy: 0.9425 - val_loss: 0.1688\nEpoch 20/200\n\u001b[1m80/80\u001b[0m \u001b[32m━━━━━━━━━━━━━━━━━━━━\u001b[0m\u001b[37m\u001b[0m \u001b[1m1s\u001b[0m 11ms/step - accuracy: 0.9476 - loss: 0.1465 - val_accuracy: 0.9416 - val_loss: 0.1692\nEpoch 21/200\n\u001b[1m80/80\u001b[0m \u001b[32m━━━━━━━━━━━━━━━━━━━━\u001b[0m\u001b[37m\u001b[0m \u001b[1m1s\u001b[0m 11ms/step - accuracy: 0.9485 - loss: 0.1448 - val_accuracy: 0.9414 - val_loss: 0.1703\nEpoch 22/200\n\u001b[1m80/80\u001b[0m \u001b[32m━━━━━━━━━━━━━━━━━━━━\u001b[0m\u001b[37m\u001b[0m \u001b[1m1s\u001b[0m 11ms/step - accuracy: 0.9500 - loss: 0.1405 - val_accuracy: 0.9426 - val_loss: 0.1698\nEpoch 23/200\n\u001b[1m80/80\u001b[0m \u001b[32m━━━━━━━━━━━━━━━━━━━━\u001b[0m\u001b[37m\u001b[0m \u001b[1m1s\u001b[0m 11ms/step - accuracy: 0.9506 - loss: 0.1379 - val_accuracy: 0.9428 - val_loss: 0.1672\nEpoch 24/200\n\u001b[1m80/80\u001b[0m \u001b[32m━━━━━━━━━━━━━━━━━━━━\u001b[0m\u001b[37m\u001b[0m \u001b[1m1s\u001b[0m 11ms/step - accuracy: 0.9495 - loss: 0.1397 - val_accuracy: 0.9400 - val_loss: 0.1738\nEpoch 25/200\n\u001b[1m80/80\u001b[0m \u001b[32m━━━━━━━━━━━━━━━━━━━━\u001b[0m\u001b[37m\u001b[0m \u001b[1m1s\u001b[0m 11ms/step - accuracy: 0.9508 - loss: 0.1366 - val_accuracy: 0.9409 - val_loss: 0.1703\nEpoch 26/200\n\u001b[1m80/80\u001b[0m \u001b[32m━━━━━━━━━━━━━━━━━━━━\u001b[0m\u001b[37m\u001b[0m \u001b[1m1s\u001b[0m 11ms/step - accuracy: 0.9514 - loss: 0.1327 - val_accuracy: 0.9411 - val_loss: 0.1696\nEpoch 27/200\n\u001b[1m80/80\u001b[0m \u001b[32m━━━━━━━━━━━━━━━━━━━━\u001b[0m\u001b[37m\u001b[0m \u001b[1m1s\u001b[0m 11ms/step - accuracy: 0.9515 - loss: 0.1321 - val_accuracy: 0.9427 - val_loss: 0.1677\nEpoch 28/200\n\u001b[1m80/80\u001b[0m \u001b[32m━━━━━━━━━━━━━━━━━━━━\u001b[0m\u001b[37m\u001b[0m \u001b[1m1s\u001b[0m 11ms/step - accuracy: 0.9546 - loss: 0.1277 - val_accuracy: 0.9424 - val_loss: 0.1696\n",
          "output_type": "stream"
        }
      ],
      "execution_count": null
    },
    {
      "cell_type": "code",
      "source": [
        "# Dự đoán từ mô hình\n",
        "predictions = model_lstm_gru_conv.predict(embeddings['test'])\n",
        "predicted_labels = np.argmax(predictions, axis=-1)\n",
        "true_labels = np.argmax(label_test, axis=-1)\n",
        "\n",
        "# Khởi tạo DataFrame để lưu kết quả\n",
        "output_lstm_GRU_conv = pd.DataFrame()\n",
        "\n",
        "# Lặp qua từng aspect\n",
        "for i in range(num_aspects):\n",
        "    aspect_name = data_train.columns[i+1]\n",
        "    print(f\"\\nEvaluating aspect: {aspect_name}\")\n",
        "\n",
        "    # Kiểm tra classes có trong dữ liệu của aspect hiện tại\n",
        "    current_true_classes = np.unique(true_labels[:, i])\n",
        "    current_pred_classes = np.unique(predicted_labels[:, i])\n",
        "    current_classes = np.unique(np.concatenate([current_true_classes, current_pred_classes]))\n",
        "    print(f\"Classes in {aspect_name}: {current_classes}\")\n",
        "\n",
        "    # Tạo target_names và labels tương ứng\n",
        "    aspect_target_names = []\n",
        "    labels = []\n",
        "    all_names = ['None', 'Negative', 'Neutral', 'Positive']\n",
        "    for idx in current_classes:\n",
        "        labels.append(idx)\n",
        "        aspect_target_names.append(all_names[idx])\n",
        "\n",
        "    # Tạo classification report với labels đã xác định\n",
        "    report = classification_report(true_labels[:, i], predicted_labels[:, i],\n",
        "                                 labels=labels,\n",
        "                                 target_names=aspect_target_names,\n",
        "                                 output_dict=True)\n",
        "\n",
        "    # Tạo DataFrame từ report và thêm tên aspect\n",
        "    aspect_report_df = pd.DataFrame(report).transpose()\n",
        "    aspect_report_df['Aspect'] = aspect_name\n",
        "\n",
        "    # Gộp với DataFrame chính\n",
        "    output_lstm_GRU_conv = pd.concat([output_lstm_GRU_conv, aspect_report_df], ignore_index=False)\n",
        "    print(aspect_report_df)\n",
        "\n",
        "# Lưu kết quả\n",
        "output_lstm_GRU_conv.to_csv('/kaggle/working/sentiment_lstm_GRU_conv.csv', index=True)"
      ],
      "metadata": {
        "colab": {
          "base_uri": "https://localhost:8080/"
        },
        "id": "QJzP8FWyfCpM",
        "outputId": "567f0605-d519-4802-e823-e03eb3d2dee5",
        "trusted": true,
        "execution": {
          "iopub.status.busy": "2024-12-24T07:38:25.728089Z",
          "iopub.execute_input": "2024-12-24T07:38:25.728419Z",
          "iopub.status.idle": "2024-12-24T07:38:26.069342Z",
          "shell.execute_reply.started": "2024-12-24T07:38:25.728395Z",
          "shell.execute_reply": "2024-12-24T07:38:26.068383Z"
        }
      },
      "outputs": [
        {
          "name": "stdout",
          "text": "\u001b[1m69/69\u001b[0m \u001b[32m━━━━━━━━━━━━━━━━━━━━\u001b[0m\u001b[37m\u001b[0m \u001b[1m0s\u001b[0m 2ms/step\n\nEvaluating aspect: General\nClasses in General: [0 1 2 3]\n              precision    recall  f1-score     support   Aspect\nNone           0.862517  0.873874  0.868158  1443.00000  General\nNegative       0.387097  0.413793  0.400000    29.00000  General\nNeutral        0.500000  0.177419  0.261905    62.00000  General\nPositive       0.711940  0.732719  0.722180   651.00000  General\naccuracy       0.805950  0.805950  0.805950     0.80595  General\nmacro avg      0.615389  0.549451  0.563061  2185.00000  General\nweighted avg   0.801058  0.805950  0.801249  2185.00000  General\n\nEvaluating aspect: others\nClasses in others: [0 2 3]\n              precision    recall  f1-score      support  Aspect\nNone           0.987523  0.993491  0.990498  2151.000000  others\nNeutral        0.333333  0.190476  0.242424    21.000000  others\nPositive       0.000000  0.000000  0.000000    13.000000  others\naccuracy       0.979863  0.979863  0.979863     0.979863  others\nmacro avg      0.440285  0.394656  0.410974  2185.000000  others\nweighted avg   0.975360  0.979863  0.977415  2185.000000  others\n\nEvaluating aspect: packing\nClasses in packing: [0 1 2 3]\n              precision    recall  f1-score      support   Aspect\nNone           0.984256  0.989280  0.986762  1959.000000  packing\nNegative       0.781250  0.714286  0.746269    35.000000  packing\nNeutral        0.000000  0.000000  0.000000     3.000000  packing\nPositive       0.885870  0.867021  0.876344   188.000000  packing\naccuracy       0.972998  0.972998  0.972998     0.972998  packing\nmacro avg      0.662844  0.642647  0.652344  2185.000000  packing\nweighted avg   0.971187  0.972998  0.972054  2185.000000  packing\n\nEvaluating aspect: price\nClasses in price: [0 1 2 3]\n              precision    recall  f1-score      support Aspect\nNone           0.977319  0.978305  0.977811  1982.000000  price\nNegative       0.500000  0.375000  0.428571     8.000000  price\nNeutral        0.000000  0.000000  0.000000     2.000000  price\nPositive       0.764103  0.772021  0.768041   193.000000  price\naccuracy       0.956979  0.956979  0.956979     0.956979  price\nmacro avg      0.560355  0.531331  0.543606  2185.000000  price\nweighted avg   0.955843  0.956979  0.956377  2185.000000  price\n\nEvaluating aspect: quality\nClasses in quality: [0 1 2 3]\n              precision    recall  f1-score      support   Aspect\nNone           0.902425  0.965212  0.932763  1581.000000  quality\nNegative       0.387097  0.444444  0.413793    27.000000  quality\nNeutral        0.000000  0.000000  0.000000    20.000000  quality\nPositive       0.867679  0.718133  0.785855   557.000000  quality\naccuracy       0.886957  0.886957  0.886957     0.886957  quality\nmacro avg      0.539300  0.531947  0.533103  2185.000000  quality\nweighted avg   0.878939  0.886957  0.880362  2185.000000  quality\n\nEvaluating aspect: shipping\nClasses in shipping: [0 1 2 3]\n              precision    recall  f1-score      support    Aspect\nNone           0.981209  0.988741  0.984960  1954.000000  shipping\nNegative       0.684211  0.541667  0.604651    24.000000  shipping\nNeutral        0.000000  0.000000  0.000000     2.000000  shipping\nPositive       0.878173  0.843902  0.860697   205.000000  shipping\naccuracy       0.969336  0.969336  0.969336     0.969336  shipping\nmacro avg      0.635898  0.593578  0.612577  2185.000000  shipping\nweighted avg   0.967381  0.969336  0.968223  2185.000000  shipping\n\nEvaluating aspect: smell\nClasses in smell: [0 1 2 3]\n              precision    recall  f1-score      support Aspect\nNone           0.997089  0.995157  0.996122  2065.000000  smell\nNegative       0.833333  0.961538  0.892857    26.000000  smell\nNeutral        0.000000  0.000000  0.000000     6.000000  smell\nPositive       0.851064  0.909091  0.879121    88.000000  smell\naccuracy       0.988558  0.988558  0.988558     0.988558  smell\nmacro avg      0.670371  0.716447  0.692025  2185.000000  smell\nweighted avg   0.986521  0.988558  0.987446  2185.000000  smell\n",
          "output_type": "stream"
        },
        {
          "name": "stderr",
          "text": "/usr/local/lib/python3.10/dist-packages/sklearn/metrics/_classification.py:1344: UndefinedMetricWarning: Precision and F-score are ill-defined and being set to 0.0 in labels with no predicted samples. Use `zero_division` parameter to control this behavior.\n  _warn_prf(average, modifier, msg_start, len(result))\n/usr/local/lib/python3.10/dist-packages/sklearn/metrics/_classification.py:1344: UndefinedMetricWarning: Precision and F-score are ill-defined and being set to 0.0 in labels with no predicted samples. Use `zero_division` parameter to control this behavior.\n  _warn_prf(average, modifier, msg_start, len(result))\n/usr/local/lib/python3.10/dist-packages/sklearn/metrics/_classification.py:1344: UndefinedMetricWarning: Precision and F-score are ill-defined and being set to 0.0 in labels with no predicted samples. Use `zero_division` parameter to control this behavior.\n  _warn_prf(average, modifier, msg_start, len(result))\n/usr/local/lib/python3.10/dist-packages/sklearn/metrics/_classification.py:1344: UndefinedMetricWarning: Precision and F-score are ill-defined and being set to 0.0 in labels with no predicted samples. Use `zero_division` parameter to control this behavior.\n  _warn_prf(average, modifier, msg_start, len(result))\n/usr/local/lib/python3.10/dist-packages/sklearn/metrics/_classification.py:1344: UndefinedMetricWarning: Precision and F-score are ill-defined and being set to 0.0 in labels with no predicted samples. Use `zero_division` parameter to control this behavior.\n  _warn_prf(average, modifier, msg_start, len(result))\n/usr/local/lib/python3.10/dist-packages/sklearn/metrics/_classification.py:1344: UndefinedMetricWarning: Precision and F-score are ill-defined and being set to 0.0 in labels with no predicted samples. Use `zero_division` parameter to control this behavior.\n  _warn_prf(average, modifier, msg_start, len(result))\n/usr/local/lib/python3.10/dist-packages/sklearn/metrics/_classification.py:1344: UndefinedMetricWarning: Precision and F-score are ill-defined and being set to 0.0 in labels with no predicted samples. Use `zero_division` parameter to control this behavior.\n  _warn_prf(average, modifier, msg_start, len(result))\n/usr/local/lib/python3.10/dist-packages/sklearn/metrics/_classification.py:1344: UndefinedMetricWarning: Precision and F-score are ill-defined and being set to 0.0 in labels with no predicted samples. Use `zero_division` parameter to control this behavior.\n  _warn_prf(average, modifier, msg_start, len(result))\n/usr/local/lib/python3.10/dist-packages/sklearn/metrics/_classification.py:1344: UndefinedMetricWarning: Precision and F-score are ill-defined and being set to 0.0 in labels with no predicted samples. Use `zero_division` parameter to control this behavior.\n  _warn_prf(average, modifier, msg_start, len(result))\n/usr/local/lib/python3.10/dist-packages/sklearn/metrics/_classification.py:1344: UndefinedMetricWarning: Precision and F-score are ill-defined and being set to 0.0 in labels with no predicted samples. Use `zero_division` parameter to control this behavior.\n  _warn_prf(average, modifier, msg_start, len(result))\n/usr/local/lib/python3.10/dist-packages/sklearn/metrics/_classification.py:1344: UndefinedMetricWarning: Precision and F-score are ill-defined and being set to 0.0 in labels with no predicted samples. Use `zero_division` parameter to control this behavior.\n  _warn_prf(average, modifier, msg_start, len(result))\n/usr/local/lib/python3.10/dist-packages/sklearn/metrics/_classification.py:1344: UndefinedMetricWarning: Precision and F-score are ill-defined and being set to 0.0 in labels with no predicted samples. Use `zero_division` parameter to control this behavior.\n  _warn_prf(average, modifier, msg_start, len(result))\n",
          "output_type": "stream"
        }
      ],
      "execution_count": null
    },
    {
      "cell_type": "code",
      "source": [
        "# Dự đoán với mô hình LSTM + GRU + Conv\n",
        "y_pred_lstm_gru_conv = predict(model_lstm_gru_conv, embeddings['test'], verbose=1)\n",
        "\n",
        "# Đánh giá mô hình LSTM + GRU + Conv\n",
        "evaluation_lstm_gru_conv = model_lstm_gru_conv.evaluate(embeddings['test'], label_test, verbose=1)\n",
        "\n",
        "# In ra các metrics từ quá trình đánh giá\n",
        "metrics_names = model_lstm_gru_conv.metrics_names\n",
        "for metric, value in zip(metrics_names, evaluation_lstm_gru_conv):\n",
        "    print(f\"{metric}: {value}\")\n"
      ],
      "metadata": {
        "colab": {
          "base_uri": "https://localhost:8080/"
        },
        "id": "W3c7c7ylhFqW",
        "outputId": "36c3df64-5a9c-4efc-f990-335eba8f892a",
        "trusted": true,
        "execution": {
          "iopub.status.busy": "2024-12-24T07:38:49.349659Z",
          "iopub.execute_input": "2024-12-24T07:38:49.349947Z",
          "iopub.status.idle": "2024-12-24T07:38:56.001671Z",
          "shell.execute_reply.started": "2024-12-24T07:38:49.349925Z",
          "shell.execute_reply": "2024-12-24T07:38:56.000823Z"
        }
      },
      "outputs": [
        {
          "name": "stdout",
          "text": "\u001b[1m2185/2185\u001b[0m \u001b[32m━━━━━━━━━━━━━━━━━━━━\u001b[0m\u001b[37m\u001b[0m \u001b[1m6s\u001b[0m 3ms/step\n\u001b[1m69/69\u001b[0m \u001b[32m━━━━━━━━━━━━━━━━━━━━\u001b[0m\u001b[37m\u001b[0m \u001b[1m0s\u001b[0m 3ms/step - accuracy: 0.9415 - loss: 0.1615\nloss: 0.17516165971755981\ncompile_metrics: 0.9372344017028809\n",
          "output_type": "stream"
        }
      ],
      "execution_count": null
    },
    {
      "cell_type": "code",
      "source": [
        "aspect_test = []\n",
        "aspect_pred = []\n",
        "\n",
        "for row_test, row_pred in zip(y_test_argmax, y_pred_lstm_gru_conv):\n",
        "    for index, (col_test, col_pred) in enumerate(zip(row_test, row_pred)):\n",
        "        aspect_test.append(bool(col_test) * categories[index])\n",
        "        aspect_pred.append(bool(col_pred) * categories[index])\n"
      ],
      "metadata": {
        "id": "jKjlsLObg-em",
        "trusted": true,
        "execution": {
          "iopub.status.busy": "2024-12-24T07:38:59.2965Z",
          "iopub.execute_input": "2024-12-24T07:38:59.296841Z",
          "iopub.status.idle": "2024-12-24T07:38:59.329144Z",
          "shell.execute_reply.started": "2024-12-24T07:38:59.29681Z",
          "shell.execute_reply": "2024-12-24T07:38:59.328263Z"
        }
      },
      "outputs": [],
      "execution_count": null
    },
    {
      "cell_type": "code",
      "source": [
        "from sklearn.metrics import classification_report\n",
        "aspect_report = classification_report(aspect_test, aspect_pred, digits=4, zero_division=1, output_dict=True)\n",
        "\n",
        "# Convert the dictionary to a pandas DataFrame\n",
        "aspect_report_df = pd.DataFrame(aspect_report).transpose()\n",
        "print(classification_report(aspect_test, aspect_pred, digits=4, zero_division=1))\n",
        "aspect_report_df.to_csv('/kaggle/working/aspect_lstm_gru_conv.csv')"
      ],
      "metadata": {
        "colab": {
          "base_uri": "https://localhost:8080/"
        },
        "id": "4FZjvsfRhRsq",
        "outputId": "c8f8f771-e746-4868-bfac-8cb894d26e6a",
        "trusted": true,
        "execution": {
          "iopub.status.busy": "2024-12-24T07:39:10.354037Z",
          "iopub.execute_input": "2024-12-24T07:39:10.354404Z",
          "iopub.status.idle": "2024-12-24T07:39:10.635329Z",
          "shell.execute_reply.started": "2024-12-24T07:39:10.354371Z",
          "shell.execute_reply": "2024-12-24T07:39:10.634457Z"
        }
      },
      "outputs": [
        {
          "name": "stdout",
          "text": "              precision    recall  f1-score   support\n\n                 0.9615    0.9736    0.9675     13135\n     General     0.7483    0.7291    0.7386       742\n      others     0.3333    0.2059    0.2545        34\n     packing     0.9028    0.8628    0.8824       226\n       price     0.7861    0.7783    0.7822       203\n     quality     0.8887    0.7268    0.7996       604\n    shipping     0.8981    0.8398    0.8680       231\n       smell     0.9194    0.9500    0.9344       120\n\n    accuracy                         0.9438     15295\n   macro avg     0.8048    0.7583    0.7784     15295\nweighted avg     0.9424    0.9438    0.9427     15295\n\n",
          "output_type": "stream"
        }
      ],
      "execution_count": null
    },
    {
      "cell_type": "code",
      "source": [],
      "metadata": {
        "id": "RF-BQ1nYtuTa",
        "trusted": true
      },
      "outputs": [],
      "execution_count": null
    }
  ]
}